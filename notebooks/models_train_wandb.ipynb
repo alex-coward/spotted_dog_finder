{
  "cells": [
    {
      "cell_type": "markdown",
      "metadata": {
        "id": "mC0TTeK3MsPx"
      },
      "source": [
        "# Spotted!"
      ]
    },
    {
      "cell_type": "markdown",
      "metadata": {
        "id": "mFVw6H5PMsP1"
      },
      "source": [
        "AC215: Productionizing AI (MLOps)\n",
        "\n",
        "Sunil Chomal, Alex Coward, Olga Leushina, Jonathan Sessa"
      ]
    },
    {
      "cell_type": "markdown",
      "metadata": {
        "id": "yQwD-wySMsP3"
      },
      "source": [
        "## Model Training using WanDB"
      ]
    },
    {
      "cell_type": "markdown",
      "metadata": {
        "id": "sCI7sPLlor_e"
      },
      "source": [
        "##**I. Environment Setup**"
      ]
    },
    {
      "cell_type": "markdown",
      "metadata": {
        "id": "xGgQWC0IpZGr"
      },
      "source": [
        "###I-1 Installs"
      ]
    },
    {
      "cell_type": "code",
      "execution_count": null,
      "metadata": {
        "id": "OlpFSx6WpB1x",
        "colab": {
          "base_uri": "https://localhost:8080/"
        },
        "outputId": "3d527f17-c3b1-4da8-f22c-54eeee9bc9f7"
      },
      "outputs": [
        {
          "output_type": "stream",
          "name": "stdout",
          "text": [
            "\u001b[2K     \u001b[90m━━━━━━━━━━━━━━━━━━━━━━━━━━━━━━━━━━━━━━━━\u001b[0m \u001b[32m2.1/2.1 MB\u001b[0m \u001b[31m9.8 MB/s\u001b[0m eta \u001b[36m0:00:00\u001b[0m\n",
            "\u001b[2K     \u001b[90m━━━━━━━━━━━━━━━━━━━━━━━━━━━━━━━━━━━━━━━\u001b[0m \u001b[32m190.0/190.0 kB\u001b[0m \u001b[31m8.4 MB/s\u001b[0m eta \u001b[36m0:00:00\u001b[0m\n",
            "\u001b[2K     \u001b[90m━━━━━━━━━━━━━━━━━━━━━━━━━━━━━━━━━━━━━━\u001b[0m \u001b[32m224.8/224.8 kB\u001b[0m \u001b[31m11.6 MB/s\u001b[0m eta \u001b[36m0:00:00\u001b[0m\n",
            "\u001b[?25h  Preparing metadata (setup.py) ... \u001b[?25l\u001b[?25hdone\n",
            "\u001b[2K     \u001b[90m━━━━━━━━━━━━━━━━━━━━━━━━━━━━━━━━━━━━━━━━\u001b[0m \u001b[32m62.7/62.7 kB\u001b[0m \u001b[31m6.8 MB/s\u001b[0m eta \u001b[36m0:00:00\u001b[0m\n",
            "\u001b[?25h  Building wheel for pathtools (setup.py) ... \u001b[?25l\u001b[?25hdone\n"
          ]
        }
      ],
      "source": [
        "!pip install -q wandb"
      ]
    },
    {
      "cell_type": "markdown",
      "metadata": {
        "id": "Yp84-zTtpdk5"
      },
      "source": [
        "###I-2 Imports"
      ]
    },
    {
      "cell_type": "code",
      "execution_count": null,
      "metadata": {
        "id": "OjvHguEjMsP4"
      },
      "outputs": [],
      "source": [
        "# Plotting Libraries\n",
        "import matplotlib.pyplot as plt\n",
        "import seaborn as sns\n",
        "\n",
        "# Statistical Libraries\n",
        "import random as rn\n",
        "import numpy as np\n",
        "from scipy import stats as st\n",
        "\n",
        "# File and System Libraries\n",
        "import os\n",
        "import pickle\n",
        "import pathlib\n",
        "import time\n",
        "\n",
        "# TensorFlow Libraries\n",
        "import tensorflow as tf\n",
        "import tensorflow_datasets as tfds\n",
        "\n",
        "from tensorflow import keras\n",
        "from tensorflow.keras import layers\n",
        "from tensorflow.keras.layers import Conv2D, BatchNormalization, Activation, MaxPool2D, AveragePooling2D, GlobalAvgPool2D, Dense, Add, Flatten, Dropout, concatenate\n",
        "from tensorflow.keras.optimizers import Adam\n",
        "from tensorflow.keras.losses import CategoricalCrossentropy\n",
        "from tensorflow.keras.activations import relu\n",
        "from tensorflow.keras import Input\n",
        "from tensorflow.keras.models import Model\n",
        "from tensorflow.keras.preprocessing.image import ImageDataGenerator\n",
        "from tensorflow.keras.callbacks import EarlyStopping, ModelCheckpoint, ReduceLROnPlateau\n",
        "from tensorflow.python.keras import backend as K\n",
        "from tensorflow.keras.utils import to_categorical\n",
        "\n",
        "# SKLearn Dataset Management and Model Evaluation Libraries\n",
        "from sklearn.model_selection import train_test_split\n",
        "from sklearn.metrics import accuracy_score, confusion_matrix\n",
        "\n",
        "# Tensorflow Hub\n",
        "import tensorflow_hub as hub\n",
        "\n",
        "# W&B\n",
        "import wandb\n",
        "from wandb.keras import WandbCallback, WandbMetricsLogger\n",
        "\n"
      ]
    },
    {
      "cell_type": "markdown",
      "metadata": {
        "id": "xczHT4KhqjHB"
      },
      "source": [
        "###I-3 Verify setup"
      ]
    },
    {
      "cell_type": "code",
      "execution_count": null,
      "metadata": {
        "colab": {
          "base_uri": "https://localhost:8080/"
        },
        "id": "4ffOnpG-qnGj",
        "outputId": "cbff6786-0736-45c5-828d-5242eccee5c6"
      },
      "outputs": [
        {
          "output_type": "stream",
          "name": "stdout",
          "text": [
            "tensorflow version 2.13.0\n",
            "Eager Execution Enabled: True\n",
            "Number of replicas: 1\n",
            "Devices: [PhysicalDevice(name='/physical_device:CPU:0', device_type='CPU'), PhysicalDevice(name='/physical_device:GPU:0', device_type='GPU')]\n",
            "[LogicalDevice(name='/device:GPU:0', device_type='GPU')]\n",
            "GPU Available:  [PhysicalDevice(name='/physical_device:GPU:0', device_type='GPU')]\n",
            "All Physical Devices [PhysicalDevice(name='/physical_device:CPU:0', device_type='CPU'), PhysicalDevice(name='/physical_device:GPU:0', device_type='GPU')]\n"
          ]
        }
      ],
      "source": [
        "# Enable/Disable Eager Execution\n",
        "# Reference: https://www.tensorflow.org/guide/eager\n",
        "# TensorFlow's eager execution is an imperative programming environment that evaluates operations immediately,\n",
        "# without building graphs\n",
        "\n",
        "#tf.compat.v1.disable_eager_execution()\n",
        "#tf.compat.v1.enable_eager_execution()\n",
        "\n",
        "print(\"tensorflow version\", tf.__version__)\n",
        "print(\"Eager Execution Enabled:\", tf.executing_eagerly())\n",
        "\n",
        "# Get the number of replicas\n",
        "strategy = tf.distribute.MirroredStrategy()\n",
        "print(\"Number of replicas:\", strategy.num_replicas_in_sync)\n",
        "\n",
        "devices = tf.config.experimental.get_visible_devices()\n",
        "print(\"Devices:\", devices)\n",
        "print(tf.config.experimental.list_logical_devices('GPU'))\n",
        "\n",
        "print(\"GPU Available: \", tf.config.list_physical_devices('GPU'))\n",
        "print(\"All Physical Devices\", tf.config.list_physical_devices())"
      ]
    },
    {
      "cell_type": "code",
      "execution_count": null,
      "metadata": {
        "colab": {
          "base_uri": "https://localhost:8080/"
        },
        "id": "rUocQG5Bqt_w",
        "outputId": "27d43a95-d3b1-41ea-c021-b4fa6e981258"
      },
      "outputs": [
        {
          "output_type": "stream",
          "name": "stdout",
          "text": [
            "Fri Oct  6 09:58:06 2023       \n",
            "+-----------------------------------------------------------------------------+\n",
            "| NVIDIA-SMI 525.105.17   Driver Version: 525.105.17   CUDA Version: 12.0     |\n",
            "|-------------------------------+----------------------+----------------------+\n",
            "| GPU  Name        Persistence-M| Bus-Id        Disp.A | Volatile Uncorr. ECC |\n",
            "| Fan  Temp  Perf  Pwr:Usage/Cap|         Memory-Usage | GPU-Util  Compute M. |\n",
            "|                               |                      |               MIG M. |\n",
            "|===============================+======================+======================|\n",
            "|   0  Tesla T4            Off  | 00000000:00:04.0 Off |                    0 |\n",
            "| N/A   58C    P0    28W /  70W |    361MiB / 15360MiB |      0%      Default |\n",
            "|                               |                      |                  N/A |\n",
            "+-------------------------------+----------------------+----------------------+\n",
            "                                                                               \n",
            "+-----------------------------------------------------------------------------+\n",
            "| Processes:                                                                  |\n",
            "|  GPU   GI   CI        PID   Type   Process name                  GPU Memory |\n",
            "|        ID   ID                                                   Usage      |\n",
            "|=============================================================================|\n",
            "+-----------------------------------------------------------------------------+\n"
          ]
        }
      ],
      "source": [
        "!nvidia-smi"
      ]
    },
    {
      "cell_type": "code",
      "source": [
        "# Code that will be useful for serverless\n",
        "# Create a MirroredStrategy.\n",
        "# strategy = tf.distribute.MirroredStrategy()\n",
        "# print('Number of devices: {}'.format(strategy.num_replicas_in_sync))\n",
        "\n",
        "# Open a strategy scope.\n",
        "# with strategy.scope():\n",
        "  # Everything that creates variables should be under the strategy scope.\n",
        "  # In general this is only model construction & `compile()`.\n",
        "#  model = Model(...)\n",
        "#  model.compile(...)\n",
        "\n",
        "# Train the model on all available devices.\n",
        "# model.fit(train_dataset, validation_data=val_dataset, ...)\n",
        "\n",
        "# Test the model on all available devices.\n",
        "# model.evaluate(test_dataset)"
      ],
      "metadata": {
        "id": "uizUyitUsmGB"
      },
      "execution_count": 14,
      "outputs": []
    },
    {
      "cell_type": "markdown",
      "metadata": {
        "id": "ihkydCKPq85M"
      },
      "source": [
        "####I-4 Connect to Drive for saving of models during training and experimentation"
      ]
    },
    {
      "cell_type": "markdown",
      "metadata": {
        "id": "BZbZwHFygM1h"
      },
      "source": [
        "Model training was performed using Google Colab, with the weights and history for each model saved so the notebook can be edited and shared without having to re-train the models."
      ]
    },
    {
      "cell_type": "code",
      "execution_count": null,
      "metadata": {
        "id": "GRjWJa0-MsP8"
      },
      "outputs": [],
      "source": [
        "# When True: Load model weights and history from saved data\n",
        "# When False: Train all models anew (in Google Colab)\n",
        "USE_SAVED_MODEL = False\n",
        "\n",
        "# Google Colab Specific Code for loading/saving models\n",
        "if USE_SAVED_MODEL:\n",
        "    from google.colab import drive\n",
        "\n",
        "    drive.mount('/content/gdrive')\n",
        "    path = \"/content/gdrive/MyDrive/spotted_project\"\n",
        "    os.chdir(path)\n",
        "\n",
        "    # Use GPU for model training\n",
        "    tf.config.set_visible_devices(tf.config.list_physical_devices('GPU'), 'GPU')\n",
        "\n",
        "else:\n",
        "    # Set working path to current directory\n",
        "    path = \"./\"\n",
        "    os.chdir(path)\n",
        "    os.getcwd()\n",
        "\n",
        "# Enable/Disable Eager Execution\n",
        "tf.compat.v1.enable_eager_execution()\n",
        "\n",
        "# Better performance with the tf.data API\n",
        "AUTOTUNE = tf.data.AUTOTUNE"
      ]
    },
    {
      "cell_type": "markdown",
      "metadata": {
        "id": "2pOfBIWiMsP9"
      },
      "source": [
        "##**II. Dataset load and analysis**"
      ]
    },
    {
      "cell_type": "markdown",
      "metadata": {
        "id": "S6NS945Rrpih"
      },
      "source": [
        "###II-1 Load data into tf records"
      ]
    },
    {
      "cell_type": "markdown",
      "metadata": {
        "id": "W8WS4wX8rpeT"
      },
      "source": []
    },
    {
      "cell_type": "markdown",
      "metadata": {
        "id": "mVvvr0qQMsP9"
      },
      "source": [
        "The Stanford Dogs dataset consists of 20,580 images of individual dogs classified among 120 different breeds."
      ]
    },
    {
      "cell_type": "code",
      "execution_count": null,
      "metadata": {
        "id": "EC6SjfVbMsP-",
        "colab": {
          "base_uri": "https://localhost:8080/",
          "height": 232,
          "referenced_widgets": [
            "15279486982d49f79e69e89923676249",
            "fb1a153e61fd46bab42fe0c1480b55a9",
            "b4cbd92debc1407693da17e7db940317",
            "4eec0c2480f948f298f6ca9f64045481",
            "0a35ea69579f409db2aea6cdbf4629ad",
            "afb11569fa9f48dfbe314063fa89124e",
            "a33d21b298a2481f84198f10af16597d",
            "2d4e088e19be4c7791d4a573a1959145",
            "de0b3831d8b1450bb46bc70e617110ae",
            "91535321321a41e2809a08580d96010c",
            "a883497132fd4cf2bc4d681d04b60e80",
            "4e54f2016bf34bd6b0fc30708c346b6f",
            "e16e0d794a4b4c1c93f33aad181dbb60",
            "933c673b499f440da49942f260eb4705",
            "e25b957e7b484f77adb21e7979f0c8a0",
            "2c82ee41021441f28c0b9ce95d968165",
            "1736df2ed24748d58cbf92da3cfd1b02",
            "91fe8ac0d5954509b915fceb7285fbf6",
            "f24c36e3d4dc434f88252375bc92978f",
            "c640562dbd4c426087b29d46157af7dc",
            "1b86afab27d549a182f76a1d66354fd4",
            "797f1d7180d04ec9a1e9be506feefd5e",
            "753ca89bbaa24d9cab64ad2a72dd6fcf",
            "e61193c9b7b2468bb25c90586c52accb",
            "2c6d2b54a1444b9dbce3aee1879d04ad",
            "47c98bd3de9c4deaa010d729430137a8",
            "a5c352b2bf1c4bd8adbae11673c6c85a",
            "52752c2670244b4ba9e6a8b57b9745d6",
            "e0b955171bfd4a45af7b7a456f908b74",
            "ca085ddc39024e78a9539b1664a27965",
            "bdbb844849cd49a99e9add1127c7c7ee",
            "c0999a04132b42b7a482fe73fa659e2e",
            "0f57b26c990c4607bccf60d0881ce3d6",
            "82d98c9732a5474f97e2782823502a70",
            "dec1265d374f4bf580186a91caf25182",
            "031ef95cce3d48c4912877cf143c6c8e",
            "e900bf32d2164e5e8db9309ae96ac7c6",
            "60b858888b5947e39bc4a42f0651844d",
            "500d507ab7364339ba51d46b670c5003",
            "62f211038836422b9d506e8908c8b55a",
            "5890de227bc147b98c051934f5d4ea2e",
            "85a7387df3fc4cd993a4a6e93d770673",
            "e11b685250874d8b933f7565ea0cb8f8",
            "e919f678e5274a1fba56cb18a66bfbfc",
            "8b2aded842de432f824fdc3d54ae4bd2",
            "3bfe31e429cd4293b6f5edb56a39230e",
            "7be923cebdcd449fa46050323332a19a",
            "0ea6a4b11cbb4341978a99eb600b42fe",
            "4d63d701b6254912908df864ac22958d",
            "2f7262d35ad54826b2c4c0e14017cd9e",
            "f0f3552a060545189bd10a6d107ba060",
            "4f815ae65519401993b38621ab63b7ff",
            "1540659db1aa4c20b2ec9d0fcfadedca",
            "bb6fc91980a44849a0800a8d57483631",
            "612bc04724054b299bf956c6091a6e9d",
            "5ee78c5e02a2464385d6deed08a74ade",
            "82da6d90e27d40df8d67fbbdf4e7c799",
            "f19ef7dd16ec47e0888ad02a2f995d1d",
            "8dcb21de076c4e7387f17294296cebbe",
            "897a61193d9b4f6d98323a46020bc1c9",
            "77e9f15ebc6b486591563a9e5aaa73b6",
            "bbac5251de15416d9c6c7b53c2e4e88a",
            "4186a3f0c0fb4281a85c772849724933",
            "e2229a0cbb39469bb920148800b3f6c8",
            "c50a68f4e37441c3a13c3efce9a03f23",
            "485491ba8a8b401583c754354007d63e",
            "d00dc47e63c3402eb639c7df0c43eb5e",
            "9e2576aab9284ebe9aa20089c334e014",
            "6cf57c82362b4f40827e0898ce28a42c",
            "8364cb014d674688b479140926de7331",
            "1aaee8e5e4434995b8ef232b30fd2295",
            "eafd25b2a2024c7baeae2fccdfc0c559",
            "e61fdd2fbafe4e5b85d672cb6d0958a4",
            "1a4e7729e4824e5b80e2ad824225492b",
            "e3da37546ba4427ab0c9f0a05ed1bd97",
            "36491800e949437794b2094014a401bb",
            "80736e3cb93e4cf6b2960cf21e70011c",
            "b66687657e8545269e852bc87d8724d3",
            "e37e32e19434498dae0146d87956da6c",
            "c94077c8c20f47a1968c0b7a903b3e5c",
            "0d47a291e7b24a11b0b6c05c4eac29a8",
            "9173ad29175846c3b25b2e70df29ed59",
            "299cdd442ef94bb8838ab11d5d9187c8",
            "4247d0db2d2440f68f6700c194663c26",
            "9da22768bb7e4f54af2db031f56d2aaa",
            "70100ef7fbb34f9b8caba94ce8b17568",
            "e09c1222b9374586ba01fb36f050c123",
            "6d997a3fb428403f970e058d8a0a0bb0",
            "5aae79bd091c4d23addaa76ed4366879",
            "91a9ef98cd264c03b89b48e6da7a3bfb",
            "0e5f6467009f49daa4818ff13e3c0e60",
            "b0d03f3ce5fc4b16b71f4a26071d2845",
            "a4afa06e0fb04f7785de25e999c3cb99",
            "ee484e03f88d4da18bf3f435dfcd2b98",
            "d73bf90334124d3398857652534346af",
            "1e5c3e414a5a4c4e8796d1a100750876",
            "e1c6c127bb0f413bb01284010243da89",
            "96f9fde6ad64482ea0cecae14b7ed7ea",
            "88ea125a9542432a979b000c5a9e4246",
            "cf2e6dcbb87e4bc8b8e6584d45a56ecf",
            "30f05ea5f8fb4e55bf3ffdc2791f7bce",
            "108864050094488b91a1602393bf1ac2",
            "421e3430521d443dac7704ed4ce4ebfa",
            "014b7bc8c64a4fa48d680d30100d5f6f",
            "9df43870cf6d4d0cb0194550cfbacca8",
            "60d1cd4204d34685acc4efa4bca388f4",
            "58e99e967ccd47fc8612f02586faa726",
            "869c8d62963a4dcd9616968b64ca2a3c",
            "a2d0f690739e4cf38f4e05d9431c03ff",
            "b8d2a1cc92ee4a6ca3d22908596341b1"
          ]
        },
        "outputId": "1bd52f7e-efc2-4c42-97f1-c94f23154bb1"
      },
      "outputs": [
        {
          "output_type": "stream",
          "name": "stdout",
          "text": [
            "Downloading and preparing dataset 778.12 MiB (download: 778.12 MiB, generated: Unknown size, total: 778.12 MiB) to /root/tensorflow_datasets/stanford_dogs/0.2.0...\n"
          ]
        },
        {
          "output_type": "display_data",
          "data": {
            "text/plain": [
              "Dl Completed...: 0 url [00:00, ? url/s]"
            ],
            "application/vnd.jupyter.widget-view+json": {
              "version_major": 2,
              "version_minor": 0,
              "model_id": "15279486982d49f79e69e89923676249"
            }
          },
          "metadata": {}
        },
        {
          "output_type": "display_data",
          "data": {
            "text/plain": [
              "Dl Size...: 0 MiB [00:00, ? MiB/s]"
            ],
            "application/vnd.jupyter.widget-view+json": {
              "version_major": 2,
              "version_minor": 0,
              "model_id": "4e54f2016bf34bd6b0fc30708c346b6f"
            }
          },
          "metadata": {}
        },
        {
          "output_type": "display_data",
          "data": {
            "text/plain": [
              "Dl Completed...: 0 url [00:00, ? url/s]"
            ],
            "application/vnd.jupyter.widget-view+json": {
              "version_major": 2,
              "version_minor": 0,
              "model_id": "753ca89bbaa24d9cab64ad2a72dd6fcf"
            }
          },
          "metadata": {}
        },
        {
          "output_type": "display_data",
          "data": {
            "text/plain": [
              "Dl Size...: 0 MiB [00:00, ? MiB/s]"
            ],
            "application/vnd.jupyter.widget-view+json": {
              "version_major": 2,
              "version_minor": 0,
              "model_id": "82d98c9732a5474f97e2782823502a70"
            }
          },
          "metadata": {}
        },
        {
          "output_type": "display_data",
          "data": {
            "text/plain": [
              "Extraction completed...: 0 file [00:00, ? file/s]"
            ],
            "application/vnd.jupyter.widget-view+json": {
              "version_major": 2,
              "version_minor": 0,
              "model_id": "8b2aded842de432f824fdc3d54ae4bd2"
            }
          },
          "metadata": {}
        },
        {
          "output_type": "display_data",
          "data": {
            "text/plain": [
              "Generating splits...:   0%|          | 0/2 [00:00<?, ? splits/s]"
            ],
            "application/vnd.jupyter.widget-view+json": {
              "version_major": 2,
              "version_minor": 0,
              "model_id": "5ee78c5e02a2464385d6deed08a74ade"
            }
          },
          "metadata": {}
        },
        {
          "output_type": "display_data",
          "data": {
            "text/plain": [
              "Generating train examples...:   0%|          | 0/12000 [00:00<?, ? examples/s]"
            ],
            "application/vnd.jupyter.widget-view+json": {
              "version_major": 2,
              "version_minor": 0,
              "model_id": "d00dc47e63c3402eb639c7df0c43eb5e"
            }
          },
          "metadata": {}
        },
        {
          "output_type": "display_data",
          "data": {
            "text/plain": [
              "Shuffling /root/tensorflow_datasets/stanford_dogs/0.2.0.incompleteZB8XPI/stanford_dogs-train.tfrecord*...:   0…"
            ],
            "application/vnd.jupyter.widget-view+json": {
              "version_major": 2,
              "version_minor": 0,
              "model_id": "b66687657e8545269e852bc87d8724d3"
            }
          },
          "metadata": {}
        },
        {
          "output_type": "display_data",
          "data": {
            "text/plain": [
              "Generating test examples...:   0%|          | 0/8580 [00:00<?, ? examples/s]"
            ],
            "application/vnd.jupyter.widget-view+json": {
              "version_major": 2,
              "version_minor": 0,
              "model_id": "5aae79bd091c4d23addaa76ed4366879"
            }
          },
          "metadata": {}
        },
        {
          "output_type": "display_data",
          "data": {
            "text/plain": [
              "Shuffling /root/tensorflow_datasets/stanford_dogs/0.2.0.incompleteZB8XPI/stanford_dogs-test.tfrecord*...:   0%…"
            ],
            "application/vnd.jupyter.widget-view+json": {
              "version_major": 2,
              "version_minor": 0,
              "model_id": "cf2e6dcbb87e4bc8b8e6584d45a56ecf"
            }
          },
          "metadata": {}
        },
        {
          "output_type": "stream",
          "name": "stdout",
          "text": [
            "Dataset stanford_dogs downloaded and prepared to /root/tensorflow_datasets/stanford_dogs/0.2.0. Subsequent calls will reuse this data.\n"
          ]
        }
      ],
      "source": [
        "# Load data from TensorFlow Dataset\n",
        "ds, ds_info = tfds.load(\"stanford_dogs\",\n",
        "                        split=\"train\",\n",
        "                        shuffle_files=True,\n",
        "                        as_supervised=True,\n",
        "                        with_info=True)"
      ]
    },
    {
      "cell_type": "code",
      "execution_count": null,
      "metadata": {
        "id": "kqxzL7lOl3CE"
      },
      "outputs": [],
      "source": [
        "NUM_CLASSES = ds_info.features[\"label\"].num_classes"
      ]
    },
    {
      "cell_type": "markdown",
      "metadata": {
        "id": "69vGz7fJMsP-"
      },
      "source": [
        "###II-2 Exploratory Data Analysis"
      ]
    },
    {
      "cell_type": "markdown",
      "metadata": {
        "id": "QtrCKlDbgM1q"
      },
      "source": [
        "To better understand the images contained in the dataset and what preprocessing would be required, we examined the dimensionality of the images and checked for potential outliers."
      ]
    },
    {
      "cell_type": "code",
      "execution_count": null,
      "metadata": {
        "colab": {
          "base_uri": "https://localhost:8080/",
          "height": 428
        },
        "id": "POHszFF3Xg53",
        "outputId": "4d0a6b43-a068-4383-9ddc-9675653e56b8"
      },
      "outputs": [
        {
          "output_type": "display_data",
          "data": {
            "text/plain": [
              "<Figure size 640x480 with 9 Axes>"
            ],
            "image/png": "[encoded data removed]"
          },
          "metadata": {}
        }
      ],
      "source": [
        "# function to format labels (for Stanford dogs dataset)\n",
        "\n",
        "def format_label(label):\n",
        "    string_label = label_info.int2str(label)\n",
        "    return string_label.split(\"-\")[1]\n",
        "\n",
        "# show examples (Stanford dog-specific with conversion of labels to nice format)\n",
        "label_info = ds_info.features[\"label\"]\n",
        "for i, (image, label) in enumerate(ds.take(9)):\n",
        "    ax = plt.subplot(3, 3, i + 1)\n",
        "    plt.imshow(image.numpy().astype(\"uint8\"))\n",
        "    plt.title(\"{}\".format(format_label(label)))\n",
        "    plt.axis(\"off\")"
      ]
    },
    {
      "cell_type": "markdown",
      "metadata": {
        "id": "xiO_qjSDMsQC"
      },
      "source": [
        "#### Image Dimensions"
      ]
    },
    {
      "cell_type": "markdown",
      "metadata": {
        "id": "72lfPSS7MsQC"
      },
      "source": [
        "Each image in the dataset is of a different dog (or dogs) with different background information and orientations."
      ]
    },
    {
      "cell_type": "code",
      "execution_count": null,
      "metadata": {
        "colab": {
          "base_uri": "https://localhost:8080/"
        },
        "id": "BeTC8ShBMsQD",
        "outputId": "a9898f8b-ba9b-4ebd-d2e9-3ed019873701"
      },
      "outputs": [
        {
          "output_type": "stream",
          "name": "stdout",
          "text": [
            "Minimum Width: 103; Minimum Height: 97\n",
            "Maximum Width: 2560; Maximum Height: 2740\n"
          ]
        }
      ],
      "source": [
        "# Determine the widths and heights for all images\n",
        "ds_iter = iter(ds)\n",
        "\n",
        "widths, heights = [], []\n",
        "min_width, min_height = 500, 500\n",
        "max_width, max_height = 0, 0\n",
        "\n",
        "# Determine largest width and height\n",
        "for data in ds_iter:\n",
        "    img = data[0]\n",
        "\n",
        "    widths.append(img.shape[0])\n",
        "    min_width = min(min_width, img.shape[0])\n",
        "    max_width = max(max_width, img.shape[0])\n",
        "\n",
        "    heights.append(img.shape[1])\n",
        "    min_height = min(min_height, img.shape[1])\n",
        "    max_height = max(max_height, img.shape[1])\n",
        "\n",
        "print(f'Minimum Width: {min_width}; Minimum Height: {min_height}')\n",
        "print(f'Maximum Width: {max_width}; Maximum Height: {max_height}')"
      ]
    },
    {
      "cell_type": "code",
      "execution_count": null,
      "metadata": {
        "colab": {
          "base_uri": "https://localhost:8080/"
        },
        "id": "gzGoHmovMsQE",
        "outputId": "dd140a72-44a7-4f0f-c3a0-b3e149bcf454"
      },
      "outputs": [
        {
          "output_type": "stream",
          "name": "stdout",
          "text": [
            "Most Common Width: 375\n",
            "Most Common Height: 500\n"
          ]
        }
      ],
      "source": [
        "# Determine most common width and height\n",
        "widths = np.array(widths)\n",
        "heights = np.array(heights)\n",
        "\n",
        "w_mode = st.mode(widths, keepdims=False)[0]\n",
        "h_mode = st.mode(heights, keepdims=False)[0]\n",
        "\n",
        "print(f'Most Common Width: {w_mode}')\n",
        "print(f'Most Common Height: {h_mode}')"
      ]
    },
    {
      "cell_type": "code",
      "execution_count": null,
      "metadata": {
        "colab": {
          "base_uri": "https://localhost:8080/",
          "height": 472
        },
        "id": "xL4mT0cdMsQE",
        "outputId": "f8e7f29b-c73f-4be9-de8d-b5070a0a52e4"
      },
      "outputs": [
        {
          "output_type": "display_data",
          "data": {
            "text/plain": [
              "<Figure size 640x480 with 1 Axes>"
            ],
            "image/png": "[encoded data removed]"
          },
          "metadata": {}
        }
      ],
      "source": [
        "# View distribution of image dimensions\n",
        "plt.hist(widths, alpha=0.6, label='Width', bins=20)\n",
        "plt.hist(heights, alpha=0.6, label='Height', bins=20)\n",
        "plt.xlabel('Dimension (in pixels)')\n",
        "plt.ylabel('Image Count')\n",
        "plt.title('Histogram of Image Dimensions')\n",
        "plt.legend();"
      ]
    },
    {
      "cell_type": "markdown",
      "metadata": {
        "id": "VICmzbjHMsQF"
      },
      "source": [
        "The most common image dimensions are 375 pixels in width and 500 pixels in height. Depending on the model we choose, we will need to resize the images, but should use caution not to morph character features by changing the image aspect ratio."
      ]
    },
    {
      "cell_type": "markdown",
      "metadata": {
        "id": "fGInvhBgMsQO"
      },
      "source": [
        "###III-3 Data Preprocessing"
      ]
    },
    {
      "cell_type": "markdown",
      "metadata": {
        "id": "x_QZ7hvwMsQl"
      },
      "source": [
        "#### Image Resizing and Padding"
      ]
    },
    {
      "cell_type": "markdown",
      "metadata": {
        "id": "YoxgpRWeMsQo"
      },
      "source": [
        "Due to differences in image sizes, we must resize our images so they all have the same dimension. However, we also want to preserve the aspect ratio so we do not warp animal features. As a result, we apply padding to the images after resizing."
      ]
    },
    {
      "cell_type": "code",
      "execution_count": null,
      "metadata": {
        "id": "5mWWAA3WMsQp"
      },
      "outputs": [],
      "source": [
        "# Preprocess dataset to resize and normalize images\n",
        "IMG_SIZE = 224\n",
        "PAD_SIZE = 224\n",
        "BATCH_SIZE = 64\n",
        "\n",
        "# Resize image, pad to desired size, then normalize\n",
        "def preprocess(image, label):\n",
        "    # Resize image then pad to reach desired size\n",
        "    image = tf.image.resize(image, [IMG_SIZE, IMG_SIZE], preserve_aspect_ratio=True)\n",
        "    shape = tf.shape(image)\n",
        "    top_pad = (PAD_SIZE - shape[0]) // 2\n",
        "    left_pad = (PAD_SIZE - shape[1]) // 2\n",
        "    image = tf.image.pad_to_bounding_box(image, top_pad, left_pad, PAD_SIZE, PAD_SIZE)\n",
        "\n",
        "    # Convert value to float (for pre-processing)\n",
        "    image = tf.cast(image, tf.float32)\n",
        "\n",
        "    # One-hot categorical encoding for labels\n",
        "    label = tf.one_hot(label, NUM_CLASSES)\n",
        "\n",
        "    return image, label"
      ]
    },
    {
      "cell_type": "markdown",
      "metadata": {
        "id": "5lpo1z0NMsQp"
      },
      "source": [
        "##**III. Data Split with preprocessing**"
      ]
    },
    {
      "cell_type": "markdown",
      "metadata": {
        "id": "YODxzmgDMsQq"
      },
      "source": [
        "We are using a 70-15-15 split for our training, validation, and testing data. We apply our preprocessing function to each dataset, as well as cache, batch, and prefetch our training/validaiton data to speed up training."
      ]
    },
    {
      "cell_type": "code",
      "execution_count": null,
      "metadata": {
        "id": "0M-8yv-EMsQq"
      },
      "outputs": [],
      "source": [
        "tfds.disable_progress_bar()\n",
        "\n",
        "# Create a 70/15/15 train/validation/test split\n",
        "train_ds, val_ds, test_ds = tfds.load('stanford_dogs',\n",
        "                                      split=['train[:70%]', 'train[70%:85%]', 'train[85%:]'],\n",
        "                                      shuffle_files=True,\n",
        "                                      as_supervised=True)\n",
        "\n",
        "train_ds = (\n",
        "    train_ds\n",
        "    .cache()\n",
        "    .map(preprocess)\n",
        "    .batch(BATCH_SIZE)\n",
        "    .prefetch(AUTOTUNE)\n",
        ")\n",
        "\n",
        "val_ds = (\n",
        "    val_ds\n",
        "    .cache()\n",
        "    .map(preprocess)\n",
        "    .batch(BATCH_SIZE)\n",
        "    .prefetch(AUTOTUNE)\n",
        ")\n",
        "\n",
        "test_ds = (\n",
        "    test_ds\n",
        "    .map(preprocess)\n",
        "    .batch(BATCH_SIZE)\n",
        "    .prefetch(AUTOTUNE)\n",
        ")"
      ]
    },
    {
      "cell_type": "markdown",
      "metadata": {
        "id": "W914VnbtxN8W"
      },
      "source": [
        "##**IV. Experiment tracking**"
      ]
    },
    {
      "cell_type": "code",
      "execution_count": null,
      "metadata": {
        "colab": {
          "base_uri": "https://localhost:8080/",
          "height": 121
        },
        "id": "kwcsJ60lxWgx",
        "outputId": "dbde4e9c-b57a-4198-8786-a991a9b7038c"
      },
      "outputs": [
        {
          "output_type": "display_data",
          "data": {
            "text/plain": [
              "<IPython.core.display.Javascript object>"
            ],
            "application/javascript": [
              "\n",
              "        window._wandbApiKey = new Promise((resolve, reject) => {\n",
              "            function loadScript(url) {\n",
              "            return new Promise(function(resolve, reject) {\n",
              "                let newScript = document.createElement(\"script\");\n",
              "                newScript.onerror = reject;\n",
              "                newScript.onload = resolve;\n",
              "                document.body.appendChild(newScript);\n",
              "                newScript.src = url;\n",
              "            });\n",
              "            }\n",
              "            loadScript(\"https://cdn.jsdelivr.net/npm/postmate/build/postmate.min.js\").then(() => {\n",
              "            const iframe = document.createElement('iframe')\n",
              "            iframe.style.cssText = \"width:0;height:0;border:none\"\n",
              "            document.body.appendChild(iframe)\n",
              "            const handshake = new Postmate({\n",
              "                container: iframe,\n",
              "                url: 'https://wandb.ai/authorize'\n",
              "            });\n",
              "            const timeout = setTimeout(() => reject(\"Couldn't auto authenticate\"), 5000)\n",
              "            handshake.then(function(child) {\n",
              "                child.on('authorize', data => {\n",
              "                    clearTimeout(timeout)\n",
              "                    resolve(data)\n",
              "                });\n",
              "            });\n",
              "            })\n",
              "        });\n",
              "    "
            ]
          },
          "metadata": {}
        },
        {
          "output_type": "stream",
          "name": "stderr",
          "text": [
            "\u001b[34m\u001b[1mwandb\u001b[0m: Logging into wandb.ai. (Learn how to deploy a W&B server locally: https://wandb.me/wandb-server)\n",
            "\u001b[34m\u001b[1mwandb\u001b[0m: You can find your API key in your browser here: https://wandb.ai/authorize\n",
            "wandb: Paste an API key from your profile and hit enter, or press ctrl+c to quit:"
          ]
        },
        {
          "name": "stdout",
          "output_type": "stream",
          "text": [
            " ··········\n"
          ]
        },
        {
          "output_type": "stream",
          "name": "stderr",
          "text": [
            "\u001b[34m\u001b[1mwandb\u001b[0m: Appending key for api.wandb.ai to your netrc file: /root/.netrc\n"
          ]
        },
        {
          "output_type": "execute_result",
          "data": {
            "text/plain": [
              "True"
            ]
          },
          "metadata": {},
          "execution_count": 14
        }
      ],
      "source": [
        "# Login to W&B account\n",
        "wandb.login()"
      ]
    },
    {
      "cell_type": "markdown",
      "metadata": {
        "id": "dsTQ4ASQu3qb"
      },
      "source": [
        "##**V. MODELS**"
      ]
    },
    {
      "cell_type": "markdown",
      "metadata": {
        "id": "GmuEjkLn0Z6B"
      },
      "source": [
        "###V-0. Shared parameters for models below"
      ]
    },
    {
      "cell_type": "code",
      "execution_count": null,
      "metadata": {
        "id": "1yPRlQWU0spm"
      },
      "outputs": [],
      "source": [
        "project_name = \"Stanford-dogs breeds\""
      ]
    },
    {
      "cell_type": "markdown",
      "metadata": {
        "id": "J--hpkMuw24m"
      },
      "source": [
        "###V-1. EfficientNetV2"
      ]
    },
    {
      "cell_type": "markdown",
      "metadata": {
        "id": "K8EU4jR2MsQr"
      },
      "source": [
        "For this example, we chose to use EfficientNetV2 B0 as our base model. EfficientNetV2 has shown a high level of classification accuracy when compared to other models, but with a fraction of the parameters. The smaller size of EfficientNet also allows us to train faster (which allows for easier experimentation and hyperparameter tuning)."
      ]
    },
    {
      "cell_type": "markdown",
      "metadata": {
        "id": "C9bbqP5Yx3pB"
      },
      "source": [
        "#### EfficientNetV2 Model preparation"
      ]
    },
    {
      "cell_type": "code",
      "execution_count": null,
      "metadata": {
        "id": "_rmxSvtk5-lK"
      },
      "outputs": [],
      "source": [
        "model_name = \"EfficientNetV2_train_base\"\n",
        "learning_rate = 0.001\n",
        "image_width = 224\n",
        "image_height = 224\n",
        "num_channels = 3\n",
        "batch_size = 64\n",
        "epochs = 10\n",
        "optimizer=keras.optimizers.Adam()\n",
        "loss=CategoricalCrossentropy()"
      ]
    },
    {
      "cell_type": "code",
      "execution_count": null,
      "metadata": {
        "id": "2Qky4O5VMsQr",
        "colab": {
          "base_uri": "https://localhost:8080/"
        },
        "outputId": "613eb712-99d5-4e5d-c529-8d666e462e87"
      },
      "outputs": [
        {
          "output_type": "stream",
          "name": "stdout",
          "text": [
            "Downloading data from https://storage.googleapis.com/tensorflow/keras-applications/efficientnet_v2/efficientnetv2-b0_notop.h5\n",
            "24274472/24274472 [==============================] - 0s 0us/step\n"
          ]
        }
      ],
      "source": [
        "# Load EfficientNet V2 B0 from keras.applications\n",
        "base_model = keras.applications.EfficientNetV2B0(\n",
        "    include_top=False,\n",
        "    weights=\"imagenet\",\n",
        "    input_shape = (image_width, image_height, num_channels),\n",
        "    include_preprocessing=False\n",
        ")\n",
        "\n",
        "# Freeze model weights for baseline evaluation\n",
        "base_model.trainable = False"
      ]
    },
    {
      "cell_type": "markdown",
      "metadata": {
        "id": "782Vcs-kor_5"
      },
      "source": [
        "We freeze the weights of the base model, and apply a Global Average Pooling layer to reduce the dimensionality of the model's output. We then use a dense layer with the same number of classes we are trying to predict and softmax activation to train the model to generate a prediction probability for each breed."
      ]
    },
    {
      "cell_type": "code",
      "execution_count": null,
      "metadata": {
        "colab": {
          "base_uri": "https://localhost:8080/"
        },
        "id": "dLqxh8klMsQs",
        "outputId": "6280595b-383c-4fdf-f918-442fe9673b84"
      },
      "outputs": [
        {
          "output_type": "stream",
          "name": "stdout",
          "text": [
            "Model: \"EfficientNetV2_train_base\"\n",
            "_________________________________________________________________\n",
            " Layer (type)                Output Shape              Param #   \n",
            "=================================================================\n",
            " input_8 (InputLayer)        [(None, 224, 224, 3)]     0         \n",
            "                                                                 \n",
            " rescaling (Rescaling)       (None, 224, 224, 3)       0         \n",
            "                                                                 \n",
            " efficientnetv2-b0 (Functio  (None, 7, 7, 1280)        5919312   \n",
            " nal)                                                            \n",
            "                                                                 \n",
            " avg_pool (GlobalAveragePoo  (None, 1280)              0         \n",
            " ling2D)                                                         \n",
            "                                                                 \n",
            " batch_normalization (Batch  (None, 1280)              5120      \n",
            " Normalization)                                                  \n",
            "                                                                 \n",
            " prediction (Dense)          (None, 120)               153720    \n",
            "                                                                 \n",
            "=================================================================\n",
            "Total params: 6078152 (23.19 MB)\n",
            "Trainable params: 156280 (610.47 KB)\n",
            "Non-trainable params: 5921872 (22.59 MB)\n",
            "_________________________________________________________________\n"
          ]
        }
      ],
      "source": [
        "# Input Layer\n",
        "inputs = keras.Input(shape=(image_width, image_height, num_channels))\n",
        "\n",
        "# Scales input from (0, 255) to a range of (-1., +1.) for EfficientNet\n",
        "x = keras.layers.Rescaling(scale=1 / 127.5, offset=-1)(inputs)\n",
        "\n",
        "# EfficientNet Base model (freezing batch normalization layers)\n",
        "x = base_model(x, training=False)\n",
        "\n",
        "x = layers.GlobalAveragePooling2D(name=\"avg_pool\")(x)\n",
        "x = layers.BatchNormalization()(x)\n",
        "\n",
        "# One nodes for categorical classification\n",
        "outputs = keras.layers.Dense(NUM_CLASSES, activation=\"softmax\", name=\"prediction\")(x)\n",
        "\n",
        "# Create model\n",
        "model = keras.Model(inputs=inputs, outputs=outputs, name=model_name)\n",
        "\n",
        "# Output the model summary\n",
        "model.summary()\n",
        "\n",
        "# Compile the model\n",
        "model.compile(\n",
        "    optimizer=optimizer,\n",
        "    loss=loss,\n",
        "    metrics=[\"accuracy\"]\n",
        ")"
      ]
    },
    {
      "cell_type": "markdown",
      "metadata": {
        "id": "IPG6LLEF4k28"
      },
      "source": [
        "#### EfficientNetV2 Feature Extraction - train the top layer"
      ]
    },
    {
      "cell_type": "code",
      "execution_count": null,
      "metadata": {
        "colab": {
          "base_uri": "https://localhost:8080/",
          "height": 978
        },
        "id": "NKdjvz3AMsQs",
        "outputId": "b0856ed4-4db0-48d6-a359-23659635d760"
      },
      "outputs": [
        {
          "output_type": "display_data",
          "data": {
            "text/plain": [
              "<IPython.core.display.HTML object>"
            ],
            "text/html": [
              "Tracking run with wandb version 0.15.12"
            ]
          },
          "metadata": {}
        },
        {
          "output_type": "display_data",
          "data": {
            "text/plain": [
              "<IPython.core.display.HTML object>"
            ],
            "text/html": [
              "Run data is saved locally in <code>/content/wandb/run-20231006_121625-auoimydt</code>"
            ]
          },
          "metadata": {}
        },
        {
          "output_type": "display_data",
          "data": {
            "text/plain": [
              "<IPython.core.display.HTML object>"
            ],
            "text/html": [
              "Syncing run <strong><a href='https://wandb.ai/spotted-dog/Stanford-dogs%20breeds/runs/auoimydt' target=\"_blank\">EfficientNetV2_train_base</a></strong> to <a href='https://wandb.ai/spotted-dog/Stanford-dogs%20breeds' target=\"_blank\">Weights & Biases</a> (<a href='https://wandb.me/run' target=\"_blank\">docs</a>)<br/>"
            ]
          },
          "metadata": {}
        },
        {
          "output_type": "display_data",
          "data": {
            "text/plain": [
              "<IPython.core.display.HTML object>"
            ],
            "text/html": [
              " View project at <a href='https://wandb.ai/spotted-dog/Stanford-dogs%20breeds' target=\"_blank\">https://wandb.ai/spotted-dog/Stanford-dogs%20breeds</a>"
            ]
          },
          "metadata": {}
        },
        {
          "output_type": "display_data",
          "data": {
            "text/plain": [
              "<IPython.core.display.HTML object>"
            ],
            "text/html": [
              " View run at <a href='https://wandb.ai/spotted-dog/Stanford-dogs%20breeds/runs/auoimydt' target=\"_blank\">https://wandb.ai/spotted-dog/Stanford-dogs%20breeds/runs/auoimydt</a>"
            ]
          },
          "metadata": {}
        },
        {
          "output_type": "stream",
          "name": "stdout",
          "text": [
            "Epoch 1/10\n",
            "132/132 [==============================] - ETA: 0s - loss: 1.4654 - accuracy: 0.6352"
          ]
        },
        {
          "output_type": "stream",
          "name": "stderr",
          "text": [
            "/usr/local/lib/python3.10/dist-packages/keras/src/engine/training.py:3000: UserWarning: You are saving your model as an HDF5 file via `model.save()`. This file format is considered legacy. We recommend using instead the native Keras format, e.g. `model.save('my_model.keras')`.\n",
            "  saving_api.save_model(\n",
            "\u001b[34m\u001b[1mwandb\u001b[0m: Adding directory to artifact (/content/wandb/run-20231006_121625-auoimydt/files/model-best)... Done. 3.7s\n"
          ]
        },
        {
          "output_type": "stream",
          "name": "stdout",
          "text": [
            "\b\b\b\b\b\b\b\b\b\b\b\b\b\b\b\b\b\b\b\b\b\b\b\b\b\b\b\b\b\b\b\b\b\b\b\b\b\b\b\b\b\b\b\b\b\b\b\b\b\b\b\b\b\b\b\b\b\b\b\b\b\b\b\b\b\b\b\b\b\b\b\b\b\b\b\b\b\b\b\b\b\b\b\b\r132/132 [==============================] - 64s 404ms/step - loss: 1.4654 - accuracy: 0.6352 - val_loss: 1.2771 - val_accuracy: 0.7933\n",
            "Epoch 2/10\n",
            "131/132 [============================>.] - ETA: 0s - loss: 0.4265 - accuracy: 0.8707"
          ]
        },
        {
          "output_type": "stream",
          "name": "stderr",
          "text": [
            "/usr/local/lib/python3.10/dist-packages/keras/src/engine/training.py:3000: UserWarning: You are saving your model as an HDF5 file via `model.save()`. This file format is considered legacy. We recommend using instead the native Keras format, e.g. `model.save('my_model.keras')`.\n",
            "  saving_api.save_model(\n",
            "\u001b[34m\u001b[1mwandb\u001b[0m: Adding directory to artifact (/content/wandb/run-20231006_121625-auoimydt/files/model-best)... Done. 1.8s\n"
          ]
        },
        {
          "output_type": "stream",
          "name": "stdout",
          "text": [
            "\b\b\b\b\b\b\b\b\b\b\b\b\b\b\b\b\b\b\b\b\b\b\b\b\b\b\b\b\b\b\b\b\b\b\b\b\b\b\b\b\b\b\b\b\b\b\b\b\b\b\b\b\b\b\b\b\b\b\b\b\b\b\b\b\b\b\b\b\b\b\b\b\b\b\b\b\b\b\b\b\b\b\b\b\r132/132 [==============================] - 50s 380ms/step - loss: 0.4258 - accuracy: 0.8710 - val_loss: 0.7005 - val_accuracy: 0.8000\n",
            "Epoch 3/10\n",
            "131/132 [============================>.] - ETA: 0s - loss: 0.2367 - accuracy: 0.9423"
          ]
        },
        {
          "output_type": "stream",
          "name": "stderr",
          "text": [
            "/usr/local/lib/python3.10/dist-packages/keras/src/engine/training.py:3000: UserWarning: You are saving your model as an HDF5 file via `model.save()`. This file format is considered legacy. We recommend using instead the native Keras format, e.g. `model.save('my_model.keras')`.\n",
            "  saving_api.save_model(\n",
            "\u001b[34m\u001b[1mwandb\u001b[0m: Adding directory to artifact (/content/wandb/run-20231006_121625-auoimydt/files/model-best)... Done. 0.8s\n"
          ]
        },
        {
          "output_type": "stream",
          "name": "stdout",
          "text": [
            "\b\b\b\b\b\b\b\b\b\b\b\b\b\b\b\b\b\b\b\b\b\b\b\b\b\b\b\b\b\b\b\b\b\b\b\b\b\b\b\b\b\b\b\b\b\b\b\b\b\b\b\b\b\b\b\b\b\b\b\b\b\b\b\b\b\b\b\b\b\b\b\b\b\b\b\b\b\b\b\b\b\b\b\b\r132/132 [==============================] - 47s 357ms/step - loss: 0.2363 - accuracy: 0.9424 - val_loss: 0.6297 - val_accuracy: 0.8022\n",
            "Epoch 4/10\n",
            "132/132 [==============================] - 14s 107ms/step - loss: 0.1429 - accuracy: 0.9718 - val_loss: 0.6300 - val_accuracy: 0.8000\n",
            "Epoch 5/10\n",
            "132/132 [==============================] - 14s 108ms/step - loss: 0.0930 - accuracy: 0.9849 - val_loss: 0.6376 - val_accuracy: 0.8000\n",
            "Epoch 6/10\n",
            "132/132 [==============================] - 14s 107ms/step - loss: 0.0650 - accuracy: 0.9927 - val_loss: 0.6481 - val_accuracy: 0.8061\n",
            "Epoch 7/10\n",
            "132/132 [==============================] - 14s 107ms/step - loss: 0.0482 - accuracy: 0.9961 - val_loss: 0.6591 - val_accuracy: 0.8050\n",
            "Epoch 8/10\n",
            "132/132 [==============================] - 14s 108ms/step - loss: 0.0375 - accuracy: 0.9979 - val_loss: 0.6699 - val_accuracy: 0.8044\n",
            "Epoch 9/10\n",
            "132/132 [==============================] - 14s 107ms/step - loss: 0.0303 - accuracy: 0.9982 - val_loss: 0.6798 - val_accuracy: 0.8050\n",
            "Epoch 10/10\n",
            "132/132 [==============================] - 14s 107ms/step - loss: 0.0252 - accuracy: 0.9983 - val_loss: 0.6881 - val_accuracy: 0.8056\n",
            "Model weights and training history saved\n",
            "Training execution time (mins) 5.947090415159861\n"
          ]
        },
        {
          "output_type": "display_data",
          "data": {
            "text/plain": [
              "<IPython.core.display.HTML object>"
            ],
            "text/html": [
              "Waiting for W&B process to finish... <strong style=\"color:green\">(success).</strong>"
            ]
          },
          "metadata": {}
        },
        {
          "output_type": "display_data",
          "data": {
            "text/plain": [
              "<IPython.core.display.HTML object>"
            ],
            "text/html": [
              "<style>\n",
              "    table.wandb td:nth-child(1) { padding: 0 10px; text-align: left ; width: auto;} td:nth-child(2) {text-align: left ; width: 100%}\n",
              "    .wandb-row { display: flex; flex-direction: row; flex-wrap: wrap; justify-content: flex-start; width: 100% }\n",
              "    .wandb-col { display: flex; flex-direction: column; flex-basis: 100%; flex: 1; padding: 10px; }\n",
              "    </style>\n",
              "<div class=\"wandb-row\"><div class=\"wandb-col\"><h3>Run history:</h3><br/><table class=\"wandb\"><tr><td>accuracy</td><td>▁▆▇▇██████</td></tr><tr><td>epoch</td><td>▁▂▃▃▄▅▆▆▇█</td></tr><tr><td>loss</td><td>█▃▂▂▁▁▁▁▁▁</td></tr><tr><td>val_accuracy</td><td>▁▅▆▅▅█▇▇▇█</td></tr><tr><td>val_loss</td><td>█▂▁▁▁▁▁▁▂▂</td></tr></table><br/></div><div class=\"wandb-col\"><h3>Run summary:</h3><br/><table class=\"wandb\"><tr><td>accuracy</td><td>0.99833</td></tr><tr><td>best_epoch</td><td>2</td></tr><tr><td>best_val_loss</td><td>0.62972</td></tr><tr><td>epoch</td><td>9</td></tr><tr><td>loss</td><td>0.02515</td></tr><tr><td>val_accuracy</td><td>0.80556</td></tr><tr><td>val_loss</td><td>0.68808</td></tr></table><br/></div></div>"
            ]
          },
          "metadata": {}
        },
        {
          "output_type": "display_data",
          "data": {
            "text/plain": [
              "<IPython.core.display.HTML object>"
            ],
            "text/html": [
              " View run <strong style=\"color:#cdcd00\">EfficientNetV2_train_base</strong> at: <a href='https://wandb.ai/spotted-dog/Stanford-dogs%20breeds/runs/auoimydt' target=\"_blank\">https://wandb.ai/spotted-dog/Stanford-dogs%20breeds/runs/auoimydt</a><br/>Synced 5 W&B file(s), 1 media file(s), 15 artifact file(s) and 1 other file(s)"
            ]
          },
          "metadata": {}
        },
        {
          "output_type": "display_data",
          "data": {
            "text/plain": [
              "<IPython.core.display.HTML object>"
            ],
            "text/html": [
              "Find logs at: <code>./wandb/run-20231006_121625-auoimydt/logs</code>"
            ]
          },
          "metadata": {}
        }
      ],
      "source": [
        "# Initialize a W&B run\n",
        "wandb.init(\n",
        "    project = project_name,\n",
        "    config = {\n",
        "      \"learning_rate\": learning_rate,\n",
        "      \"epochs\": epochs,\n",
        "      \"batch_size\": batch_size,\n",
        "      \"model_name\": model_name\n",
        "    },\n",
        "    name = model_name\n",
        ")\n",
        "\n",
        "# Free up memory\n",
        "K.clear_session()\n",
        "\n",
        "# Track time\n",
        "start_time = time.time()\n",
        "if USE_SAVED_MODEL:\n",
        "    # Load saved weights and model history\n",
        "    model.load_weights(\"data/baseline_model\")\n",
        "\n",
        "    with open(\"data/baseline_model_hist.pickle\", \"rb\") as filehandler:\n",
        "        model_history = pickle.load(filehandler)\n",
        "\n",
        "    print(\"Model weights and training history successfully loaded\")\n",
        "\n",
        "else:\n",
        "    # Train the Model\n",
        "    model_history = model.fit(\n",
        "        train_ds,\n",
        "        epochs=epochs,\n",
        "        callbacks=[WandbCallback()],\n",
        "        validation_data=val_ds\n",
        "    )\n",
        "\n",
        "    # Create \"data\" directory if it does not yet exist\n",
        "    if not os.path.exists(\"data\"):\n",
        "        os.mkdir(\"data\")\n",
        "\n",
        "    # Save training history dict using pickle\n",
        "    with open(\"data/baseline_model_hist.pickle\", \"wb\") as filehandler:\n",
        "        model_history = model_history.history\n",
        "        pickle.dump(model_history, filehandler)\n",
        "\n",
        "    # Save model and weights for future use\n",
        "    model.save_weights(\"data/baseline_model\")\n",
        "\n",
        "    print(\"Model weights and training history saved\")\n",
        "\n",
        "execution_time = (time.time() - start_time)/60.0\n",
        "print(\"Training execution time (mins)\",execution_time)\n",
        "\n",
        "# Update W&B\n",
        "wandb.config.update({\"execution_time\": execution_time})\n",
        "\n",
        "# Close the W&B run\n",
        "wandb.run.finish()\n",
        "\n",
        "# Save execution time for summary\n",
        "EfficientNetV2_base_model_execution_time = execution_time"
      ]
    },
    {
      "cell_type": "markdown",
      "metadata": {
        "id": "FLaFb8LC-Wg2"
      },
      "source": [
        "#### EfficientNetV2 Fine-Tuning"
      ]
    },
    {
      "cell_type": "code",
      "execution_count": null,
      "metadata": {
        "colab": {
          "base_uri": "https://localhost:8080/",
          "height": 1000,
          "referenced_widgets": [
            "45b7ad6266ca4e8b9fe8225346e0acf0",
            "fd8aebdf61454674b0f6aa7f80e31c8a",
            "f751f42be03a4e2fbafb8d1f45ffa113",
            "97723d3520754070b13af305023750ba",
            "523930f4161042fb949d240481e58292",
            "1e3287a9040b4d9a9054a05d3d20bd99",
            "7e0029871d2d4ba4993452ec1081fa91",
            "f2cc3fd78aef478aa4cc73b7f7be3a42"
          ]
        },
        "id": "-qK0wTtn-2ZK",
        "outputId": "80d6c157-4971-46b9-9620-3734bc984e05"
      },
      "outputs": [
        {
          "output_type": "display_data",
          "data": {
            "text/plain": [
              "VBox(children=(Label(value='Waiting for wandb.init()...\\r'), FloatProgress(value=0.011112800577777509, max=1.0…"
            ],
            "application/vnd.jupyter.widget-view+json": {
              "version_major": 2,
              "version_minor": 0,
              "model_id": "45b7ad6266ca4e8b9fe8225346e0acf0"
            }
          },
          "metadata": {}
        },
        {
          "output_type": "display_data",
          "data": {
            "text/plain": [
              "<IPython.core.display.HTML object>"
            ],
            "text/html": [
              "Tracking run with wandb version 0.15.12"
            ]
          },
          "metadata": {}
        },
        {
          "output_type": "display_data",
          "data": {
            "text/plain": [
              "<IPython.core.display.HTML object>"
            ],
            "text/html": [
              "Run data is saved locally in <code>/content/wandb/run-20231006_122233-rlxi1blu</code>"
            ]
          },
          "metadata": {}
        },
        {
          "output_type": "display_data",
          "data": {
            "text/plain": [
              "<IPython.core.display.HTML object>"
            ],
            "text/html": [
              "Syncing run <strong><a href='https://wandb.ai/spotted-dog/Stanford-dogs%20breeds/runs/rlxi1blu' target=\"_blank\">EfficientNetV2_fine-tune</a></strong> to <a href='https://wandb.ai/spotted-dog/Stanford-dogs%20breeds' target=\"_blank\">Weights & Biases</a> (<a href='https://wandb.me/run' target=\"_blank\">docs</a>)<br/>"
            ]
          },
          "metadata": {}
        },
        {
          "output_type": "display_data",
          "data": {
            "text/plain": [
              "<IPython.core.display.HTML object>"
            ],
            "text/html": [
              " View project at <a href='https://wandb.ai/spotted-dog/Stanford-dogs%20breeds' target=\"_blank\">https://wandb.ai/spotted-dog/Stanford-dogs%20breeds</a>"
            ]
          },
          "metadata": {}
        },
        {
          "output_type": "display_data",
          "data": {
            "text/plain": [
              "<IPython.core.display.HTML object>"
            ],
            "text/html": [
              " View run at <a href='https://wandb.ai/spotted-dog/Stanford-dogs%20breeds/runs/rlxi1blu' target=\"_blank\">https://wandb.ai/spotted-dog/Stanford-dogs%20breeds/runs/rlxi1blu</a>"
            ]
          },
          "metadata": {}
        },
        {
          "output_type": "stream",
          "name": "stdout",
          "text": [
            "Model: \"EfficientNetV2_train_base\"\n",
            "_________________________________________________________________\n",
            " Layer (type)                Output Shape              Param #   \n",
            "=================================================================\n",
            " input_8 (InputLayer)        [(None, 224, 224, 3)]     0         \n",
            "                                                                 \n",
            " rescaling (Rescaling)       (None, 224, 224, 3)       0         \n",
            "                                                                 \n",
            " efficientnetv2-b0 (Functio  (None, 7, 7, 1280)        5919312   \n",
            " nal)                                                            \n",
            "                                                                 \n",
            " avg_pool (GlobalAveragePoo  (None, 1280)              0         \n",
            " ling2D)                                                         \n",
            "                                                                 \n",
            " batch_normalization (Batch  (None, 1280)              5120      \n",
            " Normalization)                                                  \n",
            "                                                                 \n",
            " prediction (Dense)          (None, 120)               153720    \n",
            "                                                                 \n",
            "=================================================================\n",
            "Total params: 6078152 (23.19 MB)\n",
            "Trainable params: 6014984 (22.95 MB)\n",
            "Non-trainable params: 63168 (246.75 KB)\n",
            "_________________________________________________________________\n",
            "Epoch 1/10\n",
            "132/132 [==============================] - ETA: 0s - loss: 0.0219 - accuracy: 0.9976"
          ]
        },
        {
          "output_type": "stream",
          "name": "stderr",
          "text": [
            "/usr/local/lib/python3.10/dist-packages/keras/src/engine/training.py:3000: UserWarning: You are saving your model as an HDF5 file via `model.save()`. This file format is considered legacy. We recommend using instead the native Keras format, e.g. `model.save('my_model.keras')`.\n",
            "  saving_api.save_model(\n",
            "\u001b[34m\u001b[1mwandb\u001b[0m: Adding directory to artifact (/content/wandb/run-20231006_122233-rlxi1blu/files/model-best)... Done. 13.6s\n"
          ]
        },
        {
          "output_type": "stream",
          "name": "stdout",
          "text": [
            "\b\b\b\b\b\b\b\b\b\b\b\b\b\b\b\b\b\b\b\b\b\b\b\b\b\b\b\b\b\b\b\b\b\b\b\b\b\b\b\b\b\b\b\b\b\b\b\b\b\b\b\b\b\b\b\b\b\b\b\b\b\b\b\b\b\b\b\b\b\b\b\b\b\b\b\b\b\b\b\b\b\b\b\b\r132/132 [==============================] - 167s 882ms/step - loss: 0.0219 - accuracy: 0.9976 - val_loss: 0.6413 - val_accuracy: 0.8083\n",
            "Epoch 2/10\n",
            "132/132 [==============================] - ETA: 0s - loss: 0.0148 - accuracy: 0.9990"
          ]
        },
        {
          "output_type": "stream",
          "name": "stderr",
          "text": [
            "/usr/local/lib/python3.10/dist-packages/keras/src/engine/training.py:3000: UserWarning: You are saving your model as an HDF5 file via `model.save()`. This file format is considered legacy. We recommend using instead the native Keras format, e.g. `model.save('my_model.keras')`.\n",
            "  saving_api.save_model(\n",
            "\u001b[34m\u001b[1mwandb\u001b[0m: Adding directory to artifact (/content/wandb/run-20231006_122233-rlxi1blu/files/model-best)... Done. 18.3s\n"
          ]
        },
        {
          "output_type": "stream",
          "name": "stdout",
          "text": [
            "\b\b\b\b\b\b\b\b\b\b\b\b\b\b\b\b\b\b\b\b\b\b\b\b\b\b\b\b\b\b\b\b\b\b\b\b\b\b\b\b\b\b\b\b\b\b\b\b\b\b\b\b\b\b\b\b\b\b\b\b\b\b\b\b\b\b\b\b\b\b\b\b\b\b\b\b\b\b\b\b\b\b\b\b\r132/132 [==============================] - 141s 1s/step - loss: 0.0148 - accuracy: 0.9990 - val_loss: 0.6336 - val_accuracy: 0.8144\n",
            "Epoch 3/10\n",
            "132/132 [==============================] - ETA: 0s - loss: 0.0122 - accuracy: 0.9994"
          ]
        },
        {
          "output_type": "stream",
          "name": "stderr",
          "text": [
            "/usr/local/lib/python3.10/dist-packages/keras/src/engine/training.py:3000: UserWarning: You are saving your model as an HDF5 file via `model.save()`. This file format is considered legacy. We recommend using instead the native Keras format, e.g. `model.save('my_model.keras')`.\n",
            "  saving_api.save_model(\n",
            "\u001b[34m\u001b[1mwandb\u001b[0m: Adding directory to artifact (/content/wandb/run-20231006_122233-rlxi1blu/files/model-best)... Done. 7.5s\n"
          ]
        },
        {
          "output_type": "stream",
          "name": "stdout",
          "text": [
            "\b\b\b\b\b\b\b\b\b\b\b\b\b\b\b\b\b\b\b\b\b\b\b\b\b\b\b\b\b\b\b\b\b\b\b\b\b\b\b\b\b\b\b\b\b\b\b\b\b\b\b\b\b\b\b\b\b\b\b\b\b\b\b\b\b\b\b\b\b\b\b\b\b\b\b\b\b\b\b\b\b\b\b\b\r132/132 [==============================] - 118s 898ms/step - loss: 0.0122 - accuracy: 0.9994 - val_loss: 0.6298 - val_accuracy: 0.8167\n",
            "Epoch 4/10\n",
            "132/132 [==============================] - ETA: 0s - loss: 0.0103 - accuracy: 0.9995"
          ]
        },
        {
          "output_type": "stream",
          "name": "stderr",
          "text": [
            "/usr/local/lib/python3.10/dist-packages/keras/src/engine/training.py:3000: UserWarning: You are saving your model as an HDF5 file via `model.save()`. This file format is considered legacy. We recommend using instead the native Keras format, e.g. `model.save('my_model.keras')`.\n",
            "  saving_api.save_model(\n",
            "\u001b[34m\u001b[1mwandb\u001b[0m: Adding directory to artifact (/content/wandb/run-20231006_122233-rlxi1blu/files/model-best)... Done. 9.8s\n"
          ]
        },
        {
          "output_type": "stream",
          "name": "stdout",
          "text": [
            "\b\b\b\b\b\b\b\b\b\b\b\b\b\b\b\b\b\b\b\b\b\b\b\b\b\b\b\b\b\b\b\b\b\b\b\b\b\b\b\b\b\b\b\b\b\b\b\b\b\b\b\b\b\b\b\b\b\b\b\b\b\b\b\b\b\b\b\b\b\b\b\b\b\b\b\b\b\b\b\b\b\b\b\b\r132/132 [==============================] - 112s 850ms/step - loss: 0.0103 - accuracy: 0.9995 - val_loss: 0.6275 - val_accuracy: 0.8189\n",
            "Epoch 5/10\n",
            "132/132 [==============================] - ETA: 0s - loss: 0.0089 - accuracy: 0.9998"
          ]
        },
        {
          "output_type": "stream",
          "name": "stderr",
          "text": [
            "/usr/local/lib/python3.10/dist-packages/keras/src/engine/training.py:3000: UserWarning: You are saving your model as an HDF5 file via `model.save()`. This file format is considered legacy. We recommend using instead the native Keras format, e.g. `model.save('my_model.keras')`.\n",
            "  saving_api.save_model(\n",
            "\u001b[34m\u001b[1mwandb\u001b[0m: Adding directory to artifact (/content/wandb/run-20231006_122233-rlxi1blu/files/model-best)... Done. 11.3s\n"
          ]
        },
        {
          "output_type": "stream",
          "name": "stdout",
          "text": [
            "\b\b\b\b\b\b\b\b\b\b\b\b\b\b\b\b\b\b\b\b\b\b\b\b\b\b\b\b\b\b\b\b\b\b\b\b\b\b\b\b\b\b\b\b\b\b\b\b\b\b\b\b\b\b\b\b\b\b\b\b\b\b\b\b\b\b\b\b\b\b\b\b\b\b\b\b\b\b\b\b\b\b\b\b\r132/132 [==============================] - 120s 910ms/step - loss: 0.0089 - accuracy: 0.9998 - val_loss: 0.6264 - val_accuracy: 0.8217\n",
            "Epoch 6/10\n",
            "132/132 [==============================] - ETA: 0s - loss: 0.0077 - accuracy: 1.0000"
          ]
        },
        {
          "output_type": "stream",
          "name": "stderr",
          "text": [
            "/usr/local/lib/python3.10/dist-packages/keras/src/engine/training.py:3000: UserWarning: You are saving your model as an HDF5 file via `model.save()`. This file format is considered legacy. We recommend using instead the native Keras format, e.g. `model.save('my_model.keras')`.\n",
            "  saving_api.save_model(\n",
            "\u001b[34m\u001b[1mwandb\u001b[0m: Adding directory to artifact (/content/wandb/run-20231006_122233-rlxi1blu/files/model-best)... Done. 8.1s\n"
          ]
        },
        {
          "output_type": "stream",
          "name": "stdout",
          "text": [
            "\b\b\b\b\b\b\b\b\b\b\b\b\b\b\b\b\b\b\b\b\b\b\b\b\b\b\b\b\b\b\b\b\b\b\b\b\b\b\b\b\b\b\b\b\b\b\b\b\b\b\b\b\b\b\b\b\b\b\b\b\b\b\b\b\b\b\b\b\b\b\b\b\b\b\b\b\b\b\b\b\b\b\b\b\r132/132 [==============================] - 114s 864ms/step - loss: 0.0077 - accuracy: 1.0000 - val_loss: 0.6253 - val_accuracy: 0.8239\n",
            "Epoch 7/10\n",
            "132/132 [==============================] - ETA: 0s - loss: 0.0067 - accuracy: 1.0000"
          ]
        },
        {
          "output_type": "stream",
          "name": "stderr",
          "text": [
            "/usr/local/lib/python3.10/dist-packages/keras/src/engine/training.py:3000: UserWarning: You are saving your model as an HDF5 file via `model.save()`. This file format is considered legacy. We recommend using instead the native Keras format, e.g. `model.save('my_model.keras')`.\n",
            "  saving_api.save_model(\n",
            "\u001b[34m\u001b[1mwandb\u001b[0m: Adding directory to artifact (/content/wandb/run-20231006_122233-rlxi1blu/files/model-best)... Done. 10.4s\n"
          ]
        },
        {
          "output_type": "stream",
          "name": "stdout",
          "text": [
            "\b\b\b\b\b\b\b\b\b\b\b\b\b\b\b\b\b\b\b\b\b\b\b\b\b\b\b\b\b\b\b\b\b\b\b\b\b\b\b\b\b\b\b\b\b\b\b\b\b\b\b\b\b\b\b\b\b\b\b\b\b\b\b\b\b\b\b\b\b\b\b\b\b\b\b\b\b\b\b\b\b\b\b\b\r132/132 [==============================] - 111s 846ms/step - loss: 0.0067 - accuracy: 1.0000 - val_loss: 0.6252 - val_accuracy: 0.8261\n",
            "Epoch 8/10\n",
            "132/132 [==============================] - ETA: 0s - loss: 0.0059 - accuracy: 1.0000"
          ]
        },
        {
          "output_type": "stream",
          "name": "stderr",
          "text": [
            "/usr/local/lib/python3.10/dist-packages/keras/src/engine/training.py:3000: UserWarning: You are saving your model as an HDF5 file via `model.save()`. This file format is considered legacy. We recommend using instead the native Keras format, e.g. `model.save('my_model.keras')`.\n",
            "  saving_api.save_model(\n",
            "\u001b[34m\u001b[1mwandb\u001b[0m: Adding directory to artifact (/content/wandb/run-20231006_122233-rlxi1blu/files/model-best)... Done. 8.1s\n"
          ]
        },
        {
          "output_type": "stream",
          "name": "stdout",
          "text": [
            "\b\b\b\b\b\b\b\b\b\b\b\b\b\b\b\b\b\b\b\b\b\b\b\b\b\b\b\b\b\b\b\b\b\b\b\b\b\b\b\b\b\b\b\b\b\b\b\b\b\b\b\b\b\b\b\b\b\b\b\b\b\b\b\b\b\b\b\b\b\b\b\b\b\b\b\b\b\b\b\b\b\b\b\b\r132/132 [==============================] - 120s 910ms/step - loss: 0.0059 - accuracy: 1.0000 - val_loss: 0.6250 - val_accuracy: 0.8261\n",
            "Epoch 9/10\n",
            "132/132 [==============================] - 48s 361ms/step - loss: 0.0053 - accuracy: 1.0000 - val_loss: 0.6261 - val_accuracy: 0.8267\n",
            "Epoch 10/10\n",
            "132/132 [==============================] - 47s 359ms/step - loss: 0.0048 - accuracy: 1.0000 - val_loss: 0.6262 - val_accuracy: 0.8250\n",
            "Training execution time (mins) 19.389623534679412\n"
          ]
        },
        {
          "output_type": "display_data",
          "data": {
            "text/plain": [
              "<IPython.core.display.HTML object>"
            ],
            "text/html": [
              "Waiting for W&B process to finish... <strong style=\"color:green\">(success).</strong>"
            ]
          },
          "metadata": {}
        },
        {
          "output_type": "display_data",
          "data": {
            "text/plain": [
              "<IPython.core.display.HTML object>"
            ],
            "text/html": [
              "<style>\n",
              "    table.wandb td:nth-child(1) { padding: 0 10px; text-align: left ; width: auto;} td:nth-child(2) {text-align: left ; width: 100%}\n",
              "    .wandb-row { display: flex; flex-direction: row; flex-wrap: wrap; justify-content: flex-start; width: 100% }\n",
              "    .wandb-col { display: flex; flex-direction: column; flex-basis: 100%; flex: 1; padding: 10px; }\n",
              "    </style>\n",
              "<div class=\"wandb-row\"><div class=\"wandb-col\"><h3>Run history:</h3><br/><table class=\"wandb\"><tr><td>accuracy</td><td>▁▅▆▇▇█████</td></tr><tr><td>epoch</td><td>▁▂▃▃▄▅▆▆▇█</td></tr><tr><td>loss</td><td>█▅▄▃▃▂▂▁▁▁</td></tr><tr><td>val_accuracy</td><td>▁▃▄▅▆▇███▇</td></tr><tr><td>val_loss</td><td>█▅▃▂▂▁▁▁▁▁</td></tr></table><br/></div><div class=\"wandb-col\"><h3>Run summary:</h3><br/><table class=\"wandb\"><tr><td>accuracy</td><td>1.0</td></tr><tr><td>best_epoch</td><td>7</td></tr><tr><td>best_val_loss</td><td>0.62505</td></tr><tr><td>epoch</td><td>9</td></tr><tr><td>loss</td><td>0.00478</td></tr><tr><td>val_accuracy</td><td>0.825</td></tr><tr><td>val_loss</td><td>0.62619</td></tr></table><br/></div></div>"
            ]
          },
          "metadata": {}
        },
        {
          "output_type": "display_data",
          "data": {
            "text/plain": [
              "<IPython.core.display.HTML object>"
            ],
            "text/html": [
              " View run <strong style=\"color:#cdcd00\">EfficientNetV2_fine-tune</strong> at: <a href='https://wandb.ai/spotted-dog/Stanford-dogs%20breeds/runs/rlxi1blu' target=\"_blank\">https://wandb.ai/spotted-dog/Stanford-dogs%20breeds/runs/rlxi1blu</a><br/>Synced 5 W&B file(s), 1 media file(s), 40 artifact file(s) and 1 other file(s)"
            ]
          },
          "metadata": {}
        },
        {
          "output_type": "display_data",
          "data": {
            "text/plain": [
              "<IPython.core.display.HTML object>"
            ],
            "text/html": [
              "Find logs at: <code>./wandb/run-20231006_122233-rlxi1blu/logs</code>"
            ]
          },
          "metadata": {}
        }
      ],
      "source": [
        "model_name = \"EfficientNetV2_fine-tune\"\n",
        "learning_rate = 0.00001\n",
        "optimizer=keras.optimizers.Adam(1e-5)\n",
        "\n",
        "# Initialize a W&B run\n",
        "wandb.init(\n",
        "    project = project_name,\n",
        "    config = {\n",
        "      \"learning_rate\": learning_rate,\n",
        "      \"epochs\": epochs,\n",
        "      \"batch_size\": batch_size,\n",
        "      \"model_name\": model_name\n",
        "    },\n",
        "    name = model_name\n",
        ")\n",
        "\n",
        "# Free up memory\n",
        "K.clear_session()\n",
        "\n",
        "# Track time\n",
        "start_time = time.time()\n",
        "\n",
        "base_model.trainable = True\n",
        "model.summary()\n",
        "model.compile(\n",
        "    optimizer=optimizer,\n",
        "    loss=loss,\n",
        "    metrics=[\"accuracy\"]\n",
        ")\n",
        "model.fit(\n",
        "    train_ds, epochs=epochs, callbacks=[WandbCallback()], validation_data = val_ds\n",
        ")\n",
        "\n",
        "execution_time = (time.time() - start_time)/60.0\n",
        "print(\"Training execution time (mins)\",execution_time)\n",
        "\n",
        "# Update W&B\n",
        "wandb.config.update({\"execution_time\": execution_time})\n",
        "\n",
        "# Close the W&B run\n",
        "wandb.run.finish()\n",
        "\n",
        "# Save execution time for summary\n",
        "EfficientNetV2_final_model_execution_time = execution_time"
      ]
    },
    {
      "cell_type": "markdown",
      "metadata": {
        "id": "Gw-g7_fpi71s"
      },
      "source": [
        "#### EfficientNetV2 Prediction and testing accuracy"
      ]
    },
    {
      "cell_type": "code",
      "execution_count": null,
      "metadata": {
        "colab": {
          "base_uri": "https://localhost:8080/"
        },
        "id": "hgFHo9wUZyf3",
        "outputId": "9231b4b3-b84f-42fa-9589-d311fc52b597"
      },
      "outputs": [
        {
          "output_type": "stream",
          "name": "stdout",
          "text": [
            "29/29 [==============================] - 5s 106ms/step\n"
          ]
        }
      ],
      "source": [
        "from tensorflow.keras.utils import to_categorical\n",
        "# Get model predictions on test set\n",
        "y_pred = model.predict(test_ds)\n",
        "y_pred = to_categorical(np.argmax(y_pred, 1), dtype = \"int64\")\n",
        "\n",
        "# Extract labels from test dataset\n",
        "y_true = np.concatenate([y for x, y in test_ds], axis=0)"
      ]
    },
    {
      "cell_type": "code",
      "execution_count": null,
      "metadata": {
        "colab": {
          "base_uri": "https://localhost:8080/"
        },
        "id": "L0zx7I7yi4GS",
        "outputId": "342558d6-e272-4aae-ab08-76757e65e5e4"
      },
      "outputs": [
        {
          "output_type": "stream",
          "name": "stdout",
          "text": [
            "EfficientNetV2-based model testing accuracy (fine-tuned): 0.825\n",
            "Base model training time: 5.947090415159861\n",
            "Final model training time: 19.389623534679412\n"
          ]
        }
      ],
      "source": [
        "# Baseline Model accuracy\n",
        "EfficientNetV2_testing_accuracy = accuracy_score(y_true, y_pred)\n",
        "print(f\"EfficientNetV2-based model testing accuracy (fine-tuned): {EfficientNetV2_testing_accuracy}\")\n",
        "print(f\"Base model training time: {EfficientNetV2_base_model_execution_time}\")\n",
        "print(f\"Final model training time: {EfficientNetV2_final_model_execution_time}\")"
      ]
    },
    {
      "cell_type": "markdown",
      "metadata": {
        "id": "FFR0BaYiIcdY"
      },
      "source": [
        "###**V-2. XCeption**"
      ]
    },
    {
      "cell_type": "markdown",
      "metadata": {
        "id": "UYx7oqpcJBW8"
      },
      "source": [
        "####XCeption Model preparation"
      ]
    },
    {
      "cell_type": "code",
      "execution_count": null,
      "metadata": {
        "id": "eOsyj1RbJ_lh"
      },
      "outputs": [],
      "source": [
        "model_name = \"XCeption_train_base\"\n",
        "learning_rate = 0.001\n",
        "image_width = 224\n",
        "image_height = 224\n",
        "num_channels = 3\n",
        "batch_size = 64\n",
        "epochs = 10\n",
        "optimizer=keras.optimizers.Adam()\n",
        "loss=CategoricalCrossentropy()"
      ]
    },
    {
      "cell_type": "code",
      "execution_count": null,
      "metadata": {
        "colab": {
          "base_uri": "https://localhost:8080/"
        },
        "id": "xf8wEDXiKc_j",
        "outputId": "9c5ec307-5cfa-4486-ab71-bc74d2c3bc2d"
      },
      "outputs": [
        {
          "output_type": "stream",
          "name": "stdout",
          "text": [
            "Downloading data from https://storage.googleapis.com/tensorflow/keras-applications/xception/xception_weights_tf_dim_ordering_tf_kernels_notop.h5\n",
            "83683744/83683744 [==============================] - 1s 0us/step\n"
          ]
        }
      ],
      "source": [
        "# Load XCeption from keras.applications\n",
        "base_model = keras.applications.Xception(\n",
        "    include_top=False,\n",
        "    weights=\"imagenet\",\n",
        "    input_shape = (image_width, image_height, num_channels)\n",
        ")\n",
        "\n",
        "# Freeze model weights for baseline evaluation\n",
        "base_model.trainable = False"
      ]
    },
    {
      "cell_type": "code",
      "execution_count": null,
      "metadata": {
        "colab": {
          "base_uri": "https://localhost:8080/"
        },
        "id": "alo1ETe2KzHr",
        "outputId": "e0a979f3-bedf-4183-a4cc-0f13512b7a3b"
      },
      "outputs": [
        {
          "output_type": "stream",
          "name": "stdout",
          "text": [
            "Model: \"XCeption_train_base\"\n",
            "_________________________________________________________________\n",
            " Layer (type)                Output Shape              Param #   \n",
            "=================================================================\n",
            " input_6 (InputLayer)        [(None, 224, 224, 3)]     0         \n",
            "                                                                 \n",
            " rescaling (Rescaling)       (None, 224, 224, 3)       0         \n",
            "                                                                 \n",
            " xception (Functional)       (None, 7, 7, 2048)        20861480  \n",
            "                                                                 \n",
            " avg_pool (GlobalAveragePoo  (None, 2048)              0         \n",
            " ling2D)                                                         \n",
            "                                                                 \n",
            " batch_normalization_4 (Bat  (None, 2048)              8192      \n",
            " chNormalization)                                                \n",
            "                                                                 \n",
            " prediction (Dense)          (None, 120)               245880    \n",
            "                                                                 \n",
            "=================================================================\n",
            "Total params: 21115552 (80.55 MB)\n",
            "Trainable params: 249976 (976.47 KB)\n",
            "Non-trainable params: 20865576 (79.60 MB)\n",
            "_________________________________________________________________\n"
          ]
        }
      ],
      "source": [
        "# Input Layer\n",
        "inputs = keras.Input(shape=(image_width, image_height, num_channels))\n",
        "\n",
        "# Scales input from (0, 255) to a range of (-1., +1.) for EfficientNet\n",
        "x = keras.layers.Rescaling(scale=1 / 127.5, offset=-1)(inputs)\n",
        "\n",
        "# EfficientNet Base model (freezing batch normalization layers)\n",
        "x = base_model(x, training=False)\n",
        "\n",
        "x = layers.GlobalAveragePooling2D(name=\"avg_pool\")(x)\n",
        "x = layers.BatchNormalization()(x)\n",
        "\n",
        "# One nodes for categorical classification\n",
        "outputs = keras.layers.Dense(NUM_CLASSES, activation=\"softmax\", name=\"prediction\")(x)\n",
        "\n",
        "# Create model\n",
        "model = keras.Model(inputs=inputs, outputs=outputs, name=model_name)\n",
        "\n",
        "# Output the model summary\n",
        "model.summary()\n",
        "\n",
        "# Compile the model\n",
        "model.compile(\n",
        "    optimizer=optimizer,\n",
        "    loss=loss,\n",
        "    metrics=[\"accuracy\"]\n",
        ")"
      ]
    },
    {
      "cell_type": "markdown",
      "metadata": {
        "id": "xmr72iGEJl90"
      },
      "source": [
        "####XCeption Feature Extraction - train the top layer"
      ]
    },
    {
      "cell_type": "code",
      "execution_count": null,
      "metadata": {
        "colab": {
          "base_uri": "https://localhost:8080/",
          "height": 926
        },
        "id": "ZP7bV0SHL7s4",
        "outputId": "28c93e54-a298-46b6-96f6-d93a764e30eb"
      },
      "outputs": [
        {
          "output_type": "display_data",
          "data": {
            "text/plain": [
              "<IPython.core.display.HTML object>"
            ],
            "text/html": [
              "Tracking run with wandb version 0.15.12"
            ]
          },
          "metadata": {}
        },
        {
          "output_type": "display_data",
          "data": {
            "text/plain": [
              "<IPython.core.display.HTML object>"
            ],
            "text/html": [
              "Run data is saved locally in <code>/content/wandb/run-20231006_111252-gp03qa8n</code>"
            ]
          },
          "metadata": {}
        },
        {
          "output_type": "display_data",
          "data": {
            "text/plain": [
              "<IPython.core.display.HTML object>"
            ],
            "text/html": [
              "Syncing run <strong><a href='https://wandb.ai/spotted-dog/Stanford-dogs%20breeds/runs/gp03qa8n' target=\"_blank\">XCeption_train_base</a></strong> to <a href='https://wandb.ai/spotted-dog/Stanford-dogs%20breeds' target=\"_blank\">Weights & Biases</a> (<a href='https://wandb.me/run' target=\"_blank\">docs</a>)<br/>"
            ]
          },
          "metadata": {}
        },
        {
          "output_type": "display_data",
          "data": {
            "text/plain": [
              "<IPython.core.display.HTML object>"
            ],
            "text/html": [
              " View project at <a href='https://wandb.ai/spotted-dog/Stanford-dogs%20breeds' target=\"_blank\">https://wandb.ai/spotted-dog/Stanford-dogs%20breeds</a>"
            ]
          },
          "metadata": {}
        },
        {
          "output_type": "display_data",
          "data": {
            "text/plain": [
              "<IPython.core.display.HTML object>"
            ],
            "text/html": [
              " View run at <a href='https://wandb.ai/spotted-dog/Stanford-dogs%20breeds/runs/gp03qa8n' target=\"_blank\">https://wandb.ai/spotted-dog/Stanford-dogs%20breeds/runs/gp03qa8n</a>"
            ]
          },
          "metadata": {}
        },
        {
          "output_type": "stream",
          "name": "stdout",
          "text": [
            "Epoch 1/10\n",
            "132/132 [==============================] - ETA: 0s - loss: 1.3601 - accuracy: 0.6548"
          ]
        },
        {
          "output_type": "stream",
          "name": "stderr",
          "text": [
            "/usr/local/lib/python3.10/dist-packages/keras/src/engine/training.py:3000: UserWarning: You are saving your model as an HDF5 file via `model.save()`. This file format is considered legacy. We recommend using instead the native Keras format, e.g. `model.save('my_model.keras')`.\n",
            "  saving_api.save_model(\n",
            "\u001b[34m\u001b[1mwandb\u001b[0m: Adding directory to artifact (/content/wandb/run-20231006_111252-gp03qa8n/files/model-best)... Done. 9.6s\n"
          ]
        },
        {
          "output_type": "stream",
          "name": "stdout",
          "text": [
            "\b\b\b\b\b\b\b\b\b\b\b\b\b\b\b\b\b\b\b\b\b\b\b\b\b\b\b\b\b\b\b\b\b\b\b\b\b\b\b\b\b\b\b\b\b\b\b\b\b\b\b\b\b\b\b\b\b\b\b\b\b\b\b\b\b\b\b\b\b\b\b\b\b\b\b\b\b\b\b\b\b\b\b\b\r132/132 [==============================] - 103s 703ms/step - loss: 1.3601 - accuracy: 0.6548 - val_loss: 1.0724 - val_accuracy: 0.7322\n",
            "Epoch 2/10\n",
            "132/132 [==============================] - ETA: 0s - loss: 0.5059 - accuracy: 0.8449"
          ]
        },
        {
          "output_type": "stream",
          "name": "stderr",
          "text": [
            "/usr/local/lib/python3.10/dist-packages/keras/src/engine/training.py:3000: UserWarning: You are saving your model as an HDF5 file via `model.save()`. This file format is considered legacy. We recommend using instead the native Keras format, e.g. `model.save('my_model.keras')`.\n",
            "  saving_api.save_model(\n",
            "\u001b[34m\u001b[1mwandb\u001b[0m: Adding directory to artifact (/content/wandb/run-20231006_111252-gp03qa8n/files/model-best)... Done. 8.5s\n"
          ]
        },
        {
          "output_type": "stream",
          "name": "stdout",
          "text": [
            "\b\b\b\b\b\b\b\b\b\b\b\b\b\b\b\b\b\b\b\b\b\b\b\b\b\b\b\b\b\b\b\b\b\b\b\b\b\b\b\b\b\b\b\b\b\b\b\b\b\b\b\b\b\b\b\b\b\b\b\b\b\b\b\b\b\b\b\b\b\b\b\b\b\b\b\b\b\b\b\b\b\b\b\b\r132/132 [==============================] - 81s 615ms/step - loss: 0.5059 - accuracy: 0.8449 - val_loss: 0.8986 - val_accuracy: 0.7400\n",
            "Epoch 3/10\n",
            "132/132 [==============================] - 41s 307ms/step - loss: 0.2654 - accuracy: 0.9275 - val_loss: 0.9406 - val_accuracy: 0.7439\n",
            "Epoch 4/10\n",
            "132/132 [==============================] - 43s 328ms/step - loss: 0.1538 - accuracy: 0.9635 - val_loss: 0.9648 - val_accuracy: 0.7494\n",
            "Epoch 5/10\n",
            "132/132 [==============================] - 44s 329ms/step - loss: 0.0977 - accuracy: 0.9807 - val_loss: 0.9668 - val_accuracy: 0.7506\n",
            "Epoch 6/10\n",
            "132/132 [==============================] - 43s 329ms/step - loss: 0.0683 - accuracy: 0.9887 - val_loss: 0.9765 - val_accuracy: 0.7544\n",
            "Epoch 7/10\n",
            "132/132 [==============================] - 44s 330ms/step - loss: 0.0515 - accuracy: 0.9925 - val_loss: 0.9978 - val_accuracy: 0.7567\n",
            "Epoch 8/10\n",
            "132/132 [==============================] - 43s 329ms/step - loss: 0.0413 - accuracy: 0.9943 - val_loss: 1.0199 - val_accuracy: 0.7550\n",
            "Epoch 9/10\n",
            "132/132 [==============================] - 44s 330ms/step - loss: 0.0333 - accuracy: 0.9951 - val_loss: 1.0351 - val_accuracy: 0.7556\n",
            "Epoch 10/10\n",
            "132/132 [==============================] - 43s 327ms/step - loss: 0.0284 - accuracy: 0.9961 - val_loss: 1.0520 - val_accuracy: 0.7578\n",
            "Model weights and training history saved\n",
            "Training execution time (mins) 12.87193105618159\n"
          ]
        },
        {
          "output_type": "display_data",
          "data": {
            "text/plain": [
              "<IPython.core.display.HTML object>"
            ],
            "text/html": [
              "Waiting for W&B process to finish... <strong style=\"color:green\">(success).</strong>"
            ]
          },
          "metadata": {}
        },
        {
          "output_type": "display_data",
          "data": {
            "text/plain": [
              "<IPython.core.display.HTML object>"
            ],
            "text/html": [
              "<style>\n",
              "    table.wandb td:nth-child(1) { padding: 0 10px; text-align: left ; width: auto;} td:nth-child(2) {text-align: left ; width: 100%}\n",
              "    .wandb-row { display: flex; flex-direction: row; flex-wrap: wrap; justify-content: flex-start; width: 100% }\n",
              "    .wandb-col { display: flex; flex-direction: column; flex-basis: 100%; flex: 1; padding: 10px; }\n",
              "    </style>\n",
              "<div class=\"wandb-row\"><div class=\"wandb-col\"><h3>Run history:</h3><br/><table class=\"wandb\"><tr><td>accuracy</td><td>▁▅▇▇██████</td></tr><tr><td>epoch</td><td>▁▂▃▃▄▅▆▆▇█</td></tr><tr><td>loss</td><td>█▄▂▂▁▁▁▁▁▁</td></tr><tr><td>val_accuracy</td><td>▁▃▄▆▆▇█▇▇█</td></tr><tr><td>val_loss</td><td>█▁▃▄▄▄▅▆▆▇</td></tr></table><br/></div><div class=\"wandb-col\"><h3>Run summary:</h3><br/><table class=\"wandb\"><tr><td>accuracy</td><td>0.99607</td></tr><tr><td>best_epoch</td><td>1</td></tr><tr><td>best_val_loss</td><td>0.89857</td></tr><tr><td>epoch</td><td>9</td></tr><tr><td>loss</td><td>0.0284</td></tr><tr><td>val_accuracy</td><td>0.75778</td></tr><tr><td>val_loss</td><td>1.05197</td></tr></table><br/></div></div>"
            ]
          },
          "metadata": {}
        },
        {
          "output_type": "display_data",
          "data": {
            "text/plain": [
              "<IPython.core.display.HTML object>"
            ],
            "text/html": [
              " View run <strong style=\"color:#cdcd00\">XCeption_train_base</strong> at: <a href='https://wandb.ai/spotted-dog/Stanford-dogs%20breeds/runs/gp03qa8n' target=\"_blank\">https://wandb.ai/spotted-dog/Stanford-dogs%20breeds/runs/gp03qa8n</a><br/>Synced 5 W&B file(s), 1 media file(s), 10 artifact file(s) and 1 other file(s)"
            ]
          },
          "metadata": {}
        },
        {
          "output_type": "display_data",
          "data": {
            "text/plain": [
              "<IPython.core.display.HTML object>"
            ],
            "text/html": [
              "Find logs at: <code>./wandb/run-20231006_111252-gp03qa8n/logs</code>"
            ]
          },
          "metadata": {}
        }
      ],
      "source": [
        "# Initialize a W&B run\n",
        "wandb.init(\n",
        "    project = project_name,\n",
        "    config = {\n",
        "      \"learning_rate\": learning_rate,\n",
        "      \"epochs\": epochs,\n",
        "      \"batch_size\": batch_size,\n",
        "      \"model_name\": model_name\n",
        "    },\n",
        "    name = model_name\n",
        ")\n",
        "\n",
        "# Free up memory\n",
        "K.clear_session()\n",
        "\n",
        "# Track time\n",
        "start_time = time.time()\n",
        "\n",
        "if USE_SAVED_MODEL:\n",
        "    # Load saved weights and model history\n",
        "    model.load_weights(\"data/baseline_model\")\n",
        "\n",
        "    with open(\"data/baseline_model_hist.pickle\", \"rb\") as filehandler:\n",
        "        model_history = pickle.load(filehandler)\n",
        "\n",
        "    print(\"Model weights and training history successfully loaded\")\n",
        "\n",
        "else:\n",
        "    # Train the Model\n",
        "    model_history = model.fit(\n",
        "        train_ds,\n",
        "        epochs=epochs,\n",
        "        callbacks=[WandbCallback()],\n",
        "        validation_data=val_ds\n",
        "    )\n",
        "\n",
        "    # Create \"data\" directory if it does not yet exist\n",
        "    if not os.path.exists(\"data\"):\n",
        "        os.mkdir(\"data\")\n",
        "\n",
        "    # Save training history dict using pickle\n",
        "    with open(\"data/baseline_model_hist.pickle\", \"wb\") as filehandler:\n",
        "        model_history = model_history.history\n",
        "        pickle.dump(model_history, filehandler)\n",
        "\n",
        "    # Save model and weights for future use\n",
        "    model.save_weights(\"data/baseline_model\")\n",
        "\n",
        "    print(\"Model weights and training history saved\")\n",
        "\n",
        "execution_time = (time.time() - start_time)/60.0\n",
        "print(\"Training execution time (mins)\",execution_time)\n",
        "\n",
        "# Update W&B\n",
        "wandb.config.update({\"execution_time\": execution_time})\n",
        "# Close the W&B run\n",
        "wandb.run.finish()\n",
        "\n",
        "XCeption_base_model_execution_time = execution_time"
      ]
    },
    {
      "cell_type": "markdown",
      "metadata": {
        "id": "nR8rKUKBJy5d"
      },
      "source": [
        "####XCeption Fine-Tuning"
      ]
    },
    {
      "cell_type": "code",
      "execution_count": null,
      "metadata": {
        "colab": {
          "base_uri": "https://localhost:8080/",
          "height": 1000,
          "referenced_widgets": [
            "05a6be731d9944d0bcb67c8606bd0a77",
            "1883d594ee97452c91f633d37f77334a",
            "b5c3883dbfd047e3ae692974c2b2ac90",
            "e3c13c9a394542d295888faae5f33e15",
            "a66d6f25522b4a78bfaf45ec11b84ba7",
            "a99daaace8844e62b4cea1b5b9a9ae39",
            "ae2a869c9d214979ae394b7b6949bbac",
            "02a1c25f86e448748f35fd44000033a7"
          ]
        },
        "id": "ElcH6_CBMKrt",
        "outputId": "9c56ae97-09d0-41ec-92b1-485b99b89d6d"
      },
      "outputs": [
        {
          "data": {
            "text/html": [
              "Tracking run with wandb version 0.15.12"
            ],
            "text/plain": [
              "<IPython.core.display.HTML object>"
            ]
          },
          "metadata": {},
          "output_type": "display_data"
        },
        {
          "data": {
            "text/html": [
              "Run data is saved locally in <code>/content/wandb/run-20231006_112727-wcjgnuxc</code>"
            ],
            "text/plain": [
              "<IPython.core.display.HTML object>"
            ]
          },
          "metadata": {},
          "output_type": "display_data"
        },
        {
          "data": {
            "text/html": [
              "Syncing run <strong><a href='https://wandb.ai/spotted-dog/Stanford-dogs%20breeds/runs/wcjgnuxc' target=\"_blank\">Xception_fine-tune</a></strong> to <a href='https://wandb.ai/spotted-dog/Stanford-dogs%20breeds' target=\"_blank\">Weights & Biases</a> (<a href='https://wandb.me/run' target=\"_blank\">docs</a>)<br/>"
            ],
            "text/plain": [
              "<IPython.core.display.HTML object>"
            ]
          },
          "metadata": {},
          "output_type": "display_data"
        },
        {
          "data": {
            "text/html": [
              " View project at <a href='https://wandb.ai/spotted-dog/Stanford-dogs%20breeds' target=\"_blank\">https://wandb.ai/spotted-dog/Stanford-dogs%20breeds</a>"
            ],
            "text/plain": [
              "<IPython.core.display.HTML object>"
            ]
          },
          "metadata": {},
          "output_type": "display_data"
        },
        {
          "data": {
            "text/html": [
              " View run at <a href='https://wandb.ai/spotted-dog/Stanford-dogs%20breeds/runs/wcjgnuxc' target=\"_blank\">https://wandb.ai/spotted-dog/Stanford-dogs%20breeds/runs/wcjgnuxc</a>"
            ],
            "text/plain": [
              "<IPython.core.display.HTML object>"
            ]
          },
          "metadata": {},
          "output_type": "display_data"
        },
        {
          "metadata": {
            "tags": null
          },
          "name": "stdout",
          "output_type": "stream",
          "text": [
            "Model: \"XCeption_train_base\"\n",
            "_________________________________________________________________\n",
            " Layer (type)                Output Shape              Param #   \n",
            "=================================================================\n",
            " input_6 (InputLayer)        [(None, 224, 224, 3)]     0         \n",
            "                                                                 \n",
            " rescaling (Rescaling)       (None, 224, 224, 3)       0         \n",
            "                                                                 \n",
            " xception (Functional)       (None, 7, 7, 2048)        20861480  \n",
            "                                                                 \n",
            " avg_pool (GlobalAveragePoo  (None, 2048)              0         \n",
            " ling2D)                                                         \n",
            "                                                                 \n",
            " batch_normalization_4 (Bat  (None, 2048)              8192      \n",
            " chNormalization)                                                \n",
            "                                                                 \n",
            " prediction (Dense)          (None, 120)               245880    \n",
            "                                                                 \n",
            "=================================================================\n",
            "Total params: 21115552 (80.55 MB)\n",
            "Trainable params: 21056928 (80.33 MB)\n",
            "Non-trainable params: 58624 (229.00 KB)\n",
            "_________________________________________________________________\n",
            "Epoch 1/10\n",
            "  6/132 [>.............................] - ETA: 1:58 - loss: 0.0231 - accuracy: 0.9974"
          ]
        },
        {
          "metadata": {
            "tags": null
          },
          "name": "stderr",
          "output_type": "stream",
          "text": [
            "WARNING:tensorflow:Callback method `on_train_batch_end` is slow compared to the batch time (batch time: 0.2925s vs `on_train_batch_end` time: 0.5403s). Check your callbacks.\n"
          ]
        },
        {
          "metadata": {
            "tags": null
          },
          "name": "stdout",
          "output_type": "stream",
          "text": [
            "132/132 [==============================] - ETA: 0s - loss: 0.0271 - accuracy: 0.9955"
          ]
        },
        {
          "metadata": {
            "tags": null
          },
          "name": "stderr",
          "output_type": "stream",
          "text": [
            "/usr/local/lib/python3.10/dist-packages/keras/src/engine/training.py:3000: UserWarning: You are saving your model as an HDF5 file via `model.save()`. This file format is considered legacy. We recommend using instead the native Keras format, e.g. `model.save('my_model.keras')`.\n",
            "  saving_api.save_model(\n",
            "\u001b[34m\u001b[1mwandb\u001b[0m: Adding directory to artifact (/content/wandb/run-20231006_112727-wcjgnuxc/files/model-best)... Done. 37.3s\n"
          ]
        },
        {
          "metadata": {
            "tags": null
          },
          "name": "stdout",
          "output_type": "stream",
          "text": [
            "132/132 [==============================] - 291s 2s/step - loss: 0.0271 - accuracy: 0.9955 - val_loss: 1.0376 - val_accuracy: 0.7617\n",
            "Epoch 2/10\n",
            "132/132 [==============================] - ETA: 0s - loss: 0.0152 - accuracy: 0.9976"
          ]
        },
        {
          "metadata": {
            "tags": null
          },
          "name": "stderr",
          "output_type": "stream",
          "text": [
            "/usr/local/lib/python3.10/dist-packages/keras/src/engine/training.py:3000: UserWarning: You are saving your model as an HDF5 file via `model.save()`. This file format is considered legacy. We recommend using instead the native Keras format, e.g. `model.save('my_model.keras')`.\n",
            "  saving_api.save_model(\n",
            "\u001b[34m\u001b[1mwandb\u001b[0m: Adding directory to artifact (/content/wandb/run-20231006_112727-wcjgnuxc/files/model-best)... Done. 41.2s\n"
          ]
        },
        {
          "metadata": {
            "tags": null
          },
          "name": "stdout",
          "output_type": "stream",
          "text": [
            "132/132 [==============================] - 273s 2s/step - loss: 0.0152 - accuracy: 0.9976 - val_loss: 1.0157 - val_accuracy: 0.7689\n",
            "Epoch 3/10\n",
            "132/132 [==============================] - ETA: 0s - loss: 0.0097 - accuracy: 0.9983"
          ]
        },
        {
          "metadata": {
            "tags": null
          },
          "name": "stderr",
          "output_type": "stream",
          "text": [
            "/usr/local/lib/python3.10/dist-packages/keras/src/engine/training.py:3000: UserWarning: You are saving your model as an HDF5 file via `model.save()`. This file format is considered legacy. We recommend using instead the native Keras format, e.g. `model.save('my_model.keras')`.\n",
            "  saving_api.save_model(\n",
            "\u001b[34m\u001b[1mwandb\u001b[0m: Adding directory to artifact (/content/wandb/run-20231006_112727-wcjgnuxc/files/model-best)... Done. 47.2s\n"
          ]
        },
        {
          "metadata": {
            "tags": null
          },
          "name": "stdout",
          "output_type": "stream",
          "text": [
            "132/132 [==============================] - 292s 2s/step - loss: 0.0097 - accuracy: 0.9983 - val_loss: 1.0057 - val_accuracy: 0.7683\n",
            "Epoch 4/10\n",
            "132/132 [==============================] - 133s 1s/step - loss: 0.0064 - accuracy: 0.9994 - val_loss: 1.0061 - val_accuracy: 0.7700\n",
            "Epoch 5/10\n",
            "132/132 [==============================] - ETA: 0s - loss: 0.0047 - accuracy: 0.9999"
          ]
        },
        {
          "output_type": "stream",
          "name": "stderr",
          "text": [
            "/usr/local/lib/python3.10/dist-packages/keras/src/engine/training.py:3000: UserWarning: You are saving your model as an HDF5 file via `model.save()`. This file format is considered legacy. We recommend using instead the native Keras format, e.g. `model.save('my_model.keras')`.\n",
            "  saving_api.save_model(\n",
            "\u001b[34m\u001b[1mwandb\u001b[0m: Adding directory to artifact (/content/wandb/run-20231006_112727-wcjgnuxc/files/model-best)... Done. 14.2s\n"
          ]
        },
        {
          "output_type": "stream",
          "name": "stdout",
          "text": [
            "\b\b\b\b\b\b\b\b\b\b\b\b\b\b\b\b\b\b\b\b\b\b\b\b\b\b\b\b\b\b\b\b\b\b\b\b\b\b\b\b\b\b\b\b\b\b\b\b\b\b\b\b\b\b\b\b\b\b\b\b\b\b\b\b\b\b\b\b\b\b\b\b\b\b\b\b\b\b\b\b\b\b\b\b\r132/132 [==============================] - 209s 2s/step - loss: 0.0047 - accuracy: 0.9999 - val_loss: 1.0023 - val_accuracy: 0.7706\n",
            "Epoch 6/10\n",
            "132/132 [==============================] - 136s 1s/step - loss: 0.0039 - accuracy: 0.9999 - val_loss: 1.0047 - val_accuracy: 0.7706\n",
            "Epoch 7/10\n",
            "132/132 [==============================] - 136s 1s/step - loss: 0.0032 - accuracy: 0.9999 - val_loss: 1.0050 - val_accuracy: 0.7722\n",
            "Epoch 8/10\n",
            "132/132 [==============================] - 135s 1s/step - loss: 0.0027 - accuracy: 1.0000 - val_loss: 1.0055 - val_accuracy: 0.7733\n",
            "Epoch 9/10\n",
            "132/132 [==============================] - 133s 1s/step - loss: 0.0023 - accuracy: 1.0000 - val_loss: 1.0070 - val_accuracy: 0.7739\n",
            "Epoch 10/10\n",
            "132/132 [==============================] - 136s 1s/step - loss: 0.0020 - accuracy: 1.0000 - val_loss: 1.0084 - val_accuracy: 0.7744\n",
            "Training execution time (mins) 33.056357153256734\n"
          ]
        },
        {
          "output_type": "display_data",
          "data": {
            "text/plain": [
              "<IPython.core.display.HTML object>"
            ],
            "text/html": [
              "Waiting for W&B process to finish... <strong style=\"color:green\">(success).</strong>"
            ]
          },
          "metadata": {}
        },
        {
          "output_type": "display_data",
          "data": {
            "text/plain": [
              "VBox(children=(Label(value='1126.823 MB of 1126.823 MB uploaded (1.413 MB deduped)\\r'), FloatProgress(value=1.…"
            ],
            "application/vnd.jupyter.widget-view+json": {
              "version_major": 2,
              "version_minor": 0,
              "model_id": "05a6be731d9944d0bcb67c8606bd0a77"
            }
          },
          "metadata": {}
        },
        {
          "output_type": "display_data",
          "data": {
            "text/plain": [
              "<IPython.core.display.HTML object>"
            ],
            "text/html": [
              "<style>\n",
              "    table.wandb td:nth-child(1) { padding: 0 10px; text-align: left ; width: auto;} td:nth-child(2) {text-align: left ; width: 100%}\n",
              "    .wandb-row { display: flex; flex-direction: row; flex-wrap: wrap; justify-content: flex-start; width: 100% }\n",
              "    .wandb-col { display: flex; flex-direction: column; flex-basis: 100%; flex: 1; padding: 10px; }\n",
              "    </style>\n",
              "<div class=\"wandb-row\"><div class=\"wandb-col\"><h3>Run history:</h3><br/><table class=\"wandb\"><tr><td>accuracy</td><td>▁▄▅▇██████</td></tr><tr><td>epoch</td><td>▁▂▃▃▄▅▆▆▇█</td></tr><tr><td>loss</td><td>█▅▃▂▂▂▁▁▁▁</td></tr><tr><td>val_accuracy</td><td>▁▅▅▆▆▆▇▇██</td></tr><tr><td>val_loss</td><td>█▄▂▂▁▁▂▂▂▂</td></tr></table><br/></div><div class=\"wandb-col\"><h3>Run summary:</h3><br/><table class=\"wandb\"><tr><td>accuracy</td><td>1.0</td></tr><tr><td>best_epoch</td><td>4</td></tr><tr><td>best_val_loss</td><td>1.00226</td></tr><tr><td>epoch</td><td>9</td></tr><tr><td>loss</td><td>0.00204</td></tr><tr><td>val_accuracy</td><td>0.77444</td></tr><tr><td>val_loss</td><td>1.00842</td></tr></table><br/></div></div>"
            ]
          },
          "metadata": {}
        },
        {
          "output_type": "display_data",
          "data": {
            "text/plain": [
              "<IPython.core.display.HTML object>"
            ],
            "text/html": [
              " View run <strong style=\"color:#cdcd00\">Xception_fine-tune</strong> at: <a href='https://wandb.ai/spotted-dog/Stanford-dogs%20breeds/runs/wcjgnuxc' target=\"_blank\">https://wandb.ai/spotted-dog/Stanford-dogs%20breeds/runs/wcjgnuxc</a><br/>Synced 5 W&B file(s), 1 media file(s), 20 artifact file(s) and 1 other file(s)"
            ]
          },
          "metadata": {}
        },
        {
          "output_type": "display_data",
          "data": {
            "text/plain": [
              "<IPython.core.display.HTML object>"
            ],
            "text/html": [
              "Find logs at: <code>./wandb/run-20231006_112727-wcjgnuxc/logs</code>"
            ]
          },
          "metadata": {}
        }
      ],
      "source": [
        "model_name = \"Xception_fine-tune\"\n",
        "learning_rate = 0.00001\n",
        "optimizer=keras.optimizers.Adam(1e-5)\n",
        "\n",
        "# Initialize a W&B run\n",
        "wandb.init(\n",
        "    project = project_name,\n",
        "    config = {\n",
        "      \"learning_rate\": learning_rate,\n",
        "      \"epochs\": epochs,\n",
        "      \"batch_size\": batch_size,\n",
        "      \"model_name\": model_name\n",
        "    },\n",
        "    name = model_name\n",
        ")\n",
        "\n",
        "# Free up memory\n",
        "K.clear_session()\n",
        "\n",
        "# Track time\n",
        "start_time = time.time()\n",
        "\n",
        "base_model.trainable = True\n",
        "model.summary()\n",
        "model.compile(\n",
        "    optimizer=optimizer,\n",
        "    loss=loss,\n",
        "    metrics=[\"accuracy\"]\n",
        ")\n",
        "model.fit(\n",
        "    train_ds, epochs=epochs, callbacks=[WandbCallback()], validation_data = val_ds\n",
        ")\n",
        "\n",
        "execution_time = (time.time() - start_time)/60.0\n",
        "print(\"Training execution time (mins)\",execution_time)\n",
        "\n",
        "# Update W&B\n",
        "wandb.config.update({\"execution_time\": execution_time})\n",
        "# Close the W&B run\n",
        "wandb.run.finish()\n",
        "\n",
        "XCeption_final_model_execution_time = execution_time"
      ]
    },
    {
      "cell_type": "markdown",
      "metadata": {
        "id": "KtmYk-a5jz71"
      },
      "source": [
        "#### XCeption Prediction and testing accuracy"
      ]
    },
    {
      "cell_type": "code",
      "execution_count": null,
      "metadata": {
        "id": "MCMflnRzj7aR",
        "colab": {
          "base_uri": "https://localhost:8080/"
        },
        "outputId": "24a8257f-4905-4993-a953-0df03ff8d828"
      },
      "outputs": [
        {
          "output_type": "stream",
          "name": "stdout",
          "text": [
            "29/29 [==============================] - 8s 239ms/step\n"
          ]
        }
      ],
      "source": [
        "# Get model predictions on test set\n",
        "y_pred = model.predict(test_ds)\n",
        "y_pred = to_categorical(np.argmax(y_pred, 1), dtype = \"int64\")\n",
        "\n",
        "# Extract labels from test dataset\n",
        "y_true = np.concatenate([y for x, y in test_ds], axis=0)"
      ]
    },
    {
      "cell_type": "code",
      "execution_count": null,
      "metadata": {
        "id": "oMKeOgkqkAIQ",
        "colab": {
          "base_uri": "https://localhost:8080/"
        },
        "outputId": "68952d32-2f7b-47f0-9173-be43fe4fba48"
      },
      "outputs": [
        {
          "output_type": "stream",
          "name": "stdout",
          "text": [
            "XCeption-based model testing accuracy: 0.7605555555555555\n",
            "Base model training time: 12.87193105618159\n",
            "Final model training time: 33.056357153256734\n"
          ]
        }
      ],
      "source": [
        "# Baseline Model accuracy\n",
        "XCeption_testing_accuracy = accuracy_score(y_true, y_pred)\n",
        "print(f\"XCeption-based model testing accuracy: {XCeption_testing_accuracy}\")\n",
        "print(f\"Base model training time: {XCeption_base_model_execution_time}\")\n",
        "print(f\"Final model training time: {XCeption_final_model_execution_time}\")"
      ]
    },
    {
      "cell_type": "markdown",
      "metadata": {
        "id": "ood5bCCDJIUz"
      },
      "source": [
        "###**V-3. ResNet50V2**"
      ]
    },
    {
      "cell_type": "markdown",
      "metadata": {
        "id": "xNlMS3NiJYp_"
      },
      "source": [
        "####ResNet50V2 Model preparation"
      ]
    },
    {
      "cell_type": "code",
      "execution_count": null,
      "metadata": {
        "id": "v-2nzb7AKBV3"
      },
      "outputs": [],
      "source": [
        "model_name = \"ResNet50V2_train_base\"\n",
        "learning_rate = 0.001\n",
        "image_width = 224\n",
        "image_height = 224\n",
        "num_channels = 3\n",
        "batch_size = 64\n",
        "epochs = 10\n",
        "optimizer=keras.optimizers.Adam()\n",
        "loss=CategoricalCrossentropy()"
      ]
    },
    {
      "cell_type": "code",
      "execution_count": null,
      "metadata": {
        "colab": {
          "base_uri": "https://localhost:8080/"
        },
        "id": "0CgPPqH_K2qS",
        "outputId": "89cd419b-fc73-45c0-ad6f-893b6ef7a8c7"
      },
      "outputs": [
        {
          "output_type": "stream",
          "name": "stdout",
          "text": [
            "Downloading data from https://storage.googleapis.com/tensorflow/keras-applications/resnet/resnet50v2_weights_tf_dim_ordering_tf_kernels_notop.h5\n",
            "94668760/94668760 [==============================] - 1s 0us/step\n"
          ]
        }
      ],
      "source": [
        "# Load ResNet50V2 from keras.applications\n",
        "base_model = keras.applications.ResNet50V2(\n",
        "    include_top=False,\n",
        "    weights=\"imagenet\",\n",
        "    input_shape = (image_width, image_height, num_channels)\n",
        ")\n",
        "\n",
        "# Freeze model weights for baseline evaluation\n",
        "base_model.trainable = False"
      ]
    },
    {
      "cell_type": "code",
      "execution_count": null,
      "metadata": {
        "colab": {
          "base_uri": "https://localhost:8080/"
        },
        "id": "xCl4nwuzLBTn",
        "outputId": "33f7820f-9078-4d51-d388-bdb6c4b58e8a"
      },
      "outputs": [
        {
          "output_type": "stream",
          "name": "stdout",
          "text": [
            "Model: \"ResNet50V2_train_base\"\n",
            "_________________________________________________________________\n",
            " Layer (type)                Output Shape              Param #   \n",
            "=================================================================\n",
            " input_2 (InputLayer)        [(None, 224, 224, 3)]     0         \n",
            "                                                                 \n",
            " rescaling (Rescaling)       (None, 224, 224, 3)       0         \n",
            "                                                                 \n",
            " resnet50v2 (Functional)     (None, 7, 7, 2048)        23564800  \n",
            "                                                                 \n",
            " avg_pool (GlobalAveragePoo  (None, 2048)              0         \n",
            " ling2D)                                                         \n",
            "                                                                 \n",
            " batch_normalization (Batch  (None, 2048)              8192      \n",
            " Normalization)                                                  \n",
            "                                                                 \n",
            " prediction (Dense)          (None, 120)               245880    \n",
            "                                                                 \n",
            "=================================================================\n",
            "Total params: 23818872 (90.86 MB)\n",
            "Trainable params: 249976 (976.47 KB)\n",
            "Non-trainable params: 23568896 (89.91 MB)\n",
            "_________________________________________________________________\n"
          ]
        }
      ],
      "source": [
        "# Input Layer\n",
        "inputs = keras.Input(shape=(image_width, image_height, num_channels))\n",
        "\n",
        "# Scales input from (0, 255) to a range of (-1., +1.) for EfficientNet\n",
        "x = keras.layers.Rescaling(scale=1 / 127.5, offset=-1)(inputs)\n",
        "\n",
        "# EfficientNet Base model (freezing batch normalization layers)\n",
        "x = base_model(x, training=False)\n",
        "\n",
        "x = layers.GlobalAveragePooling2D(name=\"avg_pool\")(x)\n",
        "x = layers.BatchNormalization()(x)\n",
        "\n",
        "# One nodes for categorical classification\n",
        "outputs = keras.layers.Dense(NUM_CLASSES, activation=\"softmax\", name=\"prediction\")(x)\n",
        "\n",
        "# Create model\n",
        "model = keras.Model(inputs=inputs, outputs=outputs, name=model_name)\n",
        "\n",
        "# Output the model summary\n",
        "model.summary()\n",
        "\n",
        "# Compile the model\n",
        "model.compile(\n",
        "    optimizer=optimizer,\n",
        "    loss=loss,\n",
        "    metrics=[\"accuracy\"]\n",
        ")"
      ]
    },
    {
      "cell_type": "markdown",
      "metadata": {
        "id": "Pip9pq_6Jp6Y"
      },
      "source": [
        "####ResNet50V2 Feature Extraction - train the top layer"
      ]
    },
    {
      "cell_type": "code",
      "execution_count": null,
      "metadata": {
        "colab": {
          "base_uri": "https://localhost:8080/",
          "height": 1000,
          "referenced_widgets": [
            "22a135e9abad495d9676751409cb84df",
            "3c85fbd544a349aab5ce08f643a91702",
            "885ec6f49f064156ab84247bee958dc0",
            "bb23021486774b84ab9a86fddcb78ce5",
            "7f9d0c816aa54fd9b9def2e9eb0f98f3",
            "652b78c461fb4c3393b60c86f597a603",
            "e512b26cfe8943a4a43f1fc5b583e030",
            "48be5d52491d42be821e7c433e45503d"
          ]
        },
        "id": "1B9fyFQvMBZ_",
        "outputId": "75d441c1-3708-4d65-88e3-f8f3a338a0b4"
      },
      "outputs": [
        {
          "output_type": "stream",
          "name": "stderr",
          "text": [
            "\u001b[34m\u001b[1mwandb\u001b[0m: Currently logged in as: \u001b[33moll583\u001b[0m (\u001b[33mspotted-dog\u001b[0m). Use \u001b[1m`wandb login --relogin`\u001b[0m to force relogin\n"
          ]
        },
        {
          "output_type": "display_data",
          "data": {
            "text/plain": [
              "<IPython.core.display.HTML object>"
            ],
            "text/html": [
              "Tracking run with wandb version 0.15.12"
            ]
          },
          "metadata": {}
        },
        {
          "output_type": "display_data",
          "data": {
            "text/plain": [
              "<IPython.core.display.HTML object>"
            ],
            "text/html": [
              "Run data is saved locally in <code>/content/wandb/run-20231006_100220-p0t9ln8j</code>"
            ]
          },
          "metadata": {}
        },
        {
          "output_type": "display_data",
          "data": {
            "text/plain": [
              "<IPython.core.display.HTML object>"
            ],
            "text/html": [
              "Syncing run <strong><a href='https://wandb.ai/spotted-dog/Stanford-dogs%20breeds/runs/p0t9ln8j' target=\"_blank\">ResNet50V2_train_base</a></strong> to <a href='https://wandb.ai/spotted-dog/Stanford-dogs%20breeds' target=\"_blank\">Weights & Biases</a> (<a href='https://wandb.me/run' target=\"_blank\">docs</a>)<br/>"
            ]
          },
          "metadata": {}
        },
        {
          "output_type": "display_data",
          "data": {
            "text/plain": [
              "<IPython.core.display.HTML object>"
            ],
            "text/html": [
              " View project at <a href='https://wandb.ai/spotted-dog/Stanford-dogs%20breeds' target=\"_blank\">https://wandb.ai/spotted-dog/Stanford-dogs%20breeds</a>"
            ]
          },
          "metadata": {}
        },
        {
          "output_type": "display_data",
          "data": {
            "text/plain": [
              "<IPython.core.display.HTML object>"
            ],
            "text/html": [
              " View run at <a href='https://wandb.ai/spotted-dog/Stanford-dogs%20breeds/runs/p0t9ln8j' target=\"_blank\">https://wandb.ai/spotted-dog/Stanford-dogs%20breeds/runs/p0t9ln8j</a>"
            ]
          },
          "metadata": {}
        },
        {
          "output_type": "stream",
          "name": "stderr",
          "text": [
            "\u001b[34m\u001b[1mwandb\u001b[0m: \u001b[33mWARNING\u001b[0m The save_model argument by default saves the model in the HDF5 format that cannot save custom objects like subclassed models and custom layers. This behavior will be deprecated in a future release in favor of the SavedModel format. Meanwhile, the HDF5 model is saved as W&B files and the SavedModel as W&B Artifacts.\n"
          ]
        },
        {
          "output_type": "stream",
          "name": "stdout",
          "text": [
            "Epoch 1/10\n",
            "132/132 [==============================] - ETA: 0s - loss: 1.9987 - accuracy: 0.5049"
          ]
        },
        {
          "output_type": "stream",
          "name": "stderr",
          "text": [
            "/usr/local/lib/python3.10/dist-packages/keras/src/engine/training.py:3000: UserWarning: You are saving your model as an HDF5 file via `model.save()`. This file format is considered legacy. We recommend using instead the native Keras format, e.g. `model.save('my_model.keras')`.\n",
            "  saving_api.save_model(\n",
            "\u001b[34m\u001b[1mwandb\u001b[0m: Adding directory to artifact (/content/wandb/run-20231006_100220-p0t9ln8j/files/model-best)... Done. 0.3s\n"
          ]
        },
        {
          "output_type": "stream",
          "name": "stdout",
          "text": [
            "\b\b\b\b\b\b\b\b\b\b\b\b\b\b\b\b\b\b\b\b\b\b\b\b\b\b\b\b\b\b\b\b\b\b\b\b\b\b\b\b\b\b\b\b\b\b\b\b\b\b\b\b\b\b\b\b\b\b\b\b\b\b\b\b\b\b\b\b\b\b\b\b\b\b\b\b\b\b\b\b\b\b\b\b\r132/132 [==============================] - 63s 366ms/step - loss: 1.9987 - accuracy: 0.5049 - val_loss: 1.2584 - val_accuracy: 0.6639\n",
            "Epoch 2/10\n",
            "132/132 [==============================] - ETA: 0s - loss: 0.5876 - accuracy: 0.8411"
          ]
        },
        {
          "output_type": "stream",
          "name": "stderr",
          "text": [
            "/usr/local/lib/python3.10/dist-packages/keras/src/engine/training.py:3000: UserWarning: You are saving your model as an HDF5 file via `model.save()`. This file format is considered legacy. We recommend using instead the native Keras format, e.g. `model.save('my_model.keras')`.\n",
            "  saving_api.save_model(\n",
            "\u001b[34m\u001b[1mwandb\u001b[0m: Adding directory to artifact (/content/wandb/run-20231006_100220-p0t9ln8j/files/model-best)... Done. 0.3s\n"
          ]
        },
        {
          "output_type": "stream",
          "name": "stdout",
          "text": [
            "\b\b\b\b\b\b\b\b\b\b\b\b\b\b\b\b\b\b\b\b\b\b\b\b\b\b\b\b\b\b\b\b\b\b\b\b\b\b\b\b\b\b\b\b\b\b\b\b\b\b\b\b\b\b\b\b\b\b\b\b\b\b\b\b\b\b\b\b\b\b\b\b\b\b\b\b\b\b\b\b\b\b\b\b\r132/132 [==============================] - 46s 349ms/step - loss: 0.5876 - accuracy: 0.8411 - val_loss: 1.1883 - val_accuracy: 0.6639\n",
            "Epoch 3/10\n",
            "132/132 [==============================] - 27s 207ms/step - loss: 0.2679 - accuracy: 0.9500 - val_loss: 1.2091 - val_accuracy: 0.6617\n",
            "Epoch 4/10\n",
            "132/132 [==============================] - 28s 212ms/step - loss: 0.1362 - accuracy: 0.9861 - val_loss: 1.2260 - val_accuracy: 0.6667\n",
            "Epoch 5/10\n",
            "132/132 [==============================] - 27s 205ms/step - loss: 0.0819 - accuracy: 0.9937 - val_loss: 1.2464 - val_accuracy: 0.6733\n",
            "Epoch 6/10\n",
            "132/132 [==============================] - 28s 209ms/step - loss: 0.0560 - accuracy: 0.9969 - val_loss: 1.2685 - val_accuracy: 0.6756\n",
            "Epoch 7/10\n",
            "132/132 [==============================] - 27s 206ms/step - loss: 0.0414 - accuracy: 0.9976 - val_loss: 1.2875 - val_accuracy: 0.6794\n",
            "Epoch 8/10\n",
            "132/132 [==============================] - 28s 209ms/step - loss: 0.0321 - accuracy: 0.9982 - val_loss: 1.3044 - val_accuracy: 0.6800\n",
            "Epoch 9/10\n",
            "132/132 [==============================] - 28s 210ms/step - loss: 0.0255 - accuracy: 0.9985 - val_loss: 1.3201 - val_accuracy: 0.6811\n",
            "Epoch 10/10\n",
            "132/132 [==============================] - 27s 208ms/step - loss: 0.0208 - accuracy: 0.9986 - val_loss: 1.3353 - val_accuracy: 0.6794\n",
            "Model weights and training history saved\n",
            "Training execution time (mins) 7.657653578122457\n"
          ]
        },
        {
          "output_type": "display_data",
          "data": {
            "text/plain": [
              "<IPython.core.display.HTML object>"
            ],
            "text/html": [
              "Waiting for W&B process to finish... <strong style=\"color:green\">(success).</strong>"
            ]
          },
          "metadata": {}
        },
        {
          "output_type": "display_data",
          "data": {
            "text/plain": [
              "VBox(children=(Label(value='193.669 MB of 193.669 MB uploaded (0.581 MB deduped)\\r'), FloatProgress(value=1.0,…"
            ],
            "application/vnd.jupyter.widget-view+json": {
              "version_major": 2,
              "version_minor": 0,
              "model_id": "22a135e9abad495d9676751409cb84df"
            }
          },
          "metadata": {}
        },
        {
          "output_type": "display_data",
          "data": {
            "text/plain": [
              "<IPython.core.display.HTML object>"
            ],
            "text/html": [
              "<style>\n",
              "    table.wandb td:nth-child(1) { padding: 0 10px; text-align: left ; width: auto;} td:nth-child(2) {text-align: left ; width: 100%}\n",
              "    .wandb-row { display: flex; flex-direction: row; flex-wrap: wrap; justify-content: flex-start; width: 100% }\n",
              "    .wandb-col { display: flex; flex-direction: column; flex-basis: 100%; flex: 1; padding: 10px; }\n",
              "    </style>\n",
              "<div class=\"wandb-row\"><div class=\"wandb-col\"><h3>Run history:</h3><br/><table class=\"wandb\"><tr><td>accuracy</td><td>▁▆▇███████</td></tr><tr><td>epoch</td><td>▁▂▃▃▄▅▆▆▇█</td></tr><tr><td>loss</td><td>█▃▂▁▁▁▁▁▁▁</td></tr><tr><td>val_accuracy</td><td>▂▂▁▃▅▆▇██▇</td></tr><tr><td>val_loss</td><td>▄▁▂▃▄▅▆▇▇█</td></tr></table><br/></div><div class=\"wandb-col\"><h3>Run summary:</h3><br/><table class=\"wandb\"><tr><td>accuracy</td><td>0.99857</td></tr><tr><td>best_epoch</td><td>1</td></tr><tr><td>best_val_loss</td><td>1.18835</td></tr><tr><td>epoch</td><td>9</td></tr><tr><td>loss</td><td>0.02076</td></tr><tr><td>val_accuracy</td><td>0.67944</td></tr><tr><td>val_loss</td><td>1.33534</td></tr></table><br/></div></div>"
            ]
          },
          "metadata": {}
        },
        {
          "output_type": "display_data",
          "data": {
            "text/plain": [
              "<IPython.core.display.HTML object>"
            ],
            "text/html": [
              " View run <strong style=\"color:#cdcd00\">ResNet50V2_train_base</strong> at: <a href='https://wandb.ai/spotted-dog/Stanford-dogs%20breeds/runs/p0t9ln8j' target=\"_blank\">https://wandb.ai/spotted-dog/Stanford-dogs%20breeds/runs/p0t9ln8j</a><br/>Synced 5 W&B file(s), 1 media file(s), 10 artifact file(s) and 1 other file(s)"
            ]
          },
          "metadata": {}
        },
        {
          "output_type": "display_data",
          "data": {
            "text/plain": [
              "<IPython.core.display.HTML object>"
            ],
            "text/html": [
              "Find logs at: <code>./wandb/run-20231006_100220-p0t9ln8j/logs</code>"
            ]
          },
          "metadata": {}
        }
      ],
      "source": [
        "# Initialize a W&B run\n",
        "wandb.init(\n",
        "    project = project_name,\n",
        "    config = {\n",
        "      \"learning_rate\": learning_rate,\n",
        "      \"epochs\": epochs,\n",
        "      \"batch_size\": batch_size,\n",
        "      \"model_name\": model_name\n",
        "    },\n",
        "    name = model_name\n",
        ")\n",
        "\n",
        "# Free up memory\n",
        "K.clear_session()\n",
        "\n",
        "# Track time\n",
        "start_time = time.time()\n",
        "if USE_SAVED_MODEL:\n",
        "    # Load saved weights and model history\n",
        "    model.load_weights(\"data/baseline_model\")\n",
        "\n",
        "    with open(\"data/baseline_model_hist.pickle\", \"rb\") as filehandler:\n",
        "        model_history = pickle.load(filehandler)\n",
        "\n",
        "    print(\"Model weights and training history successfully loaded\")\n",
        "\n",
        "else:\n",
        "    # Train the Model\n",
        "    model_history = model.fit(\n",
        "        train_ds,\n",
        "        epochs=epochs,\n",
        "        callbacks=[WandbCallback()],\n",
        "        validation_data=val_ds\n",
        "    )\n",
        "\n",
        "    # Create \"data\" directory if it does not yet exist\n",
        "    if not os.path.exists(\"data\"):\n",
        "        os.mkdir(\"data\")\n",
        "\n",
        "    # Save training history dict using pickle\n",
        "    with open(\"data/baseline_model_hist.pickle\", \"wb\") as filehandler:\n",
        "        model_history = model_history.history\n",
        "        pickle.dump(model_history, filehandler)\n",
        "\n",
        "    # Save model and weights for future use\n",
        "    model.save_weights(\"data/baseline_model\")\n",
        "\n",
        "    print(\"Model weights and training history saved\")\n",
        "\n",
        "execution_time = (time.time() - start_time)/60.0\n",
        "print(\"Training execution time (mins)\",execution_time)\n",
        "\n",
        "# Update W&B\n",
        "wandb.config.update({\"execution_time\": execution_time})\n",
        "# Close the W&B run\n",
        "wandb.run.finish()\n",
        "\n",
        "ResNet50V2_base_model_execution_time = execution_time"
      ]
    },
    {
      "cell_type": "markdown",
      "metadata": {
        "id": "Hp2KgWlqJ28F"
      },
      "source": [
        "####ResNet50V2 Fine-Tuning"
      ]
    },
    {
      "cell_type": "code",
      "execution_count": null,
      "metadata": {
        "colab": {
          "base_uri": "https://localhost:8080/",
          "height": 1000,
          "referenced_widgets": [
            "ba7ccbde135d4f419ccd648a7c198bbd",
            "70ca99add27641108ac1300c80a1be6e",
            "3783766d07d24815898105878829e1c0",
            "57373ff1763e471b9e1e90732dd598e4",
            "8a0c4f28ad0940e399ab3924a55e0722",
            "b2abfb083dbb442c9b0c726df90faa5e",
            "5e8474a0bc424739b136a9fe28f29bcd",
            "b21b249ff9754e208027bbaaedab99e4"
          ]
        },
        "id": "MJPhS7YRMO2_",
        "outputId": "2b46770c-e3c1-4d47-c65f-df2af0fe79b0"
      },
      "outputs": [
        {
          "output_type": "display_data",
          "data": {
            "text/plain": [
              "<IPython.core.display.HTML object>"
            ],
            "text/html": [
              "Tracking run with wandb version 0.15.12"
            ]
          },
          "metadata": {}
        },
        {
          "output_type": "display_data",
          "data": {
            "text/plain": [
              "<IPython.core.display.HTML object>"
            ],
            "text/html": [
              "Run data is saved locally in <code>/content/wandb/run-20231006_101009-r8xdqkpq</code>"
            ]
          },
          "metadata": {}
        },
        {
          "output_type": "display_data",
          "data": {
            "text/plain": [
              "<IPython.core.display.HTML object>"
            ],
            "text/html": [
              "Syncing run <strong><a href='https://wandb.ai/spotted-dog/Stanford-dogs%20breeds/runs/r8xdqkpq' target=\"_blank\">ResNetV2_fine-tune</a></strong> to <a href='https://wandb.ai/spotted-dog/Stanford-dogs%20breeds' target=\"_blank\">Weights & Biases</a> (<a href='https://wandb.me/run' target=\"_blank\">docs</a>)<br/>"
            ]
          },
          "metadata": {}
        },
        {
          "output_type": "display_data",
          "data": {
            "text/plain": [
              "<IPython.core.display.HTML object>"
            ],
            "text/html": [
              " View project at <a href='https://wandb.ai/spotted-dog/Stanford-dogs%20breeds' target=\"_blank\">https://wandb.ai/spotted-dog/Stanford-dogs%20breeds</a>"
            ]
          },
          "metadata": {}
        },
        {
          "output_type": "display_data",
          "data": {
            "text/plain": [
              "<IPython.core.display.HTML object>"
            ],
            "text/html": [
              " View run at <a href='https://wandb.ai/spotted-dog/Stanford-dogs%20breeds/runs/r8xdqkpq' target=\"_blank\">https://wandb.ai/spotted-dog/Stanford-dogs%20breeds/runs/r8xdqkpq</a>"
            ]
          },
          "metadata": {}
        },
        {
          "output_type": "stream",
          "name": "stdout",
          "text": [
            "Model: \"ResNet50V2_train_base\"\n",
            "_________________________________________________________________\n",
            " Layer (type)                Output Shape              Param #   \n",
            "=================================================================\n",
            " input_2 (InputLayer)        [(None, 224, 224, 3)]     0         \n",
            "                                                                 \n",
            " rescaling (Rescaling)       (None, 224, 224, 3)       0         \n",
            "                                                                 \n",
            " resnet50v2 (Functional)     (None, 7, 7, 2048)        23564800  \n",
            "                                                                 \n",
            " avg_pool (GlobalAveragePoo  (None, 2048)              0         \n",
            " ling2D)                                                         \n",
            "                                                                 \n",
            " batch_normalization (Batch  (None, 2048)              8192      \n",
            " Normalization)                                                  \n",
            "                                                                 \n",
            " prediction (Dense)          (None, 120)               245880    \n",
            "                                                                 \n",
            "=================================================================\n",
            "Total params: 23818872 (90.86 MB)\n",
            "Trainable params: 23769336 (90.67 MB)\n",
            "Non-trainable params: 49536 (193.50 KB)\n",
            "_________________________________________________________________\n",
            "Epoch 1/10\n",
            "132/132 [==============================] - ETA: 0s - loss: 0.0273 - accuracy: 0.9980"
          ]
        },
        {
          "output_type": "stream",
          "name": "stderr",
          "text": [
            "/usr/local/lib/python3.10/dist-packages/keras/src/engine/training.py:3000: UserWarning: You are saving your model as an HDF5 file via `model.save()`. This file format is considered legacy. We recommend using instead the native Keras format, e.g. `model.save('my_model.keras')`.\n",
            "  saving_api.save_model(\n",
            "\u001b[34m\u001b[1mwandb\u001b[0m: Adding directory to artifact (/content/wandb/run-20231006_101009-r8xdqkpq/files/model-best)... Done. 2.1s\n"
          ]
        },
        {
          "output_type": "stream",
          "name": "stdout",
          "text": [
            "\b\b\b\b\b\b\b\b\b\b\b\b\b\b\b\b\b\b\b\b\b\b\b\b\b\b\b\b\b\b\b\b\b\b\b\b\b\b\b\b\b\b\b\b\b\b\b\b\b\b\b\b\b\b\b\b\b\b\b\b\b\b\b\b\b\b\b\b\b\b\b\b\b\b\b\b\b\b\b\b\b\b\b\b\r132/132 [==============================] - 149s 850ms/step - loss: 0.0273 - accuracy: 0.9980 - val_loss: 1.3736 - val_accuracy: 0.6850\n",
            "Epoch 2/10\n",
            "132/132 [==============================] - ETA: 0s - loss: 0.0126 - accuracy: 0.9985"
          ]
        },
        {
          "output_type": "stream",
          "name": "stderr",
          "text": [
            "/usr/local/lib/python3.10/dist-packages/keras/src/engine/training.py:3000: UserWarning: You are saving your model as an HDF5 file via `model.save()`. This file format is considered legacy. We recommend using instead the native Keras format, e.g. `model.save('my_model.keras')`.\n",
            "  saving_api.save_model(\n",
            "\u001b[34m\u001b[1mwandb\u001b[0m: Adding directory to artifact (/content/wandb/run-20231006_101009-r8xdqkpq/files/model-best)... Done. 3.5s\n"
          ]
        },
        {
          "output_type": "stream",
          "name": "stdout",
          "text": [
            "\b\b\b\b\b\b\b\b\b\b\b\b\b\b\b\b\b\b\b\b\b\b\b\b\b\b\b\b\b\b\b\b\b\b\b\b\b\b\b\b\b\b\b\b\b\b\b\b\b\b\b\b\b\b\b\b\b\b\b\b\b\b\b\b\b\b\b\b\b\b\b\b\b\b\b\b\b\b\b\b\b\b\b\b\r132/132 [==============================] - 110s 834ms/step - loss: 0.0126 - accuracy: 0.9985 - val_loss: 1.3699 - val_accuracy: 0.6883\n",
            "Epoch 3/10\n",
            "132/132 [==============================] - ETA: 0s - loss: 0.0077 - accuracy: 0.9994"
          ]
        },
        {
          "output_type": "stream",
          "name": "stderr",
          "text": [
            "/usr/local/lib/python3.10/dist-packages/keras/src/engine/training.py:3000: UserWarning: You are saving your model as an HDF5 file via `model.save()`. This file format is considered legacy. We recommend using instead the native Keras format, e.g. `model.save('my_model.keras')`.\n",
            "  saving_api.save_model(\n",
            "\u001b[34m\u001b[1mwandb\u001b[0m: Adding directory to artifact (/content/wandb/run-20231006_101009-r8xdqkpq/files/model-best)... Done. 24.6s\n"
          ]
        },
        {
          "output_type": "stream",
          "name": "stdout",
          "text": [
            "\b\b\b\b\b\b\b\b\b\b\b\b\b\b\b\b\b\b\b\b\b\b\b\b\b\b\b\b\b\b\b\b\b\b\b\b\b\b\b\b\b\b\b\b\b\b\b\b\b\b\b\b\b\b\b\b\b\b\b\b\b\b\b\b\b\b\b\b\b\b\b\b\b\b\b\b\b\b\b\b\b\b\b\b\r132/132 [==============================] - 170s 1s/step - loss: 0.0077 - accuracy: 0.9994 - val_loss: 1.3024 - val_accuracy: 0.7022\n",
            "Epoch 4/10\n",
            "132/132 [==============================] - 77s 586ms/step - loss: 0.0032 - accuracy: 0.9999 - val_loss: 1.3083 - val_accuracy: 0.6989\n",
            "Epoch 5/10\n",
            "132/132 [==============================] - 77s 585ms/step - loss: 0.0021 - accuracy: 1.0000 - val_loss: 1.3039 - val_accuracy: 0.7006\n",
            "Epoch 6/10\n",
            "132/132 [==============================] - 77s 582ms/step - loss: 0.0017 - accuracy: 1.0000 - val_loss: 1.3033 - val_accuracy: 0.6989\n",
            "Epoch 7/10\n",
            "132/132 [==============================] - 77s 583ms/step - loss: 0.0014 - accuracy: 1.0000 - val_loss: 1.3033 - val_accuracy: 0.7006\n",
            "Epoch 8/10\n",
            "132/132 [==============================] - 77s 581ms/step - loss: 0.0012 - accuracy: 1.0000 - val_loss: 1.3039 - val_accuracy: 0.7017\n",
            "Epoch 9/10\n",
            "132/132 [==============================] - 77s 586ms/step - loss: 0.0010 - accuracy: 1.0000 - val_loss: 1.3045 - val_accuracy: 0.7033\n",
            "Epoch 10/10\n",
            "132/132 [==============================] - 78s 588ms/step - loss: 8.7753e-04 - accuracy: 1.0000 - val_loss: 1.3054 - val_accuracy: 0.7061\n",
            "Training execution time (mins) 16.479661762714386\n"
          ]
        },
        {
          "output_type": "display_data",
          "data": {
            "text/plain": [
              "<IPython.core.display.HTML object>"
            ],
            "text/html": [
              "Waiting for W&B process to finish... <strong style=\"color:green\">(success).</strong>"
            ]
          },
          "metadata": {}
        },
        {
          "output_type": "display_data",
          "data": {
            "text/plain": [
              "VBox(children=(Label(value='831.576 MB of 831.576 MB uploaded (1.159 MB deduped)\\r'), FloatProgress(value=1.0,…"
            ],
            "application/vnd.jupyter.widget-view+json": {
              "version_major": 2,
              "version_minor": 0,
              "model_id": "ba7ccbde135d4f419ccd648a7c198bbd"
            }
          },
          "metadata": {}
        },
        {
          "output_type": "display_data",
          "data": {
            "text/plain": [
              "<IPython.core.display.HTML object>"
            ],
            "text/html": [
              "<style>\n",
              "    table.wandb td:nth-child(1) { padding: 0 10px; text-align: left ; width: auto;} td:nth-child(2) {text-align: left ; width: 100%}\n",
              "    .wandb-row { display: flex; flex-direction: row; flex-wrap: wrap; justify-content: flex-start; width: 100% }\n",
              "    .wandb-col { display: flex; flex-direction: column; flex-basis: 100%; flex: 1; padding: 10px; }\n",
              "    </style>\n",
              "<div class=\"wandb-row\"><div class=\"wandb-col\"><h3>Run history:</h3><br/><table class=\"wandb\"><tr><td>accuracy</td><td>▁▃▆███████</td></tr><tr><td>epoch</td><td>▁▂▃▃▄▅▆▆▇█</td></tr><tr><td>loss</td><td>█▄▃▂▁▁▁▁▁▁</td></tr><tr><td>val_accuracy</td><td>▁▂▇▆▆▆▆▇▇█</td></tr><tr><td>val_loss</td><td>██▁▂▁▁▁▁▁▁</td></tr></table><br/></div><div class=\"wandb-col\"><h3>Run summary:</h3><br/><table class=\"wandb\"><tr><td>accuracy</td><td>1.0</td></tr><tr><td>best_epoch</td><td>2</td></tr><tr><td>best_val_loss</td><td>1.30239</td></tr><tr><td>epoch</td><td>9</td></tr><tr><td>loss</td><td>0.00088</td></tr><tr><td>val_accuracy</td><td>0.70611</td></tr><tr><td>val_loss</td><td>1.30541</td></tr></table><br/></div></div>"
            ]
          },
          "metadata": {}
        },
        {
          "output_type": "display_data",
          "data": {
            "text/plain": [
              "<IPython.core.display.HTML object>"
            ],
            "text/html": [
              " View run <strong style=\"color:#cdcd00\">ResNetV2_fine-tune</strong> at: <a href='https://wandb.ai/spotted-dog/Stanford-dogs%20breeds/runs/r8xdqkpq' target=\"_blank\">https://wandb.ai/spotted-dog/Stanford-dogs%20breeds/runs/r8xdqkpq</a><br/>Synced 5 W&B file(s), 1 media file(s), 15 artifact file(s) and 1 other file(s)"
            ]
          },
          "metadata": {}
        },
        {
          "output_type": "display_data",
          "data": {
            "text/plain": [
              "<IPython.core.display.HTML object>"
            ],
            "text/html": [
              "Find logs at: <code>./wandb/run-20231006_101009-r8xdqkpq/logs</code>"
            ]
          },
          "metadata": {}
        }
      ],
      "source": [
        "model_name = \"ResNetV2_fine-tune\"\n",
        "learning_rate = 0.00001\n",
        "optimizer=keras.optimizers.Adam(1e-5)\n",
        "\n",
        "# Initialize a W&B run\n",
        "wandb.init(\n",
        "    project = project_name,\n",
        "    config = {\n",
        "      \"learning_rate\": learning_rate,\n",
        "      \"epochs\": epochs,\n",
        "      \"batch_size\": batch_size,\n",
        "      \"model_name\": model_name\n",
        "    },\n",
        "    name = model_name\n",
        ")\n",
        "\n",
        "# Free up memory\n",
        "K.clear_session()\n",
        "\n",
        "# Track time\n",
        "start_time = time.time()\n",
        "\n",
        "base_model.trainable = True\n",
        "model.summary()\n",
        "model.compile(\n",
        "    optimizer=optimizer,\n",
        "    loss=loss,\n",
        "    metrics=[\"accuracy\"]\n",
        ")\n",
        "model.fit(\n",
        "    train_ds, epochs=epochs, callbacks=[WandbCallback()], validation_data = val_ds\n",
        ")\n",
        "\n",
        "execution_time = (time.time() - start_time)/60.0\n",
        "print(\"Training execution time (mins)\",execution_time)\n",
        "\n",
        "# Update W&B\n",
        "wandb.config.update({\"execution_time\": execution_time})\n",
        "# Close the W&B run\n",
        "wandb.run.finish()\n",
        "\n",
        "ResNet50V2_final_model_execution_time = execution_time"
      ]
    },
    {
      "cell_type": "markdown",
      "metadata": {
        "id": "pe7EF7iSkNOV"
      },
      "source": [
        "#### ResNet50V2 Prediction and testing accuracy"
      ]
    },
    {
      "cell_type": "code",
      "execution_count": null,
      "metadata": {
        "colab": {
          "base_uri": "https://localhost:8080/"
        },
        "id": "Ov6_uVk-kTeg",
        "outputId": "3ef18a61-4934-4995-8376-b2ea577d6fc2"
      },
      "outputs": [
        {
          "output_type": "stream",
          "name": "stdout",
          "text": [
            "29/29 [==============================] - 7s 166ms/step\n"
          ]
        }
      ],
      "source": [
        "# Get model predictions on test set\n",
        "y_pred = model.predict(test_ds)\n",
        "y_pred = to_categorical(np.argmax(y_pred, 1), dtype = \"int64\")\n",
        "\n",
        "# Extract labels from test dataset\n",
        "y_true = np.concatenate([y for x, y in test_ds], axis=0)"
      ]
    },
    {
      "cell_type": "code",
      "execution_count": null,
      "metadata": {
        "colab": {
          "base_uri": "https://localhost:8080/"
        },
        "id": "B4lyRM5VkUoN",
        "outputId": "c9494d86-764e-4698-fab0-e3a3285f47d0"
      },
      "outputs": [
        {
          "output_type": "stream",
          "name": "stdout",
          "text": [
            "ResNet50V2 testing accuracy: 0.6822222222222222\n",
            "Base model training time: 7.657653578122457\n",
            "Final model training time: 16.479661762714386\n"
          ]
        }
      ],
      "source": [
        "# Model accuracy and training time summary\n",
        "ResNet50V2_testing_accuracy = accuracy_score(y_true, y_pred)\n",
        "print(f\"ResNet50V2 testing accuracy: {ResNet50V2_testing_accuracy}\")\n",
        "print(f\"Base model training time: {ResNet50V2_base_model_execution_time}\")\n",
        "print(f\"Final model training time: {ResNet50V2_final_model_execution_time}\")"
      ]
    },
    {
      "cell_type": "markdown",
      "metadata": {
        "id": "fRJNRKylDyz5"
      },
      "source": [
        "###**V-4. VGG16**"
      ]
    },
    {
      "cell_type": "markdown",
      "metadata": {
        "id": "vWlpLVWvDuNo"
      },
      "source": [
        "####VGG16 Model preparation"
      ]
    },
    {
      "cell_type": "code",
      "execution_count": null,
      "metadata": {
        "id": "XffjUdscFSOi"
      },
      "outputs": [],
      "source": [
        "model_name = \"VGG16_train_base\"\n",
        "learning_rate = 0.001\n",
        "image_width = 224\n",
        "image_height = 224\n",
        "num_channels = 3\n",
        "batch_size = 64\n",
        "epochs = 10\n",
        "optimizer=keras.optimizers.Adam()\n",
        "loss=CategoricalCrossentropy()"
      ]
    },
    {
      "cell_type": "code",
      "execution_count": null,
      "metadata": {
        "colab": {
          "base_uri": "https://localhost:8080/"
        },
        "id": "McW3MKrNFmgB",
        "outputId": "640d3031-88a6-4f29-bab7-601f4aabb2a5"
      },
      "outputs": [
        {
          "output_type": "stream",
          "name": "stdout",
          "text": [
            "Downloading data from https://storage.googleapis.com/tensorflow/keras-applications/vgg16/vgg16_weights_tf_dim_ordering_tf_kernels_notop.h5\n",
            "58889256/58889256 [==============================] - 1s 0us/step\n"
          ]
        }
      ],
      "source": [
        "# Load EfficientNet VGG16 from keras.applications\n",
        "base_model = keras.applications.VGG16(\n",
        "    include_top=False,\n",
        "    weights=\"imagenet\",\n",
        "    input_shape = (image_width, image_height, num_channels)\n",
        ")\n",
        "\n",
        "# Freeze model weights for baseline evaluation\n",
        "base_model.trainable = False"
      ]
    },
    {
      "cell_type": "code",
      "execution_count": null,
      "metadata": {
        "colab": {
          "base_uri": "https://localhost:8080/"
        },
        "id": "eL5QKWRXIcPi",
        "outputId": "0f6dc8d4-c13b-4c93-d320-c85df2d998cb"
      },
      "outputs": [
        {
          "output_type": "stream",
          "name": "stdout",
          "text": [
            "Model: \"VGG16_train_base\"\n",
            "_________________________________________________________________\n",
            " Layer (type)                Output Shape              Param #   \n",
            "=================================================================\n",
            " input_4 (InputLayer)        [(None, 224, 224, 3)]     0         \n",
            "                                                                 \n",
            " rescaling (Rescaling)       (None, 224, 224, 3)       0         \n",
            "                                                                 \n",
            " vgg16 (Functional)          (None, 7, 7, 512)         14714688  \n",
            "                                                                 \n",
            " avg_pool (GlobalAveragePoo  (None, 512)               0         \n",
            " ling2D)                                                         \n",
            "                                                                 \n",
            " batch_normalization (Batch  (None, 512)               2048      \n",
            " Normalization)                                                  \n",
            "                                                                 \n",
            " prediction (Dense)          (None, 120)               61560     \n",
            "                                                                 \n",
            "=================================================================\n",
            "Total params: 14778296 (56.37 MB)\n",
            "Trainable params: 62584 (244.47 KB)\n",
            "Non-trainable params: 14715712 (56.14 MB)\n",
            "_________________________________________________________________\n"
          ]
        }
      ],
      "source": [
        "# Input Layer\n",
        "inputs = keras.Input(shape=(image_width, image_height, num_channels))\n",
        "\n",
        "# Scales input from (0, 255) to a range of (-1., +1.) for EfficientNet\n",
        "x = keras.layers.Rescaling(scale=1 / 127.5, offset=-1)(inputs)\n",
        "\n",
        "# EfficientNet Base model (freezing batch normalization layers)\n",
        "x = base_model(x, training=False)\n",
        "\n",
        "x = layers.GlobalAveragePooling2D(name=\"avg_pool\")(x)\n",
        "x = layers.BatchNormalization()(x)\n",
        "\n",
        "# One nodes for categorical classification\n",
        "outputs = keras.layers.Dense(NUM_CLASSES, activation=\"softmax\", name=\"prediction\")(x)\n",
        "\n",
        "# Create model\n",
        "model = keras.Model(inputs=inputs, outputs=outputs, name=model_name)\n",
        "\n",
        "# Output the model summary\n",
        "model.summary()\n",
        "\n",
        "# Compile the model\n",
        "model.compile(\n",
        "    optimizer=optimizer,\n",
        "    loss=loss,\n",
        "    metrics=[\"accuracy\"]\n",
        ")"
      ]
    },
    {
      "cell_type": "markdown",
      "metadata": {
        "id": "4AaE4Nx7EKZd"
      },
      "source": [
        "####VGG16 Feature Extraction - train the top layer"
      ]
    },
    {
      "cell_type": "code",
      "execution_count": null,
      "metadata": {
        "colab": {
          "base_uri": "https://localhost:8080/",
          "height": 1000
        },
        "id": "dbF3C_IvIFy2",
        "outputId": "118ec430-5c0b-4866-c7dc-6d8e0d9cdedf"
      },
      "outputs": [
        {
          "output_type": "display_data",
          "data": {
            "text/plain": [
              "<IPython.core.display.HTML object>"
            ],
            "text/html": [
              "Tracking run with wandb version 0.15.12"
            ]
          },
          "metadata": {}
        },
        {
          "output_type": "display_data",
          "data": {
            "text/plain": [
              "<IPython.core.display.HTML object>"
            ],
            "text/html": [
              "Run data is saved locally in <code>/content/wandb/run-20231006_103159-6xbn1x60</code>"
            ]
          },
          "metadata": {}
        },
        {
          "output_type": "display_data",
          "data": {
            "text/plain": [
              "<IPython.core.display.HTML object>"
            ],
            "text/html": [
              "Syncing run <strong><a href='https://wandb.ai/spotted-dog/Stanford-dogs%20breeds/runs/6xbn1x60' target=\"_blank\">VGG16_train_base</a></strong> to <a href='https://wandb.ai/spotted-dog/Stanford-dogs%20breeds' target=\"_blank\">Weights & Biases</a> (<a href='https://wandb.me/run' target=\"_blank\">docs</a>)<br/>"
            ]
          },
          "metadata": {}
        },
        {
          "output_type": "display_data",
          "data": {
            "text/plain": [
              "<IPython.core.display.HTML object>"
            ],
            "text/html": [
              " View project at <a href='https://wandb.ai/spotted-dog/Stanford-dogs%20breeds' target=\"_blank\">https://wandb.ai/spotted-dog/Stanford-dogs%20breeds</a>"
            ]
          },
          "metadata": {}
        },
        {
          "output_type": "display_data",
          "data": {
            "text/plain": [
              "<IPython.core.display.HTML object>"
            ],
            "text/html": [
              " View run at <a href='https://wandb.ai/spotted-dog/Stanford-dogs%20breeds/runs/6xbn1x60' target=\"_blank\">https://wandb.ai/spotted-dog/Stanford-dogs%20breeds/runs/6xbn1x60</a>"
            ]
          },
          "metadata": {}
        },
        {
          "output_type": "stream",
          "name": "stdout",
          "text": [
            "Epoch 1/10\n",
            "132/132 [==============================] - ETA: 0s - loss: 4.0649 - accuracy: 0.1137"
          ]
        },
        {
          "output_type": "stream",
          "name": "stderr",
          "text": [
            "/usr/local/lib/python3.10/dist-packages/keras/src/engine/training.py:3000: UserWarning: You are saving your model as an HDF5 file via `model.save()`. This file format is considered legacy. We recommend using instead the native Keras format, e.g. `model.save('my_model.keras')`.\n",
            "  saving_api.save_model(\n",
            "\u001b[34m\u001b[1mwandb\u001b[0m: Adding directory to artifact (/content/wandb/run-20231006_103159-6xbn1x60/files/model-best)... Done. 5.3s\n"
          ]
        },
        {
          "output_type": "stream",
          "name": "stdout",
          "text": [
            "\b\b\b\b\b\b\b\b\b\b\b\b\b\b\b\b\b\b\b\b\b\b\b\b\b\b\b\b\b\b\b\b\b\b\b\b\b\b\b\b\b\b\b\b\b\b\b\b\b\b\b\b\b\b\b\b\b\b\b\b\b\b\b\b\b\b\b\b\b\b\b\b\b\b\b\b\b\b\b\b\b\b\b\b\r132/132 [==============================] - 79s 518ms/step - loss: 4.0649 - accuracy: 0.1137 - val_loss: 4.2719 - val_accuracy: 0.1083\n",
            "Epoch 2/10\n",
            "132/132 [==============================] - ETA: 0s - loss: 2.6711 - accuracy: 0.3665"
          ]
        },
        {
          "output_type": "stream",
          "name": "stderr",
          "text": [
            "/usr/local/lib/python3.10/dist-packages/keras/src/engine/training.py:3000: UserWarning: You are saving your model as an HDF5 file via `model.save()`. This file format is considered legacy. We recommend using instead the native Keras format, e.g. `model.save('my_model.keras')`.\n",
            "  saving_api.save_model(\n",
            "\u001b[34m\u001b[1mwandb\u001b[0m: Adding directory to artifact (/content/wandb/run-20231006_103159-6xbn1x60/files/model-best)... Done. 3.3s\n"
          ]
        },
        {
          "output_type": "stream",
          "name": "stdout",
          "text": [
            "\b\b\b\b\b\b\b\b\b\b\b\b\b\b\b\b\b\b\b\b\b\b\b\b\b\b\b\b\b\b\b\b\b\b\b\b\b\b\b\b\b\b\b\b\b\b\b\b\b\b\b\b\b\b\b\b\b\b\b\b\b\b\b\b\b\b\b\b\b\b\b\b\b\b\b\b\b\b\b\b\b\b\b\b\r132/132 [==============================] - 58s 441ms/step - loss: 2.6711 - accuracy: 0.3665 - val_loss: 3.4797 - val_accuracy: 0.2950\n",
            "Epoch 3/10\n",
            "132/132 [==============================] - ETA: 0s - loss: 2.0766 - accuracy: 0.5040"
          ]
        },
        {
          "output_type": "stream",
          "name": "stderr",
          "text": [
            "/usr/local/lib/python3.10/dist-packages/keras/src/engine/training.py:3000: UserWarning: You are saving your model as an HDF5 file via `model.save()`. This file format is considered legacy. We recommend using instead the native Keras format, e.g. `model.save('my_model.keras')`.\n",
            "  saving_api.save_model(\n",
            "\u001b[34m\u001b[1mwandb\u001b[0m: Adding directory to artifact (/content/wandb/run-20231006_103159-6xbn1x60/files/model-best)... Done. 5.7s\n"
          ]
        },
        {
          "output_type": "stream",
          "name": "stdout",
          "text": [
            "\b\b\b\b\b\b\b\b\b\b\b\b\b\b\b\b\b\b\b\b\b\b\b\b\b\b\b\b\b\b\b\b\b\b\b\b\b\b\b\b\b\b\b\b\b\b\b\b\b\b\b\b\b\b\b\b\b\b\b\b\b\b\b\b\b\b\b\b\b\b\b\b\b\b\b\b\b\b\b\b\b\b\b\b\r132/132 [==============================] - 62s 472ms/step - loss: 2.0766 - accuracy: 0.5040 - val_loss: 2.7709 - val_accuracy: 0.3711\n",
            "Epoch 4/10\n",
            "132/132 [==============================] - ETA: 0s - loss: 1.7169 - accuracy: 0.5886"
          ]
        },
        {
          "output_type": "stream",
          "name": "stderr",
          "text": [
            "/usr/local/lib/python3.10/dist-packages/keras/src/engine/training.py:3000: UserWarning: You are saving your model as an HDF5 file via `model.save()`. This file format is considered legacy. We recommend using instead the native Keras format, e.g. `model.save('my_model.keras')`.\n",
            "  saving_api.save_model(\n",
            "\u001b[34m\u001b[1mwandb\u001b[0m: Adding directory to artifact (/content/wandb/run-20231006_103159-6xbn1x60/files/model-best)... Done. 8.5s\n"
          ]
        },
        {
          "output_type": "stream",
          "name": "stdout",
          "text": [
            "\b\b\b\b\b\b\b\b\b\b\b\b\b\b\b\b\b\b\b\b\b\b\b\b\b\b\b\b\b\b\b\b\b\b\b\b\b\b\b\b\b\b\b\b\b\b\b\b\b\b\b\b\b\b\b\b\b\b\b\b\b\b\b\b\b\b\b\b\b\b\b\b\b\b\b\b\b\b\b\b\b\b\b\b\r132/132 [==============================] - 62s 469ms/step - loss: 1.7169 - accuracy: 0.5886 - val_loss: 2.3934 - val_accuracy: 0.3978\n",
            "Epoch 5/10\n",
            "132/132 [==============================] - ETA: 0s - loss: 1.4624 - accuracy: 0.6533"
          ]
        },
        {
          "output_type": "stream",
          "name": "stderr",
          "text": [
            "/usr/local/lib/python3.10/dist-packages/keras/src/engine/training.py:3000: UserWarning: You are saving your model as an HDF5 file via `model.save()`. This file format is considered legacy. We recommend using instead the native Keras format, e.g. `model.save('my_model.keras')`.\n",
            "  saving_api.save_model(\n",
            "\u001b[34m\u001b[1mwandb\u001b[0m: Adding directory to artifact (/content/wandb/run-20231006_103159-6xbn1x60/files/model-best)... Done. 4.7s\n"
          ]
        },
        {
          "output_type": "stream",
          "name": "stdout",
          "text": [
            "\b\b\b\b\b\b\b\b\b\b\b\b\b\b\b\b\b\b\b\b\b\b\b\b\b\b\b\b\b\b\b\b\b\b\b\b\b\b\b\b\b\b\b\b\b\b\b\b\b\b\b\b\b\b\b\b\b\b\b\b\b\b\b\b\b\b\b\b\b\b\b\b\b\b\b\b\b\b\b\b\b\b\b\b\r132/132 [==============================] - 60s 456ms/step - loss: 1.4624 - accuracy: 0.6533 - val_loss: 2.2607 - val_accuracy: 0.4089\n",
            "Epoch 6/10\n",
            "132/132 [==============================] - ETA: 0s - loss: 1.2657 - accuracy: 0.7046"
          ]
        },
        {
          "output_type": "stream",
          "name": "stderr",
          "text": [
            "/usr/local/lib/python3.10/dist-packages/keras/src/engine/training.py:3000: UserWarning: You are saving your model as an HDF5 file via `model.save()`. This file format is considered legacy. We recommend using instead the native Keras format, e.g. `model.save('my_model.keras')`.\n",
            "  saving_api.save_model(\n",
            "\u001b[34m\u001b[1mwandb\u001b[0m: Adding directory to artifact (/content/wandb/run-20231006_103159-6xbn1x60/files/model-best)... Done. 7.6s\n"
          ]
        },
        {
          "output_type": "stream",
          "name": "stdout",
          "text": [
            "\b\b\b\b\b\b\b\b\b\b\b\b\b\b\b\b\b\b\b\b\b\b\b\b\b\b\b\b\b\b\b\b\b\b\b\b\b\b\b\b\b\b\b\b\b\b\b\b\b\b\b\b\b\b\b\b\b\b\b\b\b\b\b\b\b\b\b\b\b\b\b\b\b\b\b\b\b\b\b\b\b\b\b\b\r132/132 [==============================] - 64s 486ms/step - loss: 1.2657 - accuracy: 0.7046 - val_loss: 2.2226 - val_accuracy: 0.4083\n",
            "Epoch 7/10\n",
            "132/132 [==============================] - ETA: 0s - loss: 1.1054 - accuracy: 0.7475"
          ]
        },
        {
          "output_type": "stream",
          "name": "stderr",
          "text": [
            "/usr/local/lib/python3.10/dist-packages/keras/src/engine/training.py:3000: UserWarning: You are saving your model as an HDF5 file via `model.save()`. This file format is considered legacy. We recommend using instead the native Keras format, e.g. `model.save('my_model.keras')`.\n",
            "  saving_api.save_model(\n",
            "\u001b[34m\u001b[1mwandb\u001b[0m: Adding directory to artifact (/content/wandb/run-20231006_103159-6xbn1x60/files/model-best)... Done. 6.6s\n"
          ]
        },
        {
          "output_type": "stream",
          "name": "stdout",
          "text": [
            "\b\b\b\b\b\b\b\b\b\b\b\b\b\b\b\b\b\b\b\b\b\b\b\b\b\b\b\b\b\b\b\b\b\b\b\b\b\b\b\b\b\b\b\b\b\b\b\b\b\b\b\b\b\b\b\b\b\b\b\b\b\b\b\b\b\b\b\b\b\b\b\b\b\b\b\b\b\b\b\b\b\b\b\b\r132/132 [==============================] - 61s 462ms/step - loss: 1.1054 - accuracy: 0.7475 - val_loss: 2.2145 - val_accuracy: 0.4183\n",
            "Epoch 8/10\n",
            "132/132 [==============================] - 44s 334ms/step - loss: 0.9702 - accuracy: 0.7900 - val_loss: 2.2209 - val_accuracy: 0.4228\n",
            "Epoch 9/10\n",
            "132/132 [==============================] - 44s 333ms/step - loss: 0.8538 - accuracy: 0.8248 - val_loss: 2.2380 - val_accuracy: 0.4233\n",
            "Epoch 10/10\n",
            "132/132 [==============================] - 40s 305ms/step - loss: 0.7522 - accuracy: 0.8529 - val_loss: 2.2635 - val_accuracy: 0.4244\n",
            "Model weights and training history saved\n",
            "Training execution time (mins) 11.806568018595378\n"
          ]
        },
        {
          "output_type": "display_data",
          "data": {
            "text/plain": [
              "<IPython.core.display.HTML object>"
            ],
            "text/html": [
              "Waiting for W&B process to finish... <strong style=\"color:green\">(success).</strong>"
            ]
          },
          "metadata": {}
        },
        {
          "output_type": "display_data",
          "data": {
            "text/plain": [
              "<IPython.core.display.HTML object>"
            ],
            "text/html": [
              "<style>\n",
              "    table.wandb td:nth-child(1) { padding: 0 10px; text-align: left ; width: auto;} td:nth-child(2) {text-align: left ; width: 100%}\n",
              "    .wandb-row { display: flex; flex-direction: row; flex-wrap: wrap; justify-content: flex-start; width: 100% }\n",
              "    .wandb-col { display: flex; flex-direction: column; flex-basis: 100%; flex: 1; padding: 10px; }\n",
              "    </style>\n",
              "<div class=\"wandb-row\"><div class=\"wandb-col\"><h3>Run history:</h3><br/><table class=\"wandb\"><tr><td>accuracy</td><td>▁▃▅▅▆▇▇▇██</td></tr><tr><td>epoch</td><td>▁▂▃▃▄▅▆▆▇█</td></tr><tr><td>loss</td><td>█▅▄▃▃▂▂▁▁▁</td></tr><tr><td>val_accuracy</td><td>▁▅▇▇██████</td></tr><tr><td>val_loss</td><td>█▅▃▂▁▁▁▁▁▁</td></tr></table><br/></div><div class=\"wandb-col\"><h3>Run summary:</h3><br/><table class=\"wandb\"><tr><td>accuracy</td><td>0.85286</td></tr><tr><td>best_epoch</td><td>6</td></tr><tr><td>best_val_loss</td><td>2.21454</td></tr><tr><td>epoch</td><td>9</td></tr><tr><td>loss</td><td>0.75217</td></tr><tr><td>val_accuracy</td><td>0.42444</td></tr><tr><td>val_loss</td><td>2.26353</td></tr></table><br/></div></div>"
            ]
          },
          "metadata": {}
        },
        {
          "output_type": "display_data",
          "data": {
            "text/plain": [
              "<IPython.core.display.HTML object>"
            ],
            "text/html": [
              " View run <strong style=\"color:#cdcd00\">VGG16_train_base</strong> at: <a href='https://wandb.ai/spotted-dog/Stanford-dogs%20breeds/runs/6xbn1x60' target=\"_blank\">https://wandb.ai/spotted-dog/Stanford-dogs%20breeds/runs/6xbn1x60</a><br/>Synced 5 W&B file(s), 1 media file(s), 35 artifact file(s) and 1 other file(s)"
            ]
          },
          "metadata": {}
        },
        {
          "output_type": "display_data",
          "data": {
            "text/plain": [
              "<IPython.core.display.HTML object>"
            ],
            "text/html": [
              "Find logs at: <code>./wandb/run-20231006_103159-6xbn1x60/logs</code>"
            ]
          },
          "metadata": {}
        }
      ],
      "source": [
        "# Initialize a W&B run\n",
        "wandb.init(\n",
        "    project = project_name,\n",
        "    config = {\n",
        "      \"learning_rate\": learning_rate,\n",
        "      \"epochs\": epochs,\n",
        "      \"batch_size\": batch_size,\n",
        "      \"model_name\": model_name\n",
        "    },\n",
        "    name = model_name\n",
        ")\n",
        "\n",
        "# Free up memory\n",
        "K.clear_session()\n",
        "\n",
        "# Track time\n",
        "start_time = time.time()\n",
        "if USE_SAVED_MODEL:\n",
        "    # Load saved weights and model history\n",
        "    model.load_weights(\"data/baseline_model\")\n",
        "\n",
        "    with open(\"data/baseline_model_hist.pickle\", \"rb\") as filehandler:\n",
        "        model_history = pickle.load(filehandler)\n",
        "\n",
        "    print(\"Model weights and training history successfully loaded\")\n",
        "\n",
        "else:\n",
        "    # Train the Model\n",
        "    model_history = model.fit(\n",
        "        train_ds,\n",
        "        epochs=epochs,\n",
        "        callbacks=[WandbCallback()],\n",
        "        validation_data=val_ds\n",
        "    )\n",
        "\n",
        "    # Create \"data\" directory if it does not yet exist\n",
        "    if not os.path.exists(\"data\"):\n",
        "        os.mkdir(\"data\")\n",
        "\n",
        "    # Save training history dict using pickle\n",
        "    with open(\"data/baseline_model_hist.pickle\", \"wb\") as filehandler:\n",
        "        model_history = model_history.history\n",
        "        pickle.dump(model_history, filehandler)\n",
        "\n",
        "    # Save model and weights for future use\n",
        "    model.save_weights(\"data/baseline_model\")\n",
        "\n",
        "    print(\"Model weights and training history saved\")\n",
        "\n",
        "execution_time = (time.time() - start_time)/60.0\n",
        "print(\"Training execution time (mins)\",execution_time)\n",
        "\n",
        "# Update W&B\n",
        "wandb.config.update({\"execution_time\": execution_time})\n",
        "# Close the W&B run\n",
        "wandb.run.finish()\n",
        "\n",
        "VGG16_base_model_execution_time = execution_time"
      ]
    },
    {
      "cell_type": "markdown",
      "metadata": {
        "id": "J54ElZbsEUnK"
      },
      "source": [
        "####VGG16 Fine-tuning"
      ]
    },
    {
      "cell_type": "code",
      "execution_count": null,
      "metadata": {
        "colab": {
          "base_uri": "https://localhost:8080/",
          "height": 1000
        },
        "id": "c8AbpTAdEO96",
        "outputId": "b3119666-7249-4ae6-9434-95ee4521ae98"
      },
      "outputs": [
        {
          "data": {
            "text/html": [
              "Tracking run with wandb version 0.15.12"
            ],
            "text/plain": [
              "<IPython.core.display.HTML object>"
            ]
          },
          "metadata": {},
          "output_type": "display_data"
        },
        {
          "data": {
            "text/html": [
              "Run data is saved locally in <code>/content/wandb/run-20231006_104404-wvnjf1ts</code>"
            ],
            "text/plain": [
              "<IPython.core.display.HTML object>"
            ]
          },
          "metadata": {},
          "output_type": "display_data"
        },
        {
          "data": {
            "text/html": [
              "Syncing run <strong><a href='https://wandb.ai/spotted-dog/Stanford-dogs%20breeds/runs/wvnjf1ts' target=\"_blank\">VGG16_fine-tune</a></strong> to <a href='https://wandb.ai/spotted-dog/Stanford-dogs%20breeds' target=\"_blank\">Weights & Biases</a> (<a href='https://wandb.me/run' target=\"_blank\">docs</a>)<br/>"
            ],
            "text/plain": [
              "<IPython.core.display.HTML object>"
            ]
          },
          "metadata": {},
          "output_type": "display_data"
        },
        {
          "data": {
            "text/html": [
              " View project at <a href='https://wandb.ai/spotted-dog/Stanford-dogs%20breeds' target=\"_blank\">https://wandb.ai/spotted-dog/Stanford-dogs%20breeds</a>"
            ],
            "text/plain": [
              "<IPython.core.display.HTML object>"
            ]
          },
          "metadata": {},
          "output_type": "display_data"
        },
        {
          "data": {
            "text/html": [
              " View run at <a href='https://wandb.ai/spotted-dog/Stanford-dogs%20breeds/runs/wvnjf1ts' target=\"_blank\">https://wandb.ai/spotted-dog/Stanford-dogs%20breeds/runs/wvnjf1ts</a>"
            ],
            "text/plain": [
              "<IPython.core.display.HTML object>"
            ]
          },
          "metadata": {},
          "output_type": "display_data"
        },
        {
          "metadata": {
            "tags": null
          },
          "name": "stdout",
          "output_type": "stream",
          "text": [
            "Model: \"VGG16_train_base\"\n",
            "_________________________________________________________________\n",
            " Layer (type)                Output Shape              Param #   \n",
            "=================================================================\n",
            " input_4 (InputLayer)        [(None, 224, 224, 3)]     0         \n",
            "                                                                 \n",
            " rescaling (Rescaling)       (None, 224, 224, 3)       0         \n",
            "                                                                 \n",
            " vgg16 (Functional)          (None, 7, 7, 512)         14714688  \n",
            "                                                                 \n",
            " avg_pool (GlobalAveragePoo  (None, 512)               0         \n",
            " ling2D)                                                         \n",
            "                                                                 \n",
            " batch_normalization (Batch  (None, 512)               2048      \n",
            " Normalization)                                                  \n",
            "                                                                 \n",
            " prediction (Dense)          (None, 120)               61560     \n",
            "                                                                 \n",
            "=================================================================\n",
            "Total params: 14778296 (56.37 MB)\n",
            "Trainable params: 14777272 (56.37 MB)\n",
            "Non-trainable params: 1024 (4.00 KB)\n",
            "_________________________________________________________________\n",
            "Epoch 1/10\n",
            "  6/132 [>.............................] - ETA: 1:42 - loss: 0.5686 - accuracy: 0.8958"
          ]
        },
        {
          "metadata": {
            "tags": null
          },
          "name": "stderr",
          "output_type": "stream",
          "text": [
            "WARNING:tensorflow:Callback method `on_train_batch_end` is slow compared to the batch time (batch time: 0.2590s vs `on_train_batch_end` time: 0.4638s). Check your callbacks.\n"
          ]
        },
        {
          "metadata": {
            "tags": null
          },
          "name": "stdout",
          "output_type": "stream",
          "text": [
            "132/132 [==============================] - ETA: 0s - loss: 0.5539 - accuracy: 0.8806"
          ]
        },
        {
          "metadata": {
            "tags": null
          },
          "name": "stderr",
          "output_type": "stream",
          "text": [
            "/usr/local/lib/python3.10/dist-packages/keras/src/engine/training.py:3000: UserWarning: You are saving your model as an HDF5 file via `model.save()`. This file format is considered legacy. We recommend using instead the native Keras format, e.g. `model.save('my_model.keras')`.\n",
            "  saving_api.save_model(\n",
            "\u001b[34m\u001b[1mwandb\u001b[0m: Adding directory to artifact (/content/wandb/run-20231006_104404-wvnjf1ts/files/model-best)... Done. 20.1s\n"
          ]
        },
        {
          "output_type": "stream",
          "name": "stdout",
          "text": [
            "132/132 [==============================] - 203s 1s/step - loss: 0.5539 - accuracy: 0.8806 - val_loss: 2.0838 - val_accuracy: 0.4761\n",
            "Epoch 2/10\n",
            "132/132 [==============================] - ETA: 0s - loss: 0.3126 - accuracy: 0.9611"
          ]
        },
        {
          "output_type": "stream",
          "name": "stderr",
          "text": [
            "/usr/local/lib/python3.10/dist-packages/keras/src/engine/training.py:3000: UserWarning: You are saving your model as an HDF5 file via `model.save()`. This file format is considered legacy. We recommend using instead the native Keras format, e.g. `model.save('my_model.keras')`.\n",
            "  saving_api.save_model(\n",
            "\u001b[34m\u001b[1mwandb\u001b[0m: Adding directory to artifact (/content/wandb/run-20231006_104404-wvnjf1ts/files/model-best)... Done. 9.7s\n"
          ]
        },
        {
          "output_type": "stream",
          "name": "stdout",
          "text": [
            "\b\b\b\b\b\b\b\b\b\b\b\b\b\b\b\b\b\b\b\b\b\b\b\b\b\b\b\b\b\b\b\b\b\b\b\b\b\b\b\b\b\b\b\b\b\b\b\b\b\b\b\b\b\b\b\b\b\b\b\b\b\b\b\b\b\b\b\b\b\b\b\b\b\b\b\b\b\b\b\b\b\b\b\b\r132/132 [==============================] - 139s 1s/step - loss: 0.3126 - accuracy: 0.9611 - val_loss: 2.0277 - val_accuracy: 0.4933\n",
            "Epoch 3/10\n",
            "132/132 [==============================] - ETA: 0s - loss: 0.1975 - accuracy: 0.9873"
          ]
        },
        {
          "output_type": "stream",
          "name": "stderr",
          "text": [
            "/usr/local/lib/python3.10/dist-packages/keras/src/engine/training.py:3000: UserWarning: You are saving your model as an HDF5 file via `model.save()`. This file format is considered legacy. We recommend using instead the native Keras format, e.g. `model.save('my_model.keras')`.\n",
            "  saving_api.save_model(\n",
            "\u001b[34m\u001b[1mwandb\u001b[0m: Adding directory to artifact (/content/wandb/run-20231006_104404-wvnjf1ts/files/model-best)... Done. 5.3s\n"
          ]
        },
        {
          "output_type": "stream",
          "name": "stdout",
          "text": [
            "\b\b\b\b\b\b\b\b\b\b\b\b\b\b\b\b\b\b\b\b\b\b\b\b\b\b\b\b\b\b\b\b\b\b\b\b\b\b\b\b\b\b\b\b\b\b\b\b\b\b\b\b\b\b\b\b\b\b\b\b\b\b\b\b\b\b\b\b\b\b\b\b\b\b\b\b\b\b\b\b\b\b\b\b\r132/132 [==============================] - 148s 1s/step - loss: 0.1975 - accuracy: 0.9873 - val_loss: 1.9869 - val_accuracy: 0.5033\n",
            "Epoch 4/10\n",
            "132/132 [==============================] - ETA: 0s - loss: 0.1323 - accuracy: 0.9956"
          ]
        },
        {
          "output_type": "stream",
          "name": "stderr",
          "text": [
            "/usr/local/lib/python3.10/dist-packages/keras/src/engine/training.py:3000: UserWarning: You are saving your model as an HDF5 file via `model.save()`. This file format is considered legacy. We recommend using instead the native Keras format, e.g. `model.save('my_model.keras')`.\n",
            "  saving_api.save_model(\n",
            "\u001b[34m\u001b[1mwandb\u001b[0m: Adding directory to artifact (/content/wandb/run-20231006_104404-wvnjf1ts/files/model-best)... Done. 5.6s\n"
          ]
        },
        {
          "output_type": "stream",
          "name": "stdout",
          "text": [
            "\b\b\b\b\b\b\b\b\b\b\b\b\b\b\b\b\b\b\b\b\b\b\b\b\b\b\b\b\b\b\b\b\b\b\b\b\b\b\b\b\b\b\b\b\b\b\b\b\b\b\b\b\b\b\b\b\b\b\b\b\b\b\b\b\b\b\b\b\b\b\b\b\b\b\b\b\b\b\b\b\b\b\b\b\r132/132 [==============================] - 130s 989ms/step - loss: 0.1323 - accuracy: 0.9956 - val_loss: 1.9614 - val_accuracy: 0.5189\n",
            "Epoch 5/10\n",
            "132/132 [==============================] - ETA: 0s - loss: 0.0948 - accuracy: 0.9975"
          ]
        },
        {
          "output_type": "stream",
          "name": "stderr",
          "text": [
            "/usr/local/lib/python3.10/dist-packages/keras/src/engine/training.py:3000: UserWarning: You are saving your model as an HDF5 file via `model.save()`. This file format is considered legacy. We recommend using instead the native Keras format, e.g. `model.save('my_model.keras')`.\n",
            "  saving_api.save_model(\n",
            "\u001b[34m\u001b[1mwandb\u001b[0m: Adding directory to artifact (/content/wandb/run-20231006_104404-wvnjf1ts/files/model-best)... Done. 8.8s\n"
          ]
        },
        {
          "output_type": "stream",
          "name": "stdout",
          "text": [
            "\b\b\b\b\b\b\b\b\b\b\b\b\b\b\b\b\b\b\b\b\b\b\b\b\b\b\b\b\b\b\b\b\b\b\b\b\b\b\b\b\b\b\b\b\b\b\b\b\b\b\b\b\b\b\b\b\b\b\b\b\b\b\b\b\b\b\b\b\b\b\b\b\b\b\b\b\b\b\b\b\b\b\b\b\r132/132 [==============================] - 138s 1s/step - loss: 0.0948 - accuracy: 0.9975 - val_loss: 1.9502 - val_accuracy: 0.5194\n",
            "Epoch 6/10\n",
            "132/132 [==============================] - ETA: 0s - loss: 0.0719 - accuracy: 0.9980"
          ]
        },
        {
          "output_type": "stream",
          "name": "stderr",
          "text": [
            "/usr/local/lib/python3.10/dist-packages/keras/src/engine/training.py:3000: UserWarning: You are saving your model as an HDF5 file via `model.save()`. This file format is considered legacy. We recommend using instead the native Keras format, e.g. `model.save('my_model.keras')`.\n",
            "  saving_api.save_model(\n",
            "\u001b[34m\u001b[1mwandb\u001b[0m: Adding directory to artifact (/content/wandb/run-20231006_104404-wvnjf1ts/files/model-best)... Done. 5.5s\n"
          ]
        },
        {
          "output_type": "stream",
          "name": "stdout",
          "text": [
            "\b\b\b\b\b\b\b\b\b\b\b\b\b\b\b\b\b\b\b\b\b\b\b\b\b\b\b\b\b\b\b\b\b\b\b\b\b\b\b\b\b\b\b\b\b\b\b\b\b\b\b\b\b\b\b\b\b\b\b\b\b\b\b\b\b\b\b\b\b\b\b\b\b\b\b\b\b\b\b\b\b\b\b\b\r132/132 [==============================] - 129s 979ms/step - loss: 0.0719 - accuracy: 0.9980 - val_loss: 1.9467 - val_accuracy: 0.5156\n",
            "Epoch 7/10\n",
            "132/132 [==============================] - ETA: 0s - loss: 0.0569 - accuracy: 0.9980"
          ]
        },
        {
          "output_type": "stream",
          "name": "stderr",
          "text": [
            "/usr/local/lib/python3.10/dist-packages/keras/src/engine/training.py:3000: UserWarning: You are saving your model as an HDF5 file via `model.save()`. This file format is considered legacy. We recommend using instead the native Keras format, e.g. `model.save('my_model.keras')`.\n",
            "  saving_api.save_model(\n",
            "\u001b[34m\u001b[1mwandb\u001b[0m: Adding directory to artifact (/content/wandb/run-20231006_104404-wvnjf1ts/files/model-best)... Done. 9.7s\n"
          ]
        },
        {
          "output_type": "stream",
          "name": "stdout",
          "text": [
            "\b\b\b\b\b\b\b\b\b\b\b\b\b\b\b\b\b\b\b\b\b\b\b\b\b\b\b\b\b\b\b\b\b\b\b\b\b\b\b\b\b\b\b\b\b\b\b\b\b\b\b\b\b\b\b\b\b\b\b\b\b\b\b\b\b\b\b\b\b\b\b\b\b\b\b\b\b\b\b\b\b\b\b\b\r132/132 [==============================] - 135s 1s/step - loss: 0.0569 - accuracy: 0.9980 - val_loss: 1.9461 - val_accuracy: 0.5133\n",
            "Epoch 8/10\n",
            "132/132 [==============================] - ETA: 0s - loss: 0.0465 - accuracy: 0.9982"
          ]
        },
        {
          "output_type": "stream",
          "name": "stderr",
          "text": [
            "/usr/local/lib/python3.10/dist-packages/keras/src/engine/training.py:3000: UserWarning: You are saving your model as an HDF5 file via `model.save()`. This file format is considered legacy. We recommend using instead the native Keras format, e.g. `model.save('my_model.keras')`.\n",
            "  saving_api.save_model(\n",
            "\u001b[34m\u001b[1mwandb\u001b[0m: Adding directory to artifact (/content/wandb/run-20231006_104404-wvnjf1ts/files/model-best)... Done. 7.2s\n"
          ]
        },
        {
          "output_type": "stream",
          "name": "stdout",
          "text": [
            "\b\b\b\b\b\b\b\b\b\b\b\b\b\b\b\b\b\b\b\b\b\b\b\b\b\b\b\b\b\b\b\b\b\b\b\b\b\b\b\b\b\b\b\b\b\b\b\b\b\b\b\b\b\b\b\b\b\b\b\b\b\b\b\b\b\b\b\b\b\b\b\b\b\b\b\b\b\b\b\b\b\b\b\b\r132/132 [==============================] - 140s 1s/step - loss: 0.0465 - accuracy: 0.9982 - val_loss: 1.9408 - val_accuracy: 0.5172\n",
            "Epoch 9/10\n",
            "132/132 [==============================] - ETA: 0s - loss: 0.0387 - accuracy: 0.9987"
          ]
        },
        {
          "output_type": "stream",
          "name": "stderr",
          "text": [
            "/usr/local/lib/python3.10/dist-packages/keras/src/engine/training.py:3000: UserWarning: You are saving your model as an HDF5 file via `model.save()`. This file format is considered legacy. We recommend using instead the native Keras format, e.g. `model.save('my_model.keras')`.\n",
            "  saving_api.save_model(\n",
            "\u001b[34m\u001b[1mwandb\u001b[0m: Adding directory to artifact (/content/wandb/run-20231006_104404-wvnjf1ts/files/model-best)... Done. 10.3s\n"
          ]
        },
        {
          "output_type": "stream",
          "name": "stdout",
          "text": [
            "\b\b\b\b\b\b\b\b\b\b\b\b\b\b\b\b\b\b\b\b\b\b\b\b\b\b\b\b\b\b\b\b\b\b\b\b\b\b\b\b\b\b\b\b\b\b\b\b\b\b\b\b\b\b\b\b\b\b\b\b\b\b\b\b\b\b\b\b\b\b\b\b\b\b\b\b\b\b\b\b\b\b\b\b\r132/132 [==============================] - 136s 1s/step - loss: 0.0387 - accuracy: 0.9987 - val_loss: 1.9318 - val_accuracy: 0.5222\n",
            "Epoch 10/10\n",
            "132/132 [==============================] - ETA: 0s - loss: 0.0328 - accuracy: 0.9988"
          ]
        },
        {
          "output_type": "stream",
          "name": "stderr",
          "text": [
            "/usr/local/lib/python3.10/dist-packages/keras/src/engine/training.py:3000: UserWarning: You are saving your model as an HDF5 file via `model.save()`. This file format is considered legacy. We recommend using instead the native Keras format, e.g. `model.save('my_model.keras')`.\n",
            "  saving_api.save_model(\n",
            "\u001b[34m\u001b[1mwandb\u001b[0m: Adding directory to artifact (/content/wandb/run-20231006_104404-wvnjf1ts/files/model-best)... Done. 5.6s\n"
          ]
        },
        {
          "output_type": "stream",
          "name": "stdout",
          "text": [
            "\b\b\b\b\b\b\b\b\b\b\b\b\b\b\b\b\b\b\b\b\b\b\b\b\b\b\b\b\b\b\b\b\b\b\b\b\b\b\b\b\b\b\b\b\b\b\b\b\b\b\b\b\b\b\b\b\b\b\b\b\b\b\b\b\b\b\b\b\b\b\b\b\b\b\b\b\b\b\b\b\b\b\b\b\r132/132 [==============================] - 132s 1s/step - loss: 0.0328 - accuracy: 0.9988 - val_loss: 1.9220 - val_accuracy: 0.5294\n",
            "Training execution time (mins) 24.368595719337463\n"
          ]
        },
        {
          "output_type": "display_data",
          "data": {
            "text/plain": [
              "<IPython.core.display.HTML object>"
            ],
            "text/html": [
              "Waiting for W&B process to finish... <strong style=\"color:green\">(success).</strong>"
            ]
          },
          "metadata": {}
        },
        {
          "output_type": "display_data",
          "data": {
            "text/plain": [
              "<IPython.core.display.HTML object>"
            ],
            "text/html": [
              "<style>\n",
              "    table.wandb td:nth-child(1) { padding: 0 10px; text-align: left ; width: auto;} td:nth-child(2) {text-align: left ; width: 100%}\n",
              "    .wandb-row { display: flex; flex-direction: row; flex-wrap: wrap; justify-content: flex-start; width: 100% }\n",
              "    .wandb-col { display: flex; flex-direction: column; flex-basis: 100%; flex: 1; padding: 10px; }\n",
              "    </style>\n",
              "<div class=\"wandb-row\"><div class=\"wandb-col\"><h3>Run history:</h3><br/><table class=\"wandb\"><tr><td>accuracy</td><td>▁▆▇███████</td></tr><tr><td>epoch</td><td>▁▂▃▃▄▅▆▆▇█</td></tr><tr><td>loss</td><td>█▅▃▂▂▂▁▁▁▁</td></tr><tr><td>val_accuracy</td><td>▁▃▅▇▇▆▆▆▇█</td></tr><tr><td>val_loss</td><td>█▆▄▃▂▂▂▂▁▁</td></tr></table><br/></div><div class=\"wandb-col\"><h3>Run summary:</h3><br/><table class=\"wandb\"><tr><td>accuracy</td><td>0.99881</td></tr><tr><td>best_epoch</td><td>9</td></tr><tr><td>best_val_loss</td><td>1.92196</td></tr><tr><td>epoch</td><td>9</td></tr><tr><td>loss</td><td>0.03277</td></tr><tr><td>val_accuracy</td><td>0.52944</td></tr><tr><td>val_loss</td><td>1.92196</td></tr></table><br/></div></div>"
            ]
          },
          "metadata": {}
        },
        {
          "output_type": "display_data",
          "data": {
            "text/plain": [
              "<IPython.core.display.HTML object>"
            ],
            "text/html": [
              " View run <strong style=\"color:#cdcd00\">VGG16_fine-tune</strong> at: <a href='https://wandb.ai/spotted-dog/Stanford-dogs%20breeds/runs/wvnjf1ts' target=\"_blank\">https://wandb.ai/spotted-dog/Stanford-dogs%20breeds/runs/wvnjf1ts</a><br/>Synced 5 W&B file(s), 1 media file(s), 50 artifact file(s) and 1 other file(s)"
            ]
          },
          "metadata": {}
        },
        {
          "output_type": "display_data",
          "data": {
            "text/plain": [
              "<IPython.core.display.HTML object>"
            ],
            "text/html": [
              "Find logs at: <code>./wandb/run-20231006_104404-wvnjf1ts/logs</code>"
            ]
          },
          "metadata": {}
        }
      ],
      "source": [
        "model_name = \"VGG16_fine-tune\"\n",
        "learning_rate = 0.00001\n",
        "optimizer=keras.optimizers.Adam(1e-5)\n",
        "\n",
        "# Free up memory\n",
        "K.clear_session()\n",
        "\n",
        "# Initialize a W&B run\n",
        "wandb.init(\n",
        "    project = project_name,\n",
        "    config = {\n",
        "      \"learning_rate\": learning_rate,\n",
        "      \"epochs\": epochs,\n",
        "      \"batch_size\": batch_size,\n",
        "      \"model_name\": model_name\n",
        "    },\n",
        "    name = model_name\n",
        ")\n",
        "# Track time\n",
        "start_time = time.time()\n",
        "\n",
        "base_model.trainable = True\n",
        "model.summary()\n",
        "model.compile(\n",
        "    optimizer=optimizer,\n",
        "    loss=loss,\n",
        "    metrics=[\"accuracy\"]\n",
        ")\n",
        "model.fit(\n",
        "    train_ds, epochs=epochs, validation_data = val_ds, callbacks=[WandbCallback()]\n",
        ")\n",
        "\n",
        "execution_time = (time.time() - start_time)/60.0\n",
        "print(\"Training execution time (mins)\",execution_time)\n",
        "\n",
        "# Update W&B\n",
        "wandb.config.update({\"execution_time\": execution_time})\n",
        "# Close the W&B run\n",
        "wandb.run.finish()\n",
        "\n",
        "VGG16_final_model_execution_time = execution_time"
      ]
    },
    {
      "cell_type": "markdown",
      "metadata": {
        "id": "twvDUf4Zk9iW"
      },
      "source": [
        "#### VGG16 Prediction and testing accuracy"
      ]
    },
    {
      "cell_type": "code",
      "execution_count": null,
      "metadata": {
        "colab": {
          "base_uri": "https://localhost:8080/"
        },
        "id": "MgEGyEXVk-fd",
        "outputId": "e871e24c-8752-4265-d95c-8372251ac88a"
      },
      "outputs": [
        {
          "output_type": "stream",
          "name": "stdout",
          "text": [
            "29/29 [==============================] - 7s 245ms/step\n"
          ]
        }
      ],
      "source": [
        "# Get model predictions on test set\n",
        "y_pred = model.predict(test_ds)\n",
        "y_pred = to_categorical(np.argmax(y_pred, 1), dtype = \"int64\")\n",
        "\n",
        "# Extract labels from test dataset\n",
        "y_true = np.concatenate([y for x, y in test_ds], axis=0)"
      ]
    },
    {
      "cell_type": "code",
      "execution_count": null,
      "metadata": {
        "colab": {
          "base_uri": "https://localhost:8080/"
        },
        "id": "ppPA0T8GlB5C",
        "outputId": "9dc5dfa7-7db3-4635-c813-0c6e53728792"
      },
      "outputs": [
        {
          "output_type": "stream",
          "name": "stdout",
          "text": [
            "VGG16 testing accuracy: 0.4988888888888889\n",
            "Base model training time: 11.806568018595378\n",
            "Final model training time: 24.368595719337463\n"
          ]
        }
      ],
      "source": [
        "# Model accuracy and training time summary\n",
        "VGG16_testing_accuracy = accuracy_score(y_true, y_pred)\n",
        "print(f\"VGG16 testing accuracy: {VGG16_testing_accuracy}\")\n",
        "print(f\"Base model training time: {VGG16_base_model_execution_time}\")\n",
        "print(f\"Final model training time: {VGG16_final_model_execution_time}\")"
      ]
    },
    {
      "cell_type": "markdown",
      "metadata": {
        "id": "x2EhRRIZlPKZ"
      },
      "source": [
        "##**VI. SUMMARY OF MODELS**"
      ]
    },
    {
      "cell_type": "code",
      "execution_count": 13,
      "metadata": {
        "colab": {
          "base_uri": "https://localhost:8080/"
        },
        "id": "97XlTJBJlYW5",
        "outputId": "e94d8638-c961-42c8-f113-9a7784733854"
      },
      "outputs": [
        {
          "output_type": "stream",
          "name": "stdout",
          "text": [
            "1. EfficientNetV2 transfer learning ----------------------\n",
            "Accuracy on test dataset:       0.82\n",
            "Base model training time:             5.95\n",
            "Final model training time:                   19.39\n",
            "\n",
            "2. XCeption transfer learning ----------------------------\n",
            "Accuracy on test dataset:       0.76\n",
            "Base model training time:             12.87\n",
            "Final model training time:                   33.06\n",
            "\n",
            "3. ResNet50V2 transfer learning --------------------------\n",
            "Accuracy on test dataset:       0.68\n",
            "Base model training time:             7.66\n",
            "Final model training time:                   16.48\n",
            "\n",
            "4. VGG16 transfer learning -------------------------------\n",
            "Accuracy on test dataset:       0.5\n",
            "Base model training time:             11.81\n",
            "Final model training time:                   24.37\n"
          ]
        }
      ],
      "source": [
        "print (\"1. EfficientNetV2 transfer learning ----------------------\")\n",
        "print(f\"Accuracy on test dataset:       {round(EfficientNetV2_testing_accuracy,2)}\")\n",
        "print(f\"Base model training time:             {round(EfficientNetV2_base_model_execution_time,2)}\")\n",
        "print(f\"Final model training time:                   {round(EfficientNetV2_final_model_execution_time,2)}\")\n",
        "print()\n",
        "print (\"2. XCeption transfer learning ----------------------------\")\n",
        "print(f\"Accuracy on test dataset:       {round(XCeption_testing_accuracy, 2)}\")\n",
        "print(f\"Base model training time:             {round(XCeption_base_model_execution_time, 2)}\")\n",
        "print(f\"Final model training time:                   {round(XCeption_final_model_execution_time, 2)}\")\n",
        "print()\n",
        "print (\"3. ResNet50V2 transfer learning --------------------------\")\n",
        "print(f\"Accuracy on test dataset:       {round(ResNet50V2_testing_accuracy, 2)}\")\n",
        "print(f\"Base model training time:             {round(ResNet50V2_base_model_execution_time, 2)}\")\n",
        "print(f\"Final model training time:                   {round(ResNet50V2_final_model_execution_time, 2)}\")\n",
        "print()\n",
        "print (\"4. VGG16 transfer learning -------------------------------\")\n",
        "print(f\"Accuracy on test dataset:       {round(VGG16_testing_accuracy, 2)}\")\n",
        "print(f\"Base model training time:             {round(VGG16_base_model_execution_time, 2)}\")\n",
        "print(f\"Final model training time:                   {round(VGG16_final_model_execution_time, 2)}\")"
      ]
    },
    {
      "cell_type": "markdown",
      "metadata": {
        "id": "XNRqq58mQzMf"
      },
      "source": [
        "##**VII. Download Model from WandB CODE**"
      ]
    },
    {
      "cell_type": "markdown",
      "metadata": {
        "id": "4Q6uyWhlSca0"
      },
      "source": [
        "####W&B Usage API"
      ]
    },
    {
      "cell_type": "code",
      "execution_count": null,
      "metadata": {
        "id": "a1fAW-E2SkQZ"
      },
      "outputs": [],
      "source": [
        "run = wandb.init()\n",
        "artifact = run.use_artifact('spotted-dog/Stanford-dogs%20breeds/model-VGG16_fine-tune', type='model')\n",
        "artifact_dir = artifact.download()"
      ]
    },
    {
      "cell_type": "code",
      "execution_count": null,
      "metadata": {
        "id": "Xqu7CoCsPq02"
      },
      "outputs": [],
      "source": [
        "print(\"artifact_dir\",artifact_dir)\n",
        "# Load a model from artifact dir\n",
        "prediction_model = tf.keras.models.load_model(artifact_dir)\n",
        "\n",
        "prediction_model.summary()"
      ]
    },
    {
      "cell_type": "markdown",
      "metadata": {
        "id": "W7DC5xvJI6b9"
      },
      "source": [
        "##**We don't run this part anymore since we use wandb"
      ]
    },
    {
      "cell_type": "code",
      "execution_count": null,
      "metadata": {
        "id": "JVD_sdH6MsQt"
      },
      "outputs": [],
      "source": [
        "# Helper function for plotting training history\n",
        "# Adapted from CS109B: Lab 8 Notebook\n",
        "\n",
        "def plot_history(model_history, title):\n",
        "    # plot 'Loss'\n",
        "    fig, axs = plt.subplots(1, 2, figsize=(12, 4))\n",
        "    axs[0].plot(model_history['loss'], label='train')\n",
        "    axs[0].plot(model_history['val_loss'], label='validation')\n",
        "    axs[0].set_xlabel('Epoch')\n",
        "    axs[0].set_ylabel('Loss')\n",
        "    best_loss = np.nanmin(model_history['val_loss'])\n",
        "    axs[0].axvline(np.nanargmin(model_history['val_loss']),\n",
        "                c='k', ls='--',\n",
        "                label=f'best val loss = {best_loss:.2f}')\n",
        "    axs[0].legend()\n",
        "    axs[0].set_title('Loss')\n",
        "\n",
        "    # in case the Network has multiple outputs\n",
        "    train_accuracy = []\n",
        "    val_accuracy = []\n",
        "\n",
        "    for cur_history in model_history:\n",
        "        if 'accuracy'in cur_history:\n",
        "            if 'val' in cur_history:\n",
        "                val_accuracy.append(model_history[cur_history])\n",
        "            else:\n",
        "                train_accuracy.append(model_history[cur_history])\n",
        "\n",
        "    train_accuracy = np.mean(np.array(train_accuracy), axis=0)\n",
        "    val_accuracy = np.mean(np.array(val_accuracy), axis = 0)\n",
        "\n",
        "    # plot 'Accuracy'\n",
        "    axs[1].plot(train_accuracy, label='train')\n",
        "    axs[1].plot(val_accuracy, label='validation')\n",
        "    axs[1].set_xlabel('Epoch')\n",
        "    axs[1].set_ylabel('Accuracy')\n",
        "    best_accuracy = np.nanmax(val_accuracy)\n",
        "    axs[1].axvline(np.nanargmax(val_accuracy),\n",
        "                c='k', ls='--',\n",
        "                label=f'best val accuracy = {best_accuracy:.5f}')\n",
        "    axs[1].legend()\n",
        "    axs[1].set_title('Accuracy')\n",
        "    plt.suptitle(title)"
      ]
    },
    {
      "cell_type": "code",
      "execution_count": null,
      "metadata": {
        "colab": {
          "base_uri": "https://localhost:8080/",
          "height": 428
        },
        "id": "G21vgtqyMsQt",
        "outputId": "4d5893d4-c5b2-4a5d-8adc-16e4bd00edfb"
      },
      "outputs": [
        {
          "data": {
            "image/png": "[encoded data removed]",
            "text/plain": [
              "<Figure size 1200x400 with 2 Axes>"
            ]
          },
          "metadata": {},
          "output_type": "display_data"
        }
      ],
      "source": [
        "# Plot the history of model training\n",
        "plot_history(baseline_model_history, title = 'EfficientNetV2 (B0) Baseline Model')"
      ]
    },
    {
      "cell_type": "markdown",
      "metadata": {
        "id": "eoidaJSIor_8"
      },
      "source": [
        "After the first few epochs, validation accuraccy levels off. This can likely be attributed to not having any data augmentation and the model quickly learning all it can from the training data. Given the complexity of the problem, an accuracy of about 80% sounds good and shows that EfficientNet is likely a good baseline model to use and work from."
      ]
    },
    {
      "cell_type": "markdown",
      "metadata": {
        "id": "Np7JkL2BMsQt"
      },
      "source": [
        "### Baseline Model Evaluation"
      ]
    },
    {
      "cell_type": "markdown",
      "metadata": {
        "id": "_LGfIau0gM2A"
      },
      "source": [
        "After training the baseline model, we want to understands its accuracy when making predictions on the test dataset:"
      ]
    },
    {
      "cell_type": "code",
      "execution_count": null,
      "metadata": {
        "colab": {
          "base_uri": "https://localhost:8080/"
        },
        "id": "Vg67PBxlMsQt",
        "outputId": "f6f9f434-f505-4430-8f96-16c3e4a5a499"
      },
      "outputs": [
        {
          "name": "stdout",
          "output_type": "stream",
          "text": [
            "29/29 [==============================] - 16s 557ms/step\n"
          ]
        }
      ],
      "source": [
        "# Get model predictions on test set\n",
        "y_pred = baseline_model.predict(test_ds)\n",
        "y_pred = to_categorical(np.argmax(y_pred, 1), dtype = \"int64\")\n",
        "\n",
        "# Extract labels from test dataset\n",
        "y_true = np.concatenate([y for x, y in test_ds], axis=0)"
      ]
    },
    {
      "cell_type": "code",
      "execution_count": null,
      "metadata": {
        "colab": {
          "base_uri": "https://localhost:8080/"
        },
        "id": "KXjMrKnFMsQu",
        "outputId": "8795fdac-c8c0-44ad-f499-f29d86998d0b"
      },
      "outputs": [
        {
          "name": "stdout",
          "output_type": "stream",
          "text": [
            "Model testing accuracy: 0.81\n"
          ]
        }
      ],
      "source": [
        "# Baseline Model accuracy\n",
        "print(f\"Model testing accuracy: {accuracy_score(y_true, y_pred)}\")"
      ]
    },
    {
      "cell_type": "code",
      "execution_count": null,
      "metadata": {
        "id": "-Zy6H7rsl3Cg"
      },
      "outputs": [],
      "source": []
    },
    {
      "cell_type": "code",
      "execution_count": null,
      "metadata": {
        "id": "nr5BwxKjl3Ch"
      },
      "outputs": [],
      "source": []
    },
    {
      "cell_type": "markdown",
      "metadata": {
        "id": "EeR-cyK_MsQw"
      },
      "source": [
        "## Next Steps"
      ]
    },
    {
      "cell_type": "markdown",
      "metadata": {
        "id": "TXELaOiqosAB"
      },
      "source": [
        "To improve our model performance, we will include additional data as well as data augmentation using random transformations to increase the variety of training images.\n",
        "\n",
        "We will also explore other potential models, as well as do additional training and fine-tuning on the selected model."
      ]
    },
    {
      "cell_type": "code",
      "execution_count": null,
      "metadata": {
        "id": "zNDorHvvl3Ci"
      },
      "outputs": [],
      "source": []
    }
  ],
  "metadata": {
    "accelerator": "GPU",
    "colab": {
      "provenance": [],
      "toc_visible": true
    },
    "deepnote": {},
    "deepnote_execution_queue": [],
    "deepnote_notebook_id": "1f2122cd5546444c8937d4db7a42ffd7",
    "kernelspec": {
      "display_name": "Python 3 (ipykernel)",
      "language": "python",
      "name": "python3"
    },
    "language_info": {
      "codemirror_mode": {
        "name": "ipython",
        "version": 3
      },
      "file_extension": ".py",
      "mimetype": "text/x-python",
      "name": "python",
      "nbconvert_exporter": "python",
      "pygments_lexer": "ipython3",
      "version": "3.8.10"
    },
    "widgets": {
      "application/vnd.jupyter.widget-state+json": {
        "15279486982d49f79e69e89923676249": {
          "model_module": "@jupyter-widgets/controls",
          "model_name": "HBoxModel",
          "model_module_version": "1.5.0",
          "state": {
            "_dom_classes": [],
            "_model_module": "@jupyter-widgets/controls",
            "_model_module_version": "1.5.0",
            "_model_name": "HBoxModel",
            "_view_count": null,
            "_view_module": "@jupyter-widgets/controls",
            "_view_module_version": "1.5.0",
            "_view_name": "HBoxView",
            "box_style": "",
            "children": [
              "IPY_MODEL_fb1a153e61fd46bab42fe0c1480b55a9",
              "IPY_MODEL_b4cbd92debc1407693da17e7db940317",
              "IPY_MODEL_4eec0c2480f948f298f6ca9f64045481"
            ],
            "layout": "IPY_MODEL_0a35ea69579f409db2aea6cdbf4629ad"
          }
        },
        "fb1a153e61fd46bab42fe0c1480b55a9": {
          "model_module": "@jupyter-widgets/controls",
          "model_name": "HTMLModel",
          "model_module_version": "1.5.0",
          "state": {
            "_dom_classes": [],
            "_model_module": "@jupyter-widgets/controls",
            "_model_module_version": "1.5.0",
            "_model_name": "HTMLModel",
            "_view_count": null,
            "_view_module": "@jupyter-widgets/controls",
            "_view_module_version": "1.5.0",
            "_view_name": "HTMLView",
            "description": "",
            "description_tooltip": null,
            "layout": "IPY_MODEL_afb11569fa9f48dfbe314063fa89124e",
            "placeholder": "​",
            "style": "IPY_MODEL_a33d21b298a2481f84198f10af16597d",
            "value": "Dl Completed...: 100%"
          }
        },
        "b4cbd92debc1407693da17e7db940317": {
          "model_module": "@jupyter-widgets/controls",
          "model_name": "FloatProgressModel",
          "model_module_version": "1.5.0",
          "state": {
            "_dom_classes": [],
            "_model_module": "@jupyter-widgets/controls",
            "_model_module_version": "1.5.0",
            "_model_name": "FloatProgressModel",
            "_view_count": null,
            "_view_module": "@jupyter-widgets/controls",
            "_view_module_version": "1.5.0",
            "_view_name": "ProgressView",
            "bar_style": "success",
            "description": "",
            "description_tooltip": null,
            "layout": "IPY_MODEL_2d4e088e19be4c7791d4a573a1959145",
            "max": 1,
            "min": 0,
            "orientation": "horizontal",
            "style": "IPY_MODEL_de0b3831d8b1450bb46bc70e617110ae",
            "value": 1
          }
        },
        "4eec0c2480f948f298f6ca9f64045481": {
          "model_module": "@jupyter-widgets/controls",
          "model_name": "HTMLModel",
          "model_module_version": "1.5.0",
          "state": {
            "_dom_classes": [],
            "_model_module": "@jupyter-widgets/controls",
            "_model_module_version": "1.5.0",
            "_model_name": "HTMLModel",
            "_view_count": null,
            "_view_module": "@jupyter-widgets/controls",
            "_view_module_version": "1.5.0",
            "_view_name": "HTMLView",
            "description": "",
            "description_tooltip": null,
            "layout": "IPY_MODEL_91535321321a41e2809a08580d96010c",
            "placeholder": "​",
            "style": "IPY_MODEL_a883497132fd4cf2bc4d681d04b60e80",
            "value": " 1/1 [01:05&lt;00:00, 65.03s/ url]"
          }
        },
        "0a35ea69579f409db2aea6cdbf4629ad": {
          "model_module": "@jupyter-widgets/base",
          "model_name": "LayoutModel",
          "model_module_version": "1.2.0",
          "state": {
            "_model_module": "@jupyter-widgets/base",
            "_model_module_version": "1.2.0",
            "_model_name": "LayoutModel",
            "_view_count": null,
            "_view_module": "@jupyter-widgets/base",
            "_view_module_version": "1.2.0",
            "_view_name": "LayoutView",
            "align_content": null,
            "align_items": null,
            "align_self": null,
            "border": null,
            "bottom": null,
            "display": null,
            "flex": null,
            "flex_flow": null,
            "grid_area": null,
            "grid_auto_columns": null,
            "grid_auto_flow": null,
            "grid_auto_rows": null,
            "grid_column": null,
            "grid_gap": null,
            "grid_row": null,
            "grid_template_areas": null,
            "grid_template_columns": null,
            "grid_template_rows": null,
            "height": null,
            "justify_content": null,
            "justify_items": null,
            "left": null,
            "margin": null,
            "max_height": null,
            "max_width": null,
            "min_height": null,
            "min_width": null,
            "object_fit": null,
            "object_position": null,
            "order": null,
            "overflow": null,
            "overflow_x": null,
            "overflow_y": null,
            "padding": null,
            "right": null,
            "top": null,
            "visibility": null,
            "width": null
          }
        },
        "afb11569fa9f48dfbe314063fa89124e": {
          "model_module": "@jupyter-widgets/base",
          "model_name": "LayoutModel",
          "model_module_version": "1.2.0",
          "state": {
            "_model_module": "@jupyter-widgets/base",
            "_model_module_version": "1.2.0",
            "_model_name": "LayoutModel",
            "_view_count": null,
            "_view_module": "@jupyter-widgets/base",
            "_view_module_version": "1.2.0",
            "_view_name": "LayoutView",
            "align_content": null,
            "align_items": null,
            "align_self": null,
            "border": null,
            "bottom": null,
            "display": null,
            "flex": null,
            "flex_flow": null,
            "grid_area": null,
            "grid_auto_columns": null,
            "grid_auto_flow": null,
            "grid_auto_rows": null,
            "grid_column": null,
            "grid_gap": null,
            "grid_row": null,
            "grid_template_areas": null,
            "grid_template_columns": null,
            "grid_template_rows": null,
            "height": null,
            "justify_content": null,
            "justify_items": null,
            "left": null,
            "margin": null,
            "max_height": null,
            "max_width": null,
            "min_height": null,
            "min_width": null,
            "object_fit": null,
            "object_position": null,
            "order": null,
            "overflow": null,
            "overflow_x": null,
            "overflow_y": null,
            "padding": null,
            "right": null,
            "top": null,
            "visibility": null,
            "width": null
          }
        },
        "a33d21b298a2481f84198f10af16597d": {
          "model_module": "@jupyter-widgets/controls",
          "model_name": "DescriptionStyleModel",
          "model_module_version": "1.5.0",
          "state": {
            "_model_module": "@jupyter-widgets/controls",
            "_model_module_version": "1.5.0",
            "_model_name": "DescriptionStyleModel",
            "_view_count": null,
            "_view_module": "@jupyter-widgets/base",
            "_view_module_version": "1.2.0",
            "_view_name": "StyleView",
            "description_width": ""
          }
        },
        "2d4e088e19be4c7791d4a573a1959145": {
          "model_module": "@jupyter-widgets/base",
          "model_name": "LayoutModel",
          "model_module_version": "1.2.0",
          "state": {
            "_model_module": "@jupyter-widgets/base",
            "_model_module_version": "1.2.0",
            "_model_name": "LayoutModel",
            "_view_count": null,
            "_view_module": "@jupyter-widgets/base",
            "_view_module_version": "1.2.0",
            "_view_name": "LayoutView",
            "align_content": null,
            "align_items": null,
            "align_self": null,
            "border": null,
            "bottom": null,
            "display": null,
            "flex": null,
            "flex_flow": null,
            "grid_area": null,
            "grid_auto_columns": null,
            "grid_auto_flow": null,
            "grid_auto_rows": null,
            "grid_column": null,
            "grid_gap": null,
            "grid_row": null,
            "grid_template_areas": null,
            "grid_template_columns": null,
            "grid_template_rows": null,
            "height": null,
            "justify_content": null,
            "justify_items": null,
            "left": null,
            "margin": null,
            "max_height": null,
            "max_width": null,
            "min_height": null,
            "min_width": null,
            "object_fit": null,
            "object_position": null,
            "order": null,
            "overflow": null,
            "overflow_x": null,
            "overflow_y": null,
            "padding": null,
            "right": null,
            "top": null,
            "visibility": null,
            "width": "20px"
          }
        },
        "de0b3831d8b1450bb46bc70e617110ae": {
          "model_module": "@jupyter-widgets/controls",
          "model_name": "ProgressStyleModel",
          "model_module_version": "1.5.0",
          "state": {
            "_model_module": "@jupyter-widgets/controls",
            "_model_module_version": "1.5.0",
            "_model_name": "ProgressStyleModel",
            "_view_count": null,
            "_view_module": "@jupyter-widgets/base",
            "_view_module_version": "1.2.0",
            "_view_name": "StyleView",
            "bar_color": null,
            "description_width": ""
          }
        },
        "91535321321a41e2809a08580d96010c": {
          "model_module": "@jupyter-widgets/base",
          "model_name": "LayoutModel",
          "model_module_version": "1.2.0",
          "state": {
            "_model_module": "@jupyter-widgets/base",
            "_model_module_version": "1.2.0",
            "_model_name": "LayoutModel",
            "_view_count": null,
            "_view_module": "@jupyter-widgets/base",
            "_view_module_version": "1.2.0",
            "_view_name": "LayoutView",
            "align_content": null,
            "align_items": null,
            "align_self": null,
            "border": null,
            "bottom": null,
            "display": null,
            "flex": null,
            "flex_flow": null,
            "grid_area": null,
            "grid_auto_columns": null,
            "grid_auto_flow": null,
            "grid_auto_rows": null,
            "grid_column": null,
            "grid_gap": null,
            "grid_row": null,
            "grid_template_areas": null,
            "grid_template_columns": null,
            "grid_template_rows": null,
            "height": null,
            "justify_content": null,
            "justify_items": null,
            "left": null,
            "margin": null,
            "max_height": null,
            "max_width": null,
            "min_height": null,
            "min_width": null,
            "object_fit": null,
            "object_position": null,
            "order": null,
            "overflow": null,
            "overflow_x": null,
            "overflow_y": null,
            "padding": null,
            "right": null,
            "top": null,
            "visibility": null,
            "width": null
          }
        },
        "a883497132fd4cf2bc4d681d04b60e80": {
          "model_module": "@jupyter-widgets/controls",
          "model_name": "DescriptionStyleModel",
          "model_module_version": "1.5.0",
          "state": {
            "_model_module": "@jupyter-widgets/controls",
            "_model_module_version": "1.5.0",
            "_model_name": "DescriptionStyleModel",
            "_view_count": null,
            "_view_module": "@jupyter-widgets/base",
            "_view_module_version": "1.2.0",
            "_view_name": "StyleView",
            "description_width": ""
          }
        },
        "4e54f2016bf34bd6b0fc30708c346b6f": {
          "model_module": "@jupyter-widgets/controls",
          "model_name": "HBoxModel",
          "model_module_version": "1.5.0",
          "state": {
            "_dom_classes": [],
            "_model_module": "@jupyter-widgets/controls",
            "_model_module_version": "1.5.0",
            "_model_name": "HBoxModel",
            "_view_count": null,
            "_view_module": "@jupyter-widgets/controls",
            "_view_module_version": "1.5.0",
            "_view_name": "HBoxView",
            "box_style": "",
            "children": [
              "IPY_MODEL_e16e0d794a4b4c1c93f33aad181dbb60",
              "IPY_MODEL_933c673b499f440da49942f260eb4705",
              "IPY_MODEL_e25b957e7b484f77adb21e7979f0c8a0"
            ],
            "layout": "IPY_MODEL_2c82ee41021441f28c0b9ce95d968165"
          }
        },
        "e16e0d794a4b4c1c93f33aad181dbb60": {
          "model_module": "@jupyter-widgets/controls",
          "model_name": "HTMLModel",
          "model_module_version": "1.5.0",
          "state": {
            "_dom_classes": [],
            "_model_module": "@jupyter-widgets/controls",
            "_model_module_version": "1.5.0",
            "_model_name": "HTMLModel",
            "_view_count": null,
            "_view_module": "@jupyter-widgets/controls",
            "_view_module_version": "1.5.0",
            "_view_name": "HTMLView",
            "description": "",
            "description_tooltip": null,
            "layout": "IPY_MODEL_1736df2ed24748d58cbf92da3cfd1b02",
            "placeholder": "​",
            "style": "IPY_MODEL_91fe8ac0d5954509b915fceb7285fbf6",
            "value": "Dl Size...: 100%"
          }
        },
        "933c673b499f440da49942f260eb4705": {
          "model_module": "@jupyter-widgets/controls",
          "model_name": "FloatProgressModel",
          "model_module_version": "1.5.0",
          "state": {
            "_dom_classes": [],
            "_model_module": "@jupyter-widgets/controls",
            "_model_module_version": "1.5.0",
            "_model_name": "FloatProgressModel",
            "_view_count": null,
            "_view_module": "@jupyter-widgets/controls",
            "_view_module_version": "1.5.0",
            "_view_name": "ProgressView",
            "bar_style": "success",
            "description": "",
            "description_tooltip": null,
            "layout": "IPY_MODEL_f24c36e3d4dc434f88252375bc92978f",
            "max": 1,
            "min": 0,
            "orientation": "horizontal",
            "style": "IPY_MODEL_c640562dbd4c426087b29d46157af7dc",
            "value": 1
          }
        },
        "e25b957e7b484f77adb21e7979f0c8a0": {
          "model_module": "@jupyter-widgets/controls",
          "model_name": "HTMLModel",
          "model_module_version": "1.5.0",
          "state": {
            "_dom_classes": [],
            "_model_module": "@jupyter-widgets/controls",
            "_model_module_version": "1.5.0",
            "_model_name": "HTMLModel",
            "_view_count": null,
            "_view_module": "@jupyter-widgets/controls",
            "_view_module_version": "1.5.0",
            "_view_name": "HTMLView",
            "description": "",
            "description_tooltip": null,
            "layout": "IPY_MODEL_1b86afab27d549a182f76a1d66354fd4",
            "placeholder": "​",
            "style": "IPY_MODEL_797f1d7180d04ec9a1e9be506feefd5e",
            "value": " 756/756 [01:04&lt;00:00, 19.11 MiB/s]"
          }
        },
        "2c82ee41021441f28c0b9ce95d968165": {
          "model_module": "@jupyter-widgets/base",
          "model_name": "LayoutModel",
          "model_module_version": "1.2.0",
          "state": {
            "_model_module": "@jupyter-widgets/base",
            "_model_module_version": "1.2.0",
            "_model_name": "LayoutModel",
            "_view_count": null,
            "_view_module": "@jupyter-widgets/base",
            "_view_module_version": "1.2.0",
            "_view_name": "LayoutView",
            "align_content": null,
            "align_items": null,
            "align_self": null,
            "border": null,
            "bottom": null,
            "display": null,
            "flex": null,
            "flex_flow": null,
            "grid_area": null,
            "grid_auto_columns": null,
            "grid_auto_flow": null,
            "grid_auto_rows": null,
            "grid_column": null,
            "grid_gap": null,
            "grid_row": null,
            "grid_template_areas": null,
            "grid_template_columns": null,
            "grid_template_rows": null,
            "height": null,
            "justify_content": null,
            "justify_items": null,
            "left": null,
            "margin": null,
            "max_height": null,
            "max_width": null,
            "min_height": null,
            "min_width": null,
            "object_fit": null,
            "object_position": null,
            "order": null,
            "overflow": null,
            "overflow_x": null,
            "overflow_y": null,
            "padding": null,
            "right": null,
            "top": null,
            "visibility": null,
            "width": null
          }
        },
        "1736df2ed24748d58cbf92da3cfd1b02": {
          "model_module": "@jupyter-widgets/base",
          "model_name": "LayoutModel",
          "model_module_version": "1.2.0",
          "state": {
            "_model_module": "@jupyter-widgets/base",
            "_model_module_version": "1.2.0",
            "_model_name": "LayoutModel",
            "_view_count": null,
            "_view_module": "@jupyter-widgets/base",
            "_view_module_version": "1.2.0",
            "_view_name": "LayoutView",
            "align_content": null,
            "align_items": null,
            "align_self": null,
            "border": null,
            "bottom": null,
            "display": null,
            "flex": null,
            "flex_flow": null,
            "grid_area": null,
            "grid_auto_columns": null,
            "grid_auto_flow": null,
            "grid_auto_rows": null,
            "grid_column": null,
            "grid_gap": null,
            "grid_row": null,
            "grid_template_areas": null,
            "grid_template_columns": null,
            "grid_template_rows": null,
            "height": null,
            "justify_content": null,
            "justify_items": null,
            "left": null,
            "margin": null,
            "max_height": null,
            "max_width": null,
            "min_height": null,
            "min_width": null,
            "object_fit": null,
            "object_position": null,
            "order": null,
            "overflow": null,
            "overflow_x": null,
            "overflow_y": null,
            "padding": null,
            "right": null,
            "top": null,
            "visibility": null,
            "width": null
          }
        },
        "91fe8ac0d5954509b915fceb7285fbf6": {
          "model_module": "@jupyter-widgets/controls",
          "model_name": "DescriptionStyleModel",
          "model_module_version": "1.5.0",
          "state": {
            "_model_module": "@jupyter-widgets/controls",
            "_model_module_version": "1.5.0",
            "_model_name": "DescriptionStyleModel",
            "_view_count": null,
            "_view_module": "@jupyter-widgets/base",
            "_view_module_version": "1.2.0",
            "_view_name": "StyleView",
            "description_width": ""
          }
        },
        "f24c36e3d4dc434f88252375bc92978f": {
          "model_module": "@jupyter-widgets/base",
          "model_name": "LayoutModel",
          "model_module_version": "1.2.0",
          "state": {
            "_model_module": "@jupyter-widgets/base",
            "_model_module_version": "1.2.0",
            "_model_name": "LayoutModel",
            "_view_count": null,
            "_view_module": "@jupyter-widgets/base",
            "_view_module_version": "1.2.0",
            "_view_name": "LayoutView",
            "align_content": null,
            "align_items": null,
            "align_self": null,
            "border": null,
            "bottom": null,
            "display": null,
            "flex": null,
            "flex_flow": null,
            "grid_area": null,
            "grid_auto_columns": null,
            "grid_auto_flow": null,
            "grid_auto_rows": null,
            "grid_column": null,
            "grid_gap": null,
            "grid_row": null,
            "grid_template_areas": null,
            "grid_template_columns": null,
            "grid_template_rows": null,
            "height": null,
            "justify_content": null,
            "justify_items": null,
            "left": null,
            "margin": null,
            "max_height": null,
            "max_width": null,
            "min_height": null,
            "min_width": null,
            "object_fit": null,
            "object_position": null,
            "order": null,
            "overflow": null,
            "overflow_x": null,
            "overflow_y": null,
            "padding": null,
            "right": null,
            "top": null,
            "visibility": null,
            "width": "20px"
          }
        },
        "c640562dbd4c426087b29d46157af7dc": {
          "model_module": "@jupyter-widgets/controls",
          "model_name": "ProgressStyleModel",
          "model_module_version": "1.5.0",
          "state": {
            "_model_module": "@jupyter-widgets/controls",
            "_model_module_version": "1.5.0",
            "_model_name": "ProgressStyleModel",
            "_view_count": null,
            "_view_module": "@jupyter-widgets/base",
            "_view_module_version": "1.2.0",
            "_view_name": "StyleView",
            "bar_color": null,
            "description_width": ""
          }
        },
        "1b86afab27d549a182f76a1d66354fd4": {
          "model_module": "@jupyter-widgets/base",
          "model_name": "LayoutModel",
          "model_module_version": "1.2.0",
          "state": {
            "_model_module": "@jupyter-widgets/base",
            "_model_module_version": "1.2.0",
            "_model_name": "LayoutModel",
            "_view_count": null,
            "_view_module": "@jupyter-widgets/base",
            "_view_module_version": "1.2.0",
            "_view_name": "LayoutView",
            "align_content": null,
            "align_items": null,
            "align_self": null,
            "border": null,
            "bottom": null,
            "display": null,
            "flex": null,
            "flex_flow": null,
            "grid_area": null,
            "grid_auto_columns": null,
            "grid_auto_flow": null,
            "grid_auto_rows": null,
            "grid_column": null,
            "grid_gap": null,
            "grid_row": null,
            "grid_template_areas": null,
            "grid_template_columns": null,
            "grid_template_rows": null,
            "height": null,
            "justify_content": null,
            "justify_items": null,
            "left": null,
            "margin": null,
            "max_height": null,
            "max_width": null,
            "min_height": null,
            "min_width": null,
            "object_fit": null,
            "object_position": null,
            "order": null,
            "overflow": null,
            "overflow_x": null,
            "overflow_y": null,
            "padding": null,
            "right": null,
            "top": null,
            "visibility": null,
            "width": null
          }
        },
        "797f1d7180d04ec9a1e9be506feefd5e": {
          "model_module": "@jupyter-widgets/controls",
          "model_name": "DescriptionStyleModel",
          "model_module_version": "1.5.0",
          "state": {
            "_model_module": "@jupyter-widgets/controls",
            "_model_module_version": "1.5.0",
            "_model_name": "DescriptionStyleModel",
            "_view_count": null,
            "_view_module": "@jupyter-widgets/base",
            "_view_module_version": "1.2.0",
            "_view_name": "StyleView",
            "description_width": ""
          }
        },
        "753ca89bbaa24d9cab64ad2a72dd6fcf": {
          "model_module": "@jupyter-widgets/controls",
          "model_name": "HBoxModel",
          "model_module_version": "1.5.0",
          "state": {
            "_dom_classes": [],
            "_model_module": "@jupyter-widgets/controls",
            "_model_module_version": "1.5.0",
            "_model_name": "HBoxModel",
            "_view_count": null,
            "_view_module": "@jupyter-widgets/controls",
            "_view_module_version": "1.5.0",
            "_view_name": "HBoxView",
            "box_style": "",
            "children": [
              "IPY_MODEL_e61193c9b7b2468bb25c90586c52accb",
              "IPY_MODEL_2c6d2b54a1444b9dbce3aee1879d04ad",
              "IPY_MODEL_47c98bd3de9c4deaa010d729430137a8"
            ],
            "layout": "IPY_MODEL_a5c352b2bf1c4bd8adbae11673c6c85a"
          }
        },
        "e61193c9b7b2468bb25c90586c52accb": {
          "model_module": "@jupyter-widgets/controls",
          "model_name": "HTMLModel",
          "model_module_version": "1.5.0",
          "state": {
            "_dom_classes": [],
            "_model_module": "@jupyter-widgets/controls",
            "_model_module_version": "1.5.0",
            "_model_name": "HTMLModel",
            "_view_count": null,
            "_view_module": "@jupyter-widgets/controls",
            "_view_module_version": "1.5.0",
            "_view_name": "HTMLView",
            "description": "",
            "description_tooltip": null,
            "layout": "IPY_MODEL_52752c2670244b4ba9e6a8b57b9745d6",
            "placeholder": "​",
            "style": "IPY_MODEL_e0b955171bfd4a45af7b7a456f908b74",
            "value": "Dl Completed...: 100%"
          }
        },
        "2c6d2b54a1444b9dbce3aee1879d04ad": {
          "model_module": "@jupyter-widgets/controls",
          "model_name": "FloatProgressModel",
          "model_module_version": "1.5.0",
          "state": {
            "_dom_classes": [],
            "_model_module": "@jupyter-widgets/controls",
            "_model_module_version": "1.5.0",
            "_model_name": "FloatProgressModel",
            "_view_count": null,
            "_view_module": "@jupyter-widgets/controls",
            "_view_module_version": "1.5.0",
            "_view_name": "ProgressView",
            "bar_style": "success",
            "description": "",
            "description_tooltip": null,
            "layout": "IPY_MODEL_ca085ddc39024e78a9539b1664a27965",
            "max": 1,
            "min": 0,
            "orientation": "horizontal",
            "style": "IPY_MODEL_bdbb844849cd49a99e9add1127c7c7ee",
            "value": 1
          }
        },
        "47c98bd3de9c4deaa010d729430137a8": {
          "model_module": "@jupyter-widgets/controls",
          "model_name": "HTMLModel",
          "model_module_version": "1.5.0",
          "state": {
            "_dom_classes": [],
            "_model_module": "@jupyter-widgets/controls",
            "_model_module_version": "1.5.0",
            "_model_name": "HTMLModel",
            "_view_count": null,
            "_view_module": "@jupyter-widgets/controls",
            "_view_module_version": "1.5.0",
            "_view_name": "HTMLView",
            "description": "",
            "description_tooltip": null,
            "layout": "IPY_MODEL_c0999a04132b42b7a482fe73fa659e2e",
            "placeholder": "​",
            "style": "IPY_MODEL_0f57b26c990c4607bccf60d0881ce3d6",
            "value": " 2/2 [00:51&lt;00:00,  1.33 url/s]"
          }
        },
        "a5c352b2bf1c4bd8adbae11673c6c85a": {
          "model_module": "@jupyter-widgets/base",
          "model_name": "LayoutModel",
          "model_module_version": "1.2.0",
          "state": {
            "_model_module": "@jupyter-widgets/base",
            "_model_module_version": "1.2.0",
            "_model_name": "LayoutModel",
            "_view_count": null,
            "_view_module": "@jupyter-widgets/base",
            "_view_module_version": "1.2.0",
            "_view_name": "LayoutView",
            "align_content": null,
            "align_items": null,
            "align_self": null,
            "border": null,
            "bottom": null,
            "display": null,
            "flex": null,
            "flex_flow": null,
            "grid_area": null,
            "grid_auto_columns": null,
            "grid_auto_flow": null,
            "grid_auto_rows": null,
            "grid_column": null,
            "grid_gap": null,
            "grid_row": null,
            "grid_template_areas": null,
            "grid_template_columns": null,
            "grid_template_rows": null,
            "height": null,
            "justify_content": null,
            "justify_items": null,
            "left": null,
            "margin": null,
            "max_height": null,
            "max_width": null,
            "min_height": null,
            "min_width": null,
            "object_fit": null,
            "object_position": null,
            "order": null,
            "overflow": null,
            "overflow_x": null,
            "overflow_y": null,
            "padding": null,
            "right": null,
            "top": null,
            "visibility": null,
            "width": null
          }
        },
        "52752c2670244b4ba9e6a8b57b9745d6": {
          "model_module": "@jupyter-widgets/base",
          "model_name": "LayoutModel",
          "model_module_version": "1.2.0",
          "state": {
            "_model_module": "@jupyter-widgets/base",
            "_model_module_version": "1.2.0",
            "_model_name": "LayoutModel",
            "_view_count": null,
            "_view_module": "@jupyter-widgets/base",
            "_view_module_version": "1.2.0",
            "_view_name": "LayoutView",
            "align_content": null,
            "align_items": null,
            "align_self": null,
            "border": null,
            "bottom": null,
            "display": null,
            "flex": null,
            "flex_flow": null,
            "grid_area": null,
            "grid_auto_columns": null,
            "grid_auto_flow": null,
            "grid_auto_rows": null,
            "grid_column": null,
            "grid_gap": null,
            "grid_row": null,
            "grid_template_areas": null,
            "grid_template_columns": null,
            "grid_template_rows": null,
            "height": null,
            "justify_content": null,
            "justify_items": null,
            "left": null,
            "margin": null,
            "max_height": null,
            "max_width": null,
            "min_height": null,
            "min_width": null,
            "object_fit": null,
            "object_position": null,
            "order": null,
            "overflow": null,
            "overflow_x": null,
            "overflow_y": null,
            "padding": null,
            "right": null,
            "top": null,
            "visibility": null,
            "width": null
          }
        },
        "e0b955171bfd4a45af7b7a456f908b74": {
          "model_module": "@jupyter-widgets/controls",
          "model_name": "DescriptionStyleModel",
          "model_module_version": "1.5.0",
          "state": {
            "_model_module": "@jupyter-widgets/controls",
            "_model_module_version": "1.5.0",
            "_model_name": "DescriptionStyleModel",
            "_view_count": null,
            "_view_module": "@jupyter-widgets/base",
            "_view_module_version": "1.2.0",
            "_view_name": "StyleView",
            "description_width": ""
          }
        },
        "ca085ddc39024e78a9539b1664a27965": {
          "model_module": "@jupyter-widgets/base",
          "model_name": "LayoutModel",
          "model_module_version": "1.2.0",
          "state": {
            "_model_module": "@jupyter-widgets/base",
            "_model_module_version": "1.2.0",
            "_model_name": "LayoutModel",
            "_view_count": null,
            "_view_module": "@jupyter-widgets/base",
            "_view_module_version": "1.2.0",
            "_view_name": "LayoutView",
            "align_content": null,
            "align_items": null,
            "align_self": null,
            "border": null,
            "bottom": null,
            "display": null,
            "flex": null,
            "flex_flow": null,
            "grid_area": null,
            "grid_auto_columns": null,
            "grid_auto_flow": null,
            "grid_auto_rows": null,
            "grid_column": null,
            "grid_gap": null,
            "grid_row": null,
            "grid_template_areas": null,
            "grid_template_columns": null,
            "grid_template_rows": null,
            "height": null,
            "justify_content": null,
            "justify_items": null,
            "left": null,
            "margin": null,
            "max_height": null,
            "max_width": null,
            "min_height": null,
            "min_width": null,
            "object_fit": null,
            "object_position": null,
            "order": null,
            "overflow": null,
            "overflow_x": null,
            "overflow_y": null,
            "padding": null,
            "right": null,
            "top": null,
            "visibility": null,
            "width": "20px"
          }
        },
        "bdbb844849cd49a99e9add1127c7c7ee": {
          "model_module": "@jupyter-widgets/controls",
          "model_name": "ProgressStyleModel",
          "model_module_version": "1.5.0",
          "state": {
            "_model_module": "@jupyter-widgets/controls",
            "_model_module_version": "1.5.0",
            "_model_name": "ProgressStyleModel",
            "_view_count": null,
            "_view_module": "@jupyter-widgets/base",
            "_view_module_version": "1.2.0",
            "_view_name": "StyleView",
            "bar_color": null,
            "description_width": ""
          }
        },
        "c0999a04132b42b7a482fe73fa659e2e": {
          "model_module": "@jupyter-widgets/base",
          "model_name": "LayoutModel",
          "model_module_version": "1.2.0",
          "state": {
            "_model_module": "@jupyter-widgets/base",
            "_model_module_version": "1.2.0",
            "_model_name": "LayoutModel",
            "_view_count": null,
            "_view_module": "@jupyter-widgets/base",
            "_view_module_version": "1.2.0",
            "_view_name": "LayoutView",
            "align_content": null,
            "align_items": null,
            "align_self": null,
            "border": null,
            "bottom": null,
            "display": null,
            "flex": null,
            "flex_flow": null,
            "grid_area": null,
            "grid_auto_columns": null,
            "grid_auto_flow": null,
            "grid_auto_rows": null,
            "grid_column": null,
            "grid_gap": null,
            "grid_row": null,
            "grid_template_areas": null,
            "grid_template_columns": null,
            "grid_template_rows": null,
            "height": null,
            "justify_content": null,
            "justify_items": null,
            "left": null,
            "margin": null,
            "max_height": null,
            "max_width": null,
            "min_height": null,
            "min_width": null,
            "object_fit": null,
            "object_position": null,
            "order": null,
            "overflow": null,
            "overflow_x": null,
            "overflow_y": null,
            "padding": null,
            "right": null,
            "top": null,
            "visibility": null,
            "width": null
          }
        },
        "0f57b26c990c4607bccf60d0881ce3d6": {
          "model_module": "@jupyter-widgets/controls",
          "model_name": "DescriptionStyleModel",
          "model_module_version": "1.5.0",
          "state": {
            "_model_module": "@jupyter-widgets/controls",
            "_model_module_version": "1.5.0",
            "_model_name": "DescriptionStyleModel",
            "_view_count": null,
            "_view_module": "@jupyter-widgets/base",
            "_view_module_version": "1.2.0",
            "_view_name": "StyleView",
            "description_width": ""
          }
        },
        "82d98c9732a5474f97e2782823502a70": {
          "model_module": "@jupyter-widgets/controls",
          "model_name": "HBoxModel",
          "model_module_version": "1.5.0",
          "state": {
            "_dom_classes": [],
            "_model_module": "@jupyter-widgets/controls",
            "_model_module_version": "1.5.0",
            "_model_name": "HBoxModel",
            "_view_count": null,
            "_view_module": "@jupyter-widgets/controls",
            "_view_module_version": "1.5.0",
            "_view_name": "HBoxView",
            "box_style": "",
            "children": [
              "IPY_MODEL_dec1265d374f4bf580186a91caf25182",
              "IPY_MODEL_031ef95cce3d48c4912877cf143c6c8e",
              "IPY_MODEL_e900bf32d2164e5e8db9309ae96ac7c6"
            ],
            "layout": "IPY_MODEL_60b858888b5947e39bc4a42f0651844d"
          }
        },
        "dec1265d374f4bf580186a91caf25182": {
          "model_module": "@jupyter-widgets/controls",
          "model_name": "HTMLModel",
          "model_module_version": "1.5.0",
          "state": {
            "_dom_classes": [],
            "_model_module": "@jupyter-widgets/controls",
            "_model_module_version": "1.5.0",
            "_model_name": "HTMLModel",
            "_view_count": null,
            "_view_module": "@jupyter-widgets/controls",
            "_view_module_version": "1.5.0",
            "_view_name": "HTMLView",
            "description": "",
            "description_tooltip": null,
            "layout": "IPY_MODEL_500d507ab7364339ba51d46b670c5003",
            "placeholder": "​",
            "style": "IPY_MODEL_62f211038836422b9d506e8908c8b55a",
            "value": "Dl Size...: 100%"
          }
        },
        "031ef95cce3d48c4912877cf143c6c8e": {
          "model_module": "@jupyter-widgets/controls",
          "model_name": "FloatProgressModel",
          "model_module_version": "1.5.0",
          "state": {
            "_dom_classes": [],
            "_model_module": "@jupyter-widgets/controls",
            "_model_module_version": "1.5.0",
            "_model_name": "FloatProgressModel",
            "_view_count": null,
            "_view_module": "@jupyter-widgets/controls",
            "_view_module_version": "1.5.0",
            "_view_name": "ProgressView",
            "bar_style": "success",
            "description": "",
            "description_tooltip": null,
            "layout": "IPY_MODEL_5890de227bc147b98c051934f5d4ea2e",
            "max": 1,
            "min": 0,
            "orientation": "horizontal",
            "style": "IPY_MODEL_85a7387df3fc4cd993a4a6e93d770673",
            "value": 1
          }
        },
        "e900bf32d2164e5e8db9309ae96ac7c6": {
          "model_module": "@jupyter-widgets/controls",
          "model_name": "HTMLModel",
          "model_module_version": "1.5.0",
          "state": {
            "_dom_classes": [],
            "_model_module": "@jupyter-widgets/controls",
            "_model_module_version": "1.5.0",
            "_model_name": "HTMLModel",
            "_view_count": null,
            "_view_module": "@jupyter-widgets/controls",
            "_view_module_version": "1.5.0",
            "_view_name": "HTMLView",
            "description": "",
            "description_tooltip": null,
            "layout": "IPY_MODEL_e11b685250874d8b933f7565ea0cb8f8",
            "placeholder": "​",
            "style": "IPY_MODEL_e919f678e5274a1fba56cb18a66bfbfc",
            "value": " 20/20 [00:51&lt;00:00, 19.90 MiB/s]"
          }
        },
        "60b858888b5947e39bc4a42f0651844d": {
          "model_module": "@jupyter-widgets/base",
          "model_name": "LayoutModel",
          "model_module_version": "1.2.0",
          "state": {
            "_model_module": "@jupyter-widgets/base",
            "_model_module_version": "1.2.0",
            "_model_name": "LayoutModel",
            "_view_count": null,
            "_view_module": "@jupyter-widgets/base",
            "_view_module_version": "1.2.0",
            "_view_name": "LayoutView",
            "align_content": null,
            "align_items": null,
            "align_self": null,
            "border": null,
            "bottom": null,
            "display": null,
            "flex": null,
            "flex_flow": null,
            "grid_area": null,
            "grid_auto_columns": null,
            "grid_auto_flow": null,
            "grid_auto_rows": null,
            "grid_column": null,
            "grid_gap": null,
            "grid_row": null,
            "grid_template_areas": null,
            "grid_template_columns": null,
            "grid_template_rows": null,
            "height": null,
            "justify_content": null,
            "justify_items": null,
            "left": null,
            "margin": null,
            "max_height": null,
            "max_width": null,
            "min_height": null,
            "min_width": null,
            "object_fit": null,
            "object_position": null,
            "order": null,
            "overflow": null,
            "overflow_x": null,
            "overflow_y": null,
            "padding": null,
            "right": null,
            "top": null,
            "visibility": null,
            "width": null
          }
        },
        "500d507ab7364339ba51d46b670c5003": {
          "model_module": "@jupyter-widgets/base",
          "model_name": "LayoutModel",
          "model_module_version": "1.2.0",
          "state": {
            "_model_module": "@jupyter-widgets/base",
            "_model_module_version": "1.2.0",
            "_model_name": "LayoutModel",
            "_view_count": null,
            "_view_module": "@jupyter-widgets/base",
            "_view_module_version": "1.2.0",
            "_view_name": "LayoutView",
            "align_content": null,
            "align_items": null,
            "align_self": null,
            "border": null,
            "bottom": null,
            "display": null,
            "flex": null,
            "flex_flow": null,
            "grid_area": null,
            "grid_auto_columns": null,
            "grid_auto_flow": null,
            "grid_auto_rows": null,
            "grid_column": null,
            "grid_gap": null,
            "grid_row": null,
            "grid_template_areas": null,
            "grid_template_columns": null,
            "grid_template_rows": null,
            "height": null,
            "justify_content": null,
            "justify_items": null,
            "left": null,
            "margin": null,
            "max_height": null,
            "max_width": null,
            "min_height": null,
            "min_width": null,
            "object_fit": null,
            "object_position": null,
            "order": null,
            "overflow": null,
            "overflow_x": null,
            "overflow_y": null,
            "padding": null,
            "right": null,
            "top": null,
            "visibility": null,
            "width": null
          }
        },
        "62f211038836422b9d506e8908c8b55a": {
          "model_module": "@jupyter-widgets/controls",
          "model_name": "DescriptionStyleModel",
          "model_module_version": "1.5.0",
          "state": {
            "_model_module": "@jupyter-widgets/controls",
            "_model_module_version": "1.5.0",
            "_model_name": "DescriptionStyleModel",
            "_view_count": null,
            "_view_module": "@jupyter-widgets/base",
            "_view_module_version": "1.2.0",
            "_view_name": "StyleView",
            "description_width": ""
          }
        },
        "5890de227bc147b98c051934f5d4ea2e": {
          "model_module": "@jupyter-widgets/base",
          "model_name": "LayoutModel",
          "model_module_version": "1.2.0",
          "state": {
            "_model_module": "@jupyter-widgets/base",
            "_model_module_version": "1.2.0",
            "_model_name": "LayoutModel",
            "_view_count": null,
            "_view_module": "@jupyter-widgets/base",
            "_view_module_version": "1.2.0",
            "_view_name": "LayoutView",
            "align_content": null,
            "align_items": null,
            "align_self": null,
            "border": null,
            "bottom": null,
            "display": null,
            "flex": null,
            "flex_flow": null,
            "grid_area": null,
            "grid_auto_columns": null,
            "grid_auto_flow": null,
            "grid_auto_rows": null,
            "grid_column": null,
            "grid_gap": null,
            "grid_row": null,
            "grid_template_areas": null,
            "grid_template_columns": null,
            "grid_template_rows": null,
            "height": null,
            "justify_content": null,
            "justify_items": null,
            "left": null,
            "margin": null,
            "max_height": null,
            "max_width": null,
            "min_height": null,
            "min_width": null,
            "object_fit": null,
            "object_position": null,
            "order": null,
            "overflow": null,
            "overflow_x": null,
            "overflow_y": null,
            "padding": null,
            "right": null,
            "top": null,
            "visibility": null,
            "width": "20px"
          }
        },
        "85a7387df3fc4cd993a4a6e93d770673": {
          "model_module": "@jupyter-widgets/controls",
          "model_name": "ProgressStyleModel",
          "model_module_version": "1.5.0",
          "state": {
            "_model_module": "@jupyter-widgets/controls",
            "_model_module_version": "1.5.0",
            "_model_name": "ProgressStyleModel",
            "_view_count": null,
            "_view_module": "@jupyter-widgets/base",
            "_view_module_version": "1.2.0",
            "_view_name": "StyleView",
            "bar_color": null,
            "description_width": ""
          }
        },
        "e11b685250874d8b933f7565ea0cb8f8": {
          "model_module": "@jupyter-widgets/base",
          "model_name": "LayoutModel",
          "model_module_version": "1.2.0",
          "state": {
            "_model_module": "@jupyter-widgets/base",
            "_model_module_version": "1.2.0",
            "_model_name": "LayoutModel",
            "_view_count": null,
            "_view_module": "@jupyter-widgets/base",
            "_view_module_version": "1.2.0",
            "_view_name": "LayoutView",
            "align_content": null,
            "align_items": null,
            "align_self": null,
            "border": null,
            "bottom": null,
            "display": null,
            "flex": null,
            "flex_flow": null,
            "grid_area": null,
            "grid_auto_columns": null,
            "grid_auto_flow": null,
            "grid_auto_rows": null,
            "grid_column": null,
            "grid_gap": null,
            "grid_row": null,
            "grid_template_areas": null,
            "grid_template_columns": null,
            "grid_template_rows": null,
            "height": null,
            "justify_content": null,
            "justify_items": null,
            "left": null,
            "margin": null,
            "max_height": null,
            "max_width": null,
            "min_height": null,
            "min_width": null,
            "object_fit": null,
            "object_position": null,
            "order": null,
            "overflow": null,
            "overflow_x": null,
            "overflow_y": null,
            "padding": null,
            "right": null,
            "top": null,
            "visibility": null,
            "width": null
          }
        },
        "e919f678e5274a1fba56cb18a66bfbfc": {
          "model_module": "@jupyter-widgets/controls",
          "model_name": "DescriptionStyleModel",
          "model_module_version": "1.5.0",
          "state": {
            "_model_module": "@jupyter-widgets/controls",
            "_model_module_version": "1.5.0",
            "_model_name": "DescriptionStyleModel",
            "_view_count": null,
            "_view_module": "@jupyter-widgets/base",
            "_view_module_version": "1.2.0",
            "_view_name": "StyleView",
            "description_width": ""
          }
        },
        "8b2aded842de432f824fdc3d54ae4bd2": {
          "model_module": "@jupyter-widgets/controls",
          "model_name": "HBoxModel",
          "model_module_version": "1.5.0",
          "state": {
            "_dom_classes": [],
            "_model_module": "@jupyter-widgets/controls",
            "_model_module_version": "1.5.0",
            "_model_name": "HBoxModel",
            "_view_count": null,
            "_view_module": "@jupyter-widgets/controls",
            "_view_module_version": "1.5.0",
            "_view_name": "HBoxView",
            "box_style": "",
            "children": [
              "IPY_MODEL_3bfe31e429cd4293b6f5edb56a39230e",
              "IPY_MODEL_7be923cebdcd449fa46050323332a19a",
              "IPY_MODEL_0ea6a4b11cbb4341978a99eb600b42fe"
            ],
            "layout": "IPY_MODEL_4d63d701b6254912908df864ac22958d"
          }
        },
        "3bfe31e429cd4293b6f5edb56a39230e": {
          "model_module": "@jupyter-widgets/controls",
          "model_name": "HTMLModel",
          "model_module_version": "1.5.0",
          "state": {
            "_dom_classes": [],
            "_model_module": "@jupyter-widgets/controls",
            "_model_module_version": "1.5.0",
            "_model_name": "HTMLModel",
            "_view_count": null,
            "_view_module": "@jupyter-widgets/controls",
            "_view_module_version": "1.5.0",
            "_view_name": "HTMLView",
            "description": "",
            "description_tooltip": null,
            "layout": "IPY_MODEL_2f7262d35ad54826b2c4c0e14017cd9e",
            "placeholder": "​",
            "style": "IPY_MODEL_f0f3552a060545189bd10a6d107ba060",
            "value": "Extraction completed...: 100%"
          }
        },
        "7be923cebdcd449fa46050323332a19a": {
          "model_module": "@jupyter-widgets/controls",
          "model_name": "FloatProgressModel",
          "model_module_version": "1.5.0",
          "state": {
            "_dom_classes": [],
            "_model_module": "@jupyter-widgets/controls",
            "_model_module_version": "1.5.0",
            "_model_name": "FloatProgressModel",
            "_view_count": null,
            "_view_module": "@jupyter-widgets/controls",
            "_view_module_version": "1.5.0",
            "_view_name": "ProgressView",
            "bar_style": "success",
            "description": "",
            "description_tooltip": null,
            "layout": "IPY_MODEL_4f815ae65519401993b38621ab63b7ff",
            "max": 1,
            "min": 0,
            "orientation": "horizontal",
            "style": "IPY_MODEL_1540659db1aa4c20b2ec9d0fcfadedca",
            "value": 1
          }
        },
        "0ea6a4b11cbb4341978a99eb600b42fe": {
          "model_module": "@jupyter-widgets/controls",
          "model_name": "HTMLModel",
          "model_module_version": "1.5.0",
          "state": {
            "_dom_classes": [],
            "_model_module": "@jupyter-widgets/controls",
            "_model_module_version": "1.5.0",
            "_model_name": "HTMLModel",
            "_view_count": null,
            "_view_module": "@jupyter-widgets/controls",
            "_view_module_version": "1.5.0",
            "_view_name": "HTMLView",
            "description": "",
            "description_tooltip": null,
            "layout": "IPY_MODEL_bb6fc91980a44849a0800a8d57483631",
            "placeholder": "​",
            "style": "IPY_MODEL_612bc04724054b299bf956c6091a6e9d",
            "value": " 20583/20583 [00:51&lt;00:00, 995.79 file/s]"
          }
        },
        "4d63d701b6254912908df864ac22958d": {
          "model_module": "@jupyter-widgets/base",
          "model_name": "LayoutModel",
          "model_module_version": "1.2.0",
          "state": {
            "_model_module": "@jupyter-widgets/base",
            "_model_module_version": "1.2.0",
            "_model_name": "LayoutModel",
            "_view_count": null,
            "_view_module": "@jupyter-widgets/base",
            "_view_module_version": "1.2.0",
            "_view_name": "LayoutView",
            "align_content": null,
            "align_items": null,
            "align_self": null,
            "border": null,
            "bottom": null,
            "display": null,
            "flex": null,
            "flex_flow": null,
            "grid_area": null,
            "grid_auto_columns": null,
            "grid_auto_flow": null,
            "grid_auto_rows": null,
            "grid_column": null,
            "grid_gap": null,
            "grid_row": null,
            "grid_template_areas": null,
            "grid_template_columns": null,
            "grid_template_rows": null,
            "height": null,
            "justify_content": null,
            "justify_items": null,
            "left": null,
            "margin": null,
            "max_height": null,
            "max_width": null,
            "min_height": null,
            "min_width": null,
            "object_fit": null,
            "object_position": null,
            "order": null,
            "overflow": null,
            "overflow_x": null,
            "overflow_y": null,
            "padding": null,
            "right": null,
            "top": null,
            "visibility": null,
            "width": null
          }
        },
        "2f7262d35ad54826b2c4c0e14017cd9e": {
          "model_module": "@jupyter-widgets/base",
          "model_name": "LayoutModel",
          "model_module_version": "1.2.0",
          "state": {
            "_model_module": "@jupyter-widgets/base",
            "_model_module_version": "1.2.0",
            "_model_name": "LayoutModel",
            "_view_count": null,
            "_view_module": "@jupyter-widgets/base",
            "_view_module_version": "1.2.0",
            "_view_name": "LayoutView",
            "align_content": null,
            "align_items": null,
            "align_self": null,
            "border": null,
            "bottom": null,
            "display": null,
            "flex": null,
            "flex_flow": null,
            "grid_area": null,
            "grid_auto_columns": null,
            "grid_auto_flow": null,
            "grid_auto_rows": null,
            "grid_column": null,
            "grid_gap": null,
            "grid_row": null,
            "grid_template_areas": null,
            "grid_template_columns": null,
            "grid_template_rows": null,
            "height": null,
            "justify_content": null,
            "justify_items": null,
            "left": null,
            "margin": null,
            "max_height": null,
            "max_width": null,
            "min_height": null,
            "min_width": null,
            "object_fit": null,
            "object_position": null,
            "order": null,
            "overflow": null,
            "overflow_x": null,
            "overflow_y": null,
            "padding": null,
            "right": null,
            "top": null,
            "visibility": null,
            "width": null
          }
        },
        "f0f3552a060545189bd10a6d107ba060": {
          "model_module": "@jupyter-widgets/controls",
          "model_name": "DescriptionStyleModel",
          "model_module_version": "1.5.0",
          "state": {
            "_model_module": "@jupyter-widgets/controls",
            "_model_module_version": "1.5.0",
            "_model_name": "DescriptionStyleModel",
            "_view_count": null,
            "_view_module": "@jupyter-widgets/base",
            "_view_module_version": "1.2.0",
            "_view_name": "StyleView",
            "description_width": ""
          }
        },
        "4f815ae65519401993b38621ab63b7ff": {
          "model_module": "@jupyter-widgets/base",
          "model_name": "LayoutModel",
          "model_module_version": "1.2.0",
          "state": {
            "_model_module": "@jupyter-widgets/base",
            "_model_module_version": "1.2.0",
            "_model_name": "LayoutModel",
            "_view_count": null,
            "_view_module": "@jupyter-widgets/base",
            "_view_module_version": "1.2.0",
            "_view_name": "LayoutView",
            "align_content": null,
            "align_items": null,
            "align_self": null,
            "border": null,
            "bottom": null,
            "display": null,
            "flex": null,
            "flex_flow": null,
            "grid_area": null,
            "grid_auto_columns": null,
            "grid_auto_flow": null,
            "grid_auto_rows": null,
            "grid_column": null,
            "grid_gap": null,
            "grid_row": null,
            "grid_template_areas": null,
            "grid_template_columns": null,
            "grid_template_rows": null,
            "height": null,
            "justify_content": null,
            "justify_items": null,
            "left": null,
            "margin": null,
            "max_height": null,
            "max_width": null,
            "min_height": null,
            "min_width": null,
            "object_fit": null,
            "object_position": null,
            "order": null,
            "overflow": null,
            "overflow_x": null,
            "overflow_y": null,
            "padding": null,
            "right": null,
            "top": null,
            "visibility": null,
            "width": "20px"
          }
        },
        "1540659db1aa4c20b2ec9d0fcfadedca": {
          "model_module": "@jupyter-widgets/controls",
          "model_name": "ProgressStyleModel",
          "model_module_version": "1.5.0",
          "state": {
            "_model_module": "@jupyter-widgets/controls",
            "_model_module_version": "1.5.0",
            "_model_name": "ProgressStyleModel",
            "_view_count": null,
            "_view_module": "@jupyter-widgets/base",
            "_view_module_version": "1.2.0",
            "_view_name": "StyleView",
            "bar_color": null,
            "description_width": ""
          }
        },
        "bb6fc91980a44849a0800a8d57483631": {
          "model_module": "@jupyter-widgets/base",
          "model_name": "LayoutModel",
          "model_module_version": "1.2.0",
          "state": {
            "_model_module": "@jupyter-widgets/base",
            "_model_module_version": "1.2.0",
            "_model_name": "LayoutModel",
            "_view_count": null,
            "_view_module": "@jupyter-widgets/base",
            "_view_module_version": "1.2.0",
            "_view_name": "LayoutView",
            "align_content": null,
            "align_items": null,
            "align_self": null,
            "border": null,
            "bottom": null,
            "display": null,
            "flex": null,
            "flex_flow": null,
            "grid_area": null,
            "grid_auto_columns": null,
            "grid_auto_flow": null,
            "grid_auto_rows": null,
            "grid_column": null,
            "grid_gap": null,
            "grid_row": null,
            "grid_template_areas": null,
            "grid_template_columns": null,
            "grid_template_rows": null,
            "height": null,
            "justify_content": null,
            "justify_items": null,
            "left": null,
            "margin": null,
            "max_height": null,
            "max_width": null,
            "min_height": null,
            "min_width": null,
            "object_fit": null,
            "object_position": null,
            "order": null,
            "overflow": null,
            "overflow_x": null,
            "overflow_y": null,
            "padding": null,
            "right": null,
            "top": null,
            "visibility": null,
            "width": null
          }
        },
        "612bc04724054b299bf956c6091a6e9d": {
          "model_module": "@jupyter-widgets/controls",
          "model_name": "DescriptionStyleModel",
          "model_module_version": "1.5.0",
          "state": {
            "_model_module": "@jupyter-widgets/controls",
            "_model_module_version": "1.5.0",
            "_model_name": "DescriptionStyleModel",
            "_view_count": null,
            "_view_module": "@jupyter-widgets/base",
            "_view_module_version": "1.2.0",
            "_view_name": "StyleView",
            "description_width": ""
          }
        },
        "5ee78c5e02a2464385d6deed08a74ade": {
          "model_module": "@jupyter-widgets/controls",
          "model_name": "HBoxModel",
          "model_module_version": "1.5.0",
          "state": {
            "_dom_classes": [],
            "_model_module": "@jupyter-widgets/controls",
            "_model_module_version": "1.5.0",
            "_model_name": "HBoxModel",
            "_view_count": null,
            "_view_module": "@jupyter-widgets/controls",
            "_view_module_version": "1.5.0",
            "_view_name": "HBoxView",
            "box_style": "",
            "children": [
              "IPY_MODEL_82da6d90e27d40df8d67fbbdf4e7c799",
              "IPY_MODEL_f19ef7dd16ec47e0888ad02a2f995d1d",
              "IPY_MODEL_8dcb21de076c4e7387f17294296cebbe"
            ],
            "layout": "IPY_MODEL_897a61193d9b4f6d98323a46020bc1c9"
          }
        },
        "82da6d90e27d40df8d67fbbdf4e7c799": {
          "model_module": "@jupyter-widgets/controls",
          "model_name": "HTMLModel",
          "model_module_version": "1.5.0",
          "state": {
            "_dom_classes": [],
            "_model_module": "@jupyter-widgets/controls",
            "_model_module_version": "1.5.0",
            "_model_name": "HTMLModel",
            "_view_count": null,
            "_view_module": "@jupyter-widgets/controls",
            "_view_module_version": "1.5.0",
            "_view_name": "HTMLView",
            "description": "",
            "description_tooltip": null,
            "layout": "IPY_MODEL_77e9f15ebc6b486591563a9e5aaa73b6",
            "placeholder": "​",
            "style": "IPY_MODEL_bbac5251de15416d9c6c7b53c2e4e88a",
            "value": "Generating splits...: 100%"
          }
        },
        "f19ef7dd16ec47e0888ad02a2f995d1d": {
          "model_module": "@jupyter-widgets/controls",
          "model_name": "FloatProgressModel",
          "model_module_version": "1.5.0",
          "state": {
            "_dom_classes": [],
            "_model_module": "@jupyter-widgets/controls",
            "_model_module_version": "1.5.0",
            "_model_name": "FloatProgressModel",
            "_view_count": null,
            "_view_module": "@jupyter-widgets/controls",
            "_view_module_version": "1.5.0",
            "_view_name": "ProgressView",
            "bar_style": "",
            "description": "",
            "description_tooltip": null,
            "layout": "IPY_MODEL_4186a3f0c0fb4281a85c772849724933",
            "max": 2,
            "min": 0,
            "orientation": "horizontal",
            "style": "IPY_MODEL_e2229a0cbb39469bb920148800b3f6c8",
            "value": 2
          }
        },
        "8dcb21de076c4e7387f17294296cebbe": {
          "model_module": "@jupyter-widgets/controls",
          "model_name": "HTMLModel",
          "model_module_version": "1.5.0",
          "state": {
            "_dom_classes": [],
            "_model_module": "@jupyter-widgets/controls",
            "_model_module_version": "1.5.0",
            "_model_name": "HTMLModel",
            "_view_count": null,
            "_view_module": "@jupyter-widgets/controls",
            "_view_module_version": "1.5.0",
            "_view_name": "HTMLView",
            "description": "",
            "description_tooltip": null,
            "layout": "IPY_MODEL_c50a68f4e37441c3a13c3efce9a03f23",
            "placeholder": "​",
            "style": "IPY_MODEL_485491ba8a8b401583c754354007d63e",
            "value": " 2/2 [00:34&lt;00:00, 16.67s/ splits]"
          }
        },
        "897a61193d9b4f6d98323a46020bc1c9": {
          "model_module": "@jupyter-widgets/base",
          "model_name": "LayoutModel",
          "model_module_version": "1.2.0",
          "state": {
            "_model_module": "@jupyter-widgets/base",
            "_model_module_version": "1.2.0",
            "_model_name": "LayoutModel",
            "_view_count": null,
            "_view_module": "@jupyter-widgets/base",
            "_view_module_version": "1.2.0",
            "_view_name": "LayoutView",
            "align_content": null,
            "align_items": null,
            "align_self": null,
            "border": null,
            "bottom": null,
            "display": null,
            "flex": null,
            "flex_flow": null,
            "grid_area": null,
            "grid_auto_columns": null,
            "grid_auto_flow": null,
            "grid_auto_rows": null,
            "grid_column": null,
            "grid_gap": null,
            "grid_row": null,
            "grid_template_areas": null,
            "grid_template_columns": null,
            "grid_template_rows": null,
            "height": null,
            "justify_content": null,
            "justify_items": null,
            "left": null,
            "margin": null,
            "max_height": null,
            "max_width": null,
            "min_height": null,
            "min_width": null,
            "object_fit": null,
            "object_position": null,
            "order": null,
            "overflow": null,
            "overflow_x": null,
            "overflow_y": null,
            "padding": null,
            "right": null,
            "top": null,
            "visibility": "hidden",
            "width": null
          }
        },
        "77e9f15ebc6b486591563a9e5aaa73b6": {
          "model_module": "@jupyter-widgets/base",
          "model_name": "LayoutModel",
          "model_module_version": "1.2.0",
          "state": {
            "_model_module": "@jupyter-widgets/base",
            "_model_module_version": "1.2.0",
            "_model_name": "LayoutModel",
            "_view_count": null,
            "_view_module": "@jupyter-widgets/base",
            "_view_module_version": "1.2.0",
            "_view_name": "LayoutView",
            "align_content": null,
            "align_items": null,
            "align_self": null,
            "border": null,
            "bottom": null,
            "display": null,
            "flex": null,
            "flex_flow": null,
            "grid_area": null,
            "grid_auto_columns": null,
            "grid_auto_flow": null,
            "grid_auto_rows": null,
            "grid_column": null,
            "grid_gap": null,
            "grid_row": null,
            "grid_template_areas": null,
            "grid_template_columns": null,
            "grid_template_rows": null,
            "height": null,
            "justify_content": null,
            "justify_items": null,
            "left": null,
            "margin": null,
            "max_height": null,
            "max_width": null,
            "min_height": null,
            "min_width": null,
            "object_fit": null,
            "object_position": null,
            "order": null,
            "overflow": null,
            "overflow_x": null,
            "overflow_y": null,
            "padding": null,
            "right": null,
            "top": null,
            "visibility": null,
            "width": null
          }
        },
        "bbac5251de15416d9c6c7b53c2e4e88a": {
          "model_module": "@jupyter-widgets/controls",
          "model_name": "DescriptionStyleModel",
          "model_module_version": "1.5.0",
          "state": {
            "_model_module": "@jupyter-widgets/controls",
            "_model_module_version": "1.5.0",
            "_model_name": "DescriptionStyleModel",
            "_view_count": null,
            "_view_module": "@jupyter-widgets/base",
            "_view_module_version": "1.2.0",
            "_view_name": "StyleView",
            "description_width": ""
          }
        },
        "4186a3f0c0fb4281a85c772849724933": {
          "model_module": "@jupyter-widgets/base",
          "model_name": "LayoutModel",
          "model_module_version": "1.2.0",
          "state": {
            "_model_module": "@jupyter-widgets/base",
            "_model_module_version": "1.2.0",
            "_model_name": "LayoutModel",
            "_view_count": null,
            "_view_module": "@jupyter-widgets/base",
            "_view_module_version": "1.2.0",
            "_view_name": "LayoutView",
            "align_content": null,
            "align_items": null,
            "align_self": null,
            "border": null,
            "bottom": null,
            "display": null,
            "flex": null,
            "flex_flow": null,
            "grid_area": null,
            "grid_auto_columns": null,
            "grid_auto_flow": null,
            "grid_auto_rows": null,
            "grid_column": null,
            "grid_gap": null,
            "grid_row": null,
            "grid_template_areas": null,
            "grid_template_columns": null,
            "grid_template_rows": null,
            "height": null,
            "justify_content": null,
            "justify_items": null,
            "left": null,
            "margin": null,
            "max_height": null,
            "max_width": null,
            "min_height": null,
            "min_width": null,
            "object_fit": null,
            "object_position": null,
            "order": null,
            "overflow": null,
            "overflow_x": null,
            "overflow_y": null,
            "padding": null,
            "right": null,
            "top": null,
            "visibility": null,
            "width": null
          }
        },
        "e2229a0cbb39469bb920148800b3f6c8": {
          "model_module": "@jupyter-widgets/controls",
          "model_name": "ProgressStyleModel",
          "model_module_version": "1.5.0",
          "state": {
            "_model_module": "@jupyter-widgets/controls",
            "_model_module_version": "1.5.0",
            "_model_name": "ProgressStyleModel",
            "_view_count": null,
            "_view_module": "@jupyter-widgets/base",
            "_view_module_version": "1.2.0",
            "_view_name": "StyleView",
            "bar_color": null,
            "description_width": ""
          }
        },
        "c50a68f4e37441c3a13c3efce9a03f23": {
          "model_module": "@jupyter-widgets/base",
          "model_name": "LayoutModel",
          "model_module_version": "1.2.0",
          "state": {
            "_model_module": "@jupyter-widgets/base",
            "_model_module_version": "1.2.0",
            "_model_name": "LayoutModel",
            "_view_count": null,
            "_view_module": "@jupyter-widgets/base",
            "_view_module_version": "1.2.0",
            "_view_name": "LayoutView",
            "align_content": null,
            "align_items": null,
            "align_self": null,
            "border": null,
            "bottom": null,
            "display": null,
            "flex": null,
            "flex_flow": null,
            "grid_area": null,
            "grid_auto_columns": null,
            "grid_auto_flow": null,
            "grid_auto_rows": null,
            "grid_column": null,
            "grid_gap": null,
            "grid_row": null,
            "grid_template_areas": null,
            "grid_template_columns": null,
            "grid_template_rows": null,
            "height": null,
            "justify_content": null,
            "justify_items": null,
            "left": null,
            "margin": null,
            "max_height": null,
            "max_width": null,
            "min_height": null,
            "min_width": null,
            "object_fit": null,
            "object_position": null,
            "order": null,
            "overflow": null,
            "overflow_x": null,
            "overflow_y": null,
            "padding": null,
            "right": null,
            "top": null,
            "visibility": null,
            "width": null
          }
        },
        "485491ba8a8b401583c754354007d63e": {
          "model_module": "@jupyter-widgets/controls",
          "model_name": "DescriptionStyleModel",
          "model_module_version": "1.5.0",
          "state": {
            "_model_module": "@jupyter-widgets/controls",
            "_model_module_version": "1.5.0",
            "_model_name": "DescriptionStyleModel",
            "_view_count": null,
            "_view_module": "@jupyter-widgets/base",
            "_view_module_version": "1.2.0",
            "_view_name": "StyleView",
            "description_width": ""
          }
        },
        "d00dc47e63c3402eb639c7df0c43eb5e": {
          "model_module": "@jupyter-widgets/controls",
          "model_name": "HBoxModel",
          "model_module_version": "1.5.0",
          "state": {
            "_dom_classes": [],
            "_model_module": "@jupyter-widgets/controls",
            "_model_module_version": "1.5.0",
            "_model_name": "HBoxModel",
            "_view_count": null,
            "_view_module": "@jupyter-widgets/controls",
            "_view_module_version": "1.5.0",
            "_view_name": "HBoxView",
            "box_style": "",
            "children": [
              "IPY_MODEL_9e2576aab9284ebe9aa20089c334e014",
              "IPY_MODEL_6cf57c82362b4f40827e0898ce28a42c",
              "IPY_MODEL_8364cb014d674688b479140926de7331"
            ],
            "layout": "IPY_MODEL_1aaee8e5e4434995b8ef232b30fd2295"
          }
        },
        "9e2576aab9284ebe9aa20089c334e014": {
          "model_module": "@jupyter-widgets/controls",
          "model_name": "HTMLModel",
          "model_module_version": "1.5.0",
          "state": {
            "_dom_classes": [],
            "_model_module": "@jupyter-widgets/controls",
            "_model_module_version": "1.5.0",
            "_model_name": "HTMLModel",
            "_view_count": null,
            "_view_module": "@jupyter-widgets/controls",
            "_view_module_version": "1.5.0",
            "_view_name": "HTMLView",
            "description": "",
            "description_tooltip": null,
            "layout": "IPY_MODEL_eafd25b2a2024c7baeae2fccdfc0c559",
            "placeholder": "​",
            "style": "IPY_MODEL_e61fdd2fbafe4e5b85d672cb6d0958a4",
            "value": "Generating train examples...:  95%"
          }
        },
        "6cf57c82362b4f40827e0898ce28a42c": {
          "model_module": "@jupyter-widgets/controls",
          "model_name": "FloatProgressModel",
          "model_module_version": "1.5.0",
          "state": {
            "_dom_classes": [],
            "_model_module": "@jupyter-widgets/controls",
            "_model_module_version": "1.5.0",
            "_model_name": "FloatProgressModel",
            "_view_count": null,
            "_view_module": "@jupyter-widgets/controls",
            "_view_module_version": "1.5.0",
            "_view_name": "ProgressView",
            "bar_style": "",
            "description": "",
            "description_tooltip": null,
            "layout": "IPY_MODEL_1a4e7729e4824e5b80e2ad824225492b",
            "max": 12000,
            "min": 0,
            "orientation": "horizontal",
            "style": "IPY_MODEL_e3da37546ba4427ab0c9f0a05ed1bd97",
            "value": 12000
          }
        },
        "8364cb014d674688b479140926de7331": {
          "model_module": "@jupyter-widgets/controls",
          "model_name": "HTMLModel",
          "model_module_version": "1.5.0",
          "state": {
            "_dom_classes": [],
            "_model_module": "@jupyter-widgets/controls",
            "_model_module_version": "1.5.0",
            "_model_name": "HTMLModel",
            "_view_count": null,
            "_view_module": "@jupyter-widgets/controls",
            "_view_module_version": "1.5.0",
            "_view_name": "HTMLView",
            "description": "",
            "description_tooltip": null,
            "layout": "IPY_MODEL_36491800e949437794b2094014a401bb",
            "placeholder": "​",
            "style": "IPY_MODEL_80736e3cb93e4cf6b2960cf21e70011c",
            "value": " 11344/12000 [00:18&lt;00:01, 424.19 examples/s]"
          }
        },
        "1aaee8e5e4434995b8ef232b30fd2295": {
          "model_module": "@jupyter-widgets/base",
          "model_name": "LayoutModel",
          "model_module_version": "1.2.0",
          "state": {
            "_model_module": "@jupyter-widgets/base",
            "_model_module_version": "1.2.0",
            "_model_name": "LayoutModel",
            "_view_count": null,
            "_view_module": "@jupyter-widgets/base",
            "_view_module_version": "1.2.0",
            "_view_name": "LayoutView",
            "align_content": null,
            "align_items": null,
            "align_self": null,
            "border": null,
            "bottom": null,
            "display": null,
            "flex": null,
            "flex_flow": null,
            "grid_area": null,
            "grid_auto_columns": null,
            "grid_auto_flow": null,
            "grid_auto_rows": null,
            "grid_column": null,
            "grid_gap": null,
            "grid_row": null,
            "grid_template_areas": null,
            "grid_template_columns": null,
            "grid_template_rows": null,
            "height": null,
            "justify_content": null,
            "justify_items": null,
            "left": null,
            "margin": null,
            "max_height": null,
            "max_width": null,
            "min_height": null,
            "min_width": null,
            "object_fit": null,
            "object_position": null,
            "order": null,
            "overflow": null,
            "overflow_x": null,
            "overflow_y": null,
            "padding": null,
            "right": null,
            "top": null,
            "visibility": "hidden",
            "width": null
          }
        },
        "eafd25b2a2024c7baeae2fccdfc0c559": {
          "model_module": "@jupyter-widgets/base",
          "model_name": "LayoutModel",
          "model_module_version": "1.2.0",
          "state": {
            "_model_module": "@jupyter-widgets/base",
            "_model_module_version": "1.2.0",
            "_model_name": "LayoutModel",
            "_view_count": null,
            "_view_module": "@jupyter-widgets/base",
            "_view_module_version": "1.2.0",
            "_view_name": "LayoutView",
            "align_content": null,
            "align_items": null,
            "align_self": null,
            "border": null,
            "bottom": null,
            "display": null,
            "flex": null,
            "flex_flow": null,
            "grid_area": null,
            "grid_auto_columns": null,
            "grid_auto_flow": null,
            "grid_auto_rows": null,
            "grid_column": null,
            "grid_gap": null,
            "grid_row": null,
            "grid_template_areas": null,
            "grid_template_columns": null,
            "grid_template_rows": null,
            "height": null,
            "justify_content": null,
            "justify_items": null,
            "left": null,
            "margin": null,
            "max_height": null,
            "max_width": null,
            "min_height": null,
            "min_width": null,
            "object_fit": null,
            "object_position": null,
            "order": null,
            "overflow": null,
            "overflow_x": null,
            "overflow_y": null,
            "padding": null,
            "right": null,
            "top": null,
            "visibility": null,
            "width": null
          }
        },
        "e61fdd2fbafe4e5b85d672cb6d0958a4": {
          "model_module": "@jupyter-widgets/controls",
          "model_name": "DescriptionStyleModel",
          "model_module_version": "1.5.0",
          "state": {
            "_model_module": "@jupyter-widgets/controls",
            "_model_module_version": "1.5.0",
            "_model_name": "DescriptionStyleModel",
            "_view_count": null,
            "_view_module": "@jupyter-widgets/base",
            "_view_module_version": "1.2.0",
            "_view_name": "StyleView",
            "description_width": ""
          }
        },
        "1a4e7729e4824e5b80e2ad824225492b": {
          "model_module": "@jupyter-widgets/base",
          "model_name": "LayoutModel",
          "model_module_version": "1.2.0",
          "state": {
            "_model_module": "@jupyter-widgets/base",
            "_model_module_version": "1.2.0",
            "_model_name": "LayoutModel",
            "_view_count": null,
            "_view_module": "@jupyter-widgets/base",
            "_view_module_version": "1.2.0",
            "_view_name": "LayoutView",
            "align_content": null,
            "align_items": null,
            "align_self": null,
            "border": null,
            "bottom": null,
            "display": null,
            "flex": null,
            "flex_flow": null,
            "grid_area": null,
            "grid_auto_columns": null,
            "grid_auto_flow": null,
            "grid_auto_rows": null,
            "grid_column": null,
            "grid_gap": null,
            "grid_row": null,
            "grid_template_areas": null,
            "grid_template_columns": null,
            "grid_template_rows": null,
            "height": null,
            "justify_content": null,
            "justify_items": null,
            "left": null,
            "margin": null,
            "max_height": null,
            "max_width": null,
            "min_height": null,
            "min_width": null,
            "object_fit": null,
            "object_position": null,
            "order": null,
            "overflow": null,
            "overflow_x": null,
            "overflow_y": null,
            "padding": null,
            "right": null,
            "top": null,
            "visibility": null,
            "width": null
          }
        },
        "e3da37546ba4427ab0c9f0a05ed1bd97": {
          "model_module": "@jupyter-widgets/controls",
          "model_name": "ProgressStyleModel",
          "model_module_version": "1.5.0",
          "state": {
            "_model_module": "@jupyter-widgets/controls",
            "_model_module_version": "1.5.0",
            "_model_name": "ProgressStyleModel",
            "_view_count": null,
            "_view_module": "@jupyter-widgets/base",
            "_view_module_version": "1.2.0",
            "_view_name": "StyleView",
            "bar_color": null,
            "description_width": ""
          }
        },
        "36491800e949437794b2094014a401bb": {
          "model_module": "@jupyter-widgets/base",
          "model_name": "LayoutModel",
          "model_module_version": "1.2.0",
          "state": {
            "_model_module": "@jupyter-widgets/base",
            "_model_module_version": "1.2.0",
            "_model_name": "LayoutModel",
            "_view_count": null,
            "_view_module": "@jupyter-widgets/base",
            "_view_module_version": "1.2.0",
            "_view_name": "LayoutView",
            "align_content": null,
            "align_items": null,
            "align_self": null,
            "border": null,
            "bottom": null,
            "display": null,
            "flex": null,
            "flex_flow": null,
            "grid_area": null,
            "grid_auto_columns": null,
            "grid_auto_flow": null,
            "grid_auto_rows": null,
            "grid_column": null,
            "grid_gap": null,
            "grid_row": null,
            "grid_template_areas": null,
            "grid_template_columns": null,
            "grid_template_rows": null,
            "height": null,
            "justify_content": null,
            "justify_items": null,
            "left": null,
            "margin": null,
            "max_height": null,
            "max_width": null,
            "min_height": null,
            "min_width": null,
            "object_fit": null,
            "object_position": null,
            "order": null,
            "overflow": null,
            "overflow_x": null,
            "overflow_y": null,
            "padding": null,
            "right": null,
            "top": null,
            "visibility": null,
            "width": null
          }
        },
        "80736e3cb93e4cf6b2960cf21e70011c": {
          "model_module": "@jupyter-widgets/controls",
          "model_name": "DescriptionStyleModel",
          "model_module_version": "1.5.0",
          "state": {
            "_model_module": "@jupyter-widgets/controls",
            "_model_module_version": "1.5.0",
            "_model_name": "DescriptionStyleModel",
            "_view_count": null,
            "_view_module": "@jupyter-widgets/base",
            "_view_module_version": "1.2.0",
            "_view_name": "StyleView",
            "description_width": ""
          }
        },
        "b66687657e8545269e852bc87d8724d3": {
          "model_module": "@jupyter-widgets/controls",
          "model_name": "HBoxModel",
          "model_module_version": "1.5.0",
          "state": {
            "_dom_classes": [],
            "_model_module": "@jupyter-widgets/controls",
            "_model_module_version": "1.5.0",
            "_model_name": "HBoxModel",
            "_view_count": null,
            "_view_module": "@jupyter-widgets/controls",
            "_view_module_version": "1.5.0",
            "_view_name": "HBoxView",
            "box_style": "",
            "children": [
              "IPY_MODEL_e37e32e19434498dae0146d87956da6c",
              "IPY_MODEL_c94077c8c20f47a1968c0b7a903b3e5c",
              "IPY_MODEL_0d47a291e7b24a11b0b6c05c4eac29a8"
            ],
            "layout": "IPY_MODEL_9173ad29175846c3b25b2e70df29ed59"
          }
        },
        "e37e32e19434498dae0146d87956da6c": {
          "model_module": "@jupyter-widgets/controls",
          "model_name": "HTMLModel",
          "model_module_version": "1.5.0",
          "state": {
            "_dom_classes": [],
            "_model_module": "@jupyter-widgets/controls",
            "_model_module_version": "1.5.0",
            "_model_name": "HTMLModel",
            "_view_count": null,
            "_view_module": "@jupyter-widgets/controls",
            "_view_module_version": "1.5.0",
            "_view_name": "HTMLView",
            "description": "",
            "description_tooltip": null,
            "layout": "IPY_MODEL_299cdd442ef94bb8838ab11d5d9187c8",
            "placeholder": "​",
            "style": "IPY_MODEL_4247d0db2d2440f68f6700c194663c26",
            "value": "Shuffling /root/tensorflow_datasets/stanford_dogs/0.2.0.incompleteZB8XPI/stanford_dogs-train.tfrecord*...:  96%"
          }
        },
        "c94077c8c20f47a1968c0b7a903b3e5c": {
          "model_module": "@jupyter-widgets/controls",
          "model_name": "FloatProgressModel",
          "model_module_version": "1.5.0",
          "state": {
            "_dom_classes": [],
            "_model_module": "@jupyter-widgets/controls",
            "_model_module_version": "1.5.0",
            "_model_name": "FloatProgressModel",
            "_view_count": null,
            "_view_module": "@jupyter-widgets/controls",
            "_view_module_version": "1.5.0",
            "_view_name": "ProgressView",
            "bar_style": "",
            "description": "",
            "description_tooltip": null,
            "layout": "IPY_MODEL_9da22768bb7e4f54af2db031f56d2aaa",
            "max": 12000,
            "min": 0,
            "orientation": "horizontal",
            "style": "IPY_MODEL_70100ef7fbb34f9b8caba94ce8b17568",
            "value": 12000
          }
        },
        "0d47a291e7b24a11b0b6c05c4eac29a8": {
          "model_module": "@jupyter-widgets/controls",
          "model_name": "HTMLModel",
          "model_module_version": "1.5.0",
          "state": {
            "_dom_classes": [],
            "_model_module": "@jupyter-widgets/controls",
            "_model_module_version": "1.5.0",
            "_model_name": "HTMLModel",
            "_view_count": null,
            "_view_module": "@jupyter-widgets/controls",
            "_view_module_version": "1.5.0",
            "_view_name": "HTMLView",
            "description": "",
            "description_tooltip": null,
            "layout": "IPY_MODEL_e09c1222b9374586ba01fb36f050c123",
            "placeholder": "​",
            "style": "IPY_MODEL_6d997a3fb428403f970e058d8a0a0bb0",
            "value": " 11464/12000 [00:01&lt;00:00, 7238.68 examples/s]"
          }
        },
        "9173ad29175846c3b25b2e70df29ed59": {
          "model_module": "@jupyter-widgets/base",
          "model_name": "LayoutModel",
          "model_module_version": "1.2.0",
          "state": {
            "_model_module": "@jupyter-widgets/base",
            "_model_module_version": "1.2.0",
            "_model_name": "LayoutModel",
            "_view_count": null,
            "_view_module": "@jupyter-widgets/base",
            "_view_module_version": "1.2.0",
            "_view_name": "LayoutView",
            "align_content": null,
            "align_items": null,
            "align_self": null,
            "border": null,
            "bottom": null,
            "display": null,
            "flex": null,
            "flex_flow": null,
            "grid_area": null,
            "grid_auto_columns": null,
            "grid_auto_flow": null,
            "grid_auto_rows": null,
            "grid_column": null,
            "grid_gap": null,
            "grid_row": null,
            "grid_template_areas": null,
            "grid_template_columns": null,
            "grid_template_rows": null,
            "height": null,
            "justify_content": null,
            "justify_items": null,
            "left": null,
            "margin": null,
            "max_height": null,
            "max_width": null,
            "min_height": null,
            "min_width": null,
            "object_fit": null,
            "object_position": null,
            "order": null,
            "overflow": null,
            "overflow_x": null,
            "overflow_y": null,
            "padding": null,
            "right": null,
            "top": null,
            "visibility": "hidden",
            "width": null
          }
        },
        "299cdd442ef94bb8838ab11d5d9187c8": {
          "model_module": "@jupyter-widgets/base",
          "model_name": "LayoutModel",
          "model_module_version": "1.2.0",
          "state": {
            "_model_module": "@jupyter-widgets/base",
            "_model_module_version": "1.2.0",
            "_model_name": "LayoutModel",
            "_view_count": null,
            "_view_module": "@jupyter-widgets/base",
            "_view_module_version": "1.2.0",
            "_view_name": "LayoutView",
            "align_content": null,
            "align_items": null,
            "align_self": null,
            "border": null,
            "bottom": null,
            "display": null,
            "flex": null,
            "flex_flow": null,
            "grid_area": null,
            "grid_auto_columns": null,
            "grid_auto_flow": null,
            "grid_auto_rows": null,
            "grid_column": null,
            "grid_gap": null,
            "grid_row": null,
            "grid_template_areas": null,
            "grid_template_columns": null,
            "grid_template_rows": null,
            "height": null,
            "justify_content": null,
            "justify_items": null,
            "left": null,
            "margin": null,
            "max_height": null,
            "max_width": null,
            "min_height": null,
            "min_width": null,
            "object_fit": null,
            "object_position": null,
            "order": null,
            "overflow": null,
            "overflow_x": null,
            "overflow_y": null,
            "padding": null,
            "right": null,
            "top": null,
            "visibility": null,
            "width": null
          }
        },
        "4247d0db2d2440f68f6700c194663c26": {
          "model_module": "@jupyter-widgets/controls",
          "model_name": "DescriptionStyleModel",
          "model_module_version": "1.5.0",
          "state": {
            "_model_module": "@jupyter-widgets/controls",
            "_model_module_version": "1.5.0",
            "_model_name": "DescriptionStyleModel",
            "_view_count": null,
            "_view_module": "@jupyter-widgets/base",
            "_view_module_version": "1.2.0",
            "_view_name": "StyleView",
            "description_width": ""
          }
        },
        "9da22768bb7e4f54af2db031f56d2aaa": {
          "model_module": "@jupyter-widgets/base",
          "model_name": "LayoutModel",
          "model_module_version": "1.2.0",
          "state": {
            "_model_module": "@jupyter-widgets/base",
            "_model_module_version": "1.2.0",
            "_model_name": "LayoutModel",
            "_view_count": null,
            "_view_module": "@jupyter-widgets/base",
            "_view_module_version": "1.2.0",
            "_view_name": "LayoutView",
            "align_content": null,
            "align_items": null,
            "align_self": null,
            "border": null,
            "bottom": null,
            "display": null,
            "flex": null,
            "flex_flow": null,
            "grid_area": null,
            "grid_auto_columns": null,
            "grid_auto_flow": null,
            "grid_auto_rows": null,
            "grid_column": null,
            "grid_gap": null,
            "grid_row": null,
            "grid_template_areas": null,
            "grid_template_columns": null,
            "grid_template_rows": null,
            "height": null,
            "justify_content": null,
            "justify_items": null,
            "left": null,
            "margin": null,
            "max_height": null,
            "max_width": null,
            "min_height": null,
            "min_width": null,
            "object_fit": null,
            "object_position": null,
            "order": null,
            "overflow": null,
            "overflow_x": null,
            "overflow_y": null,
            "padding": null,
            "right": null,
            "top": null,
            "visibility": null,
            "width": null
          }
        },
        "70100ef7fbb34f9b8caba94ce8b17568": {
          "model_module": "@jupyter-widgets/controls",
          "model_name": "ProgressStyleModel",
          "model_module_version": "1.5.0",
          "state": {
            "_model_module": "@jupyter-widgets/controls",
            "_model_module_version": "1.5.0",
            "_model_name": "ProgressStyleModel",
            "_view_count": null,
            "_view_module": "@jupyter-widgets/base",
            "_view_module_version": "1.2.0",
            "_view_name": "StyleView",
            "bar_color": null,
            "description_width": ""
          }
        },
        "e09c1222b9374586ba01fb36f050c123": {
          "model_module": "@jupyter-widgets/base",
          "model_name": "LayoutModel",
          "model_module_version": "1.2.0",
          "state": {
            "_model_module": "@jupyter-widgets/base",
            "_model_module_version": "1.2.0",
            "_model_name": "LayoutModel",
            "_view_count": null,
            "_view_module": "@jupyter-widgets/base",
            "_view_module_version": "1.2.0",
            "_view_name": "LayoutView",
            "align_content": null,
            "align_items": null,
            "align_self": null,
            "border": null,
            "bottom": null,
            "display": null,
            "flex": null,
            "flex_flow": null,
            "grid_area": null,
            "grid_auto_columns": null,
            "grid_auto_flow": null,
            "grid_auto_rows": null,
            "grid_column": null,
            "grid_gap": null,
            "grid_row": null,
            "grid_template_areas": null,
            "grid_template_columns": null,
            "grid_template_rows": null,
            "height": null,
            "justify_content": null,
            "justify_items": null,
            "left": null,
            "margin": null,
            "max_height": null,
            "max_width": null,
            "min_height": null,
            "min_width": null,
            "object_fit": null,
            "object_position": null,
            "order": null,
            "overflow": null,
            "overflow_x": null,
            "overflow_y": null,
            "padding": null,
            "right": null,
            "top": null,
            "visibility": null,
            "width": null
          }
        },
        "6d997a3fb428403f970e058d8a0a0bb0": {
          "model_module": "@jupyter-widgets/controls",
          "model_name": "DescriptionStyleModel",
          "model_module_version": "1.5.0",
          "state": {
            "_model_module": "@jupyter-widgets/controls",
            "_model_module_version": "1.5.0",
            "_model_name": "DescriptionStyleModel",
            "_view_count": null,
            "_view_module": "@jupyter-widgets/base",
            "_view_module_version": "1.2.0",
            "_view_name": "StyleView",
            "description_width": ""
          }
        },
        "5aae79bd091c4d23addaa76ed4366879": {
          "model_module": "@jupyter-widgets/controls",
          "model_name": "HBoxModel",
          "model_module_version": "1.5.0",
          "state": {
            "_dom_classes": [],
            "_model_module": "@jupyter-widgets/controls",
            "_model_module_version": "1.5.0",
            "_model_name": "HBoxModel",
            "_view_count": null,
            "_view_module": "@jupyter-widgets/controls",
            "_view_module_version": "1.5.0",
            "_view_name": "HBoxView",
            "box_style": "",
            "children": [
              "IPY_MODEL_91a9ef98cd264c03b89b48e6da7a3bfb",
              "IPY_MODEL_0e5f6467009f49daa4818ff13e3c0e60",
              "IPY_MODEL_b0d03f3ce5fc4b16b71f4a26071d2845"
            ],
            "layout": "IPY_MODEL_a4afa06e0fb04f7785de25e999c3cb99"
          }
        },
        "91a9ef98cd264c03b89b48e6da7a3bfb": {
          "model_module": "@jupyter-widgets/controls",
          "model_name": "HTMLModel",
          "model_module_version": "1.5.0",
          "state": {
            "_dom_classes": [],
            "_model_module": "@jupyter-widgets/controls",
            "_model_module_version": "1.5.0",
            "_model_name": "HTMLModel",
            "_view_count": null,
            "_view_module": "@jupyter-widgets/controls",
            "_view_module_version": "1.5.0",
            "_view_name": "HTMLView",
            "description": "",
            "description_tooltip": null,
            "layout": "IPY_MODEL_ee484e03f88d4da18bf3f435dfcd2b98",
            "placeholder": "​",
            "style": "IPY_MODEL_d73bf90334124d3398857652534346af",
            "value": "Generating test examples...:  94%"
          }
        },
        "0e5f6467009f49daa4818ff13e3c0e60": {
          "model_module": "@jupyter-widgets/controls",
          "model_name": "FloatProgressModel",
          "model_module_version": "1.5.0",
          "state": {
            "_dom_classes": [],
            "_model_module": "@jupyter-widgets/controls",
            "_model_module_version": "1.5.0",
            "_model_name": "FloatProgressModel",
            "_view_count": null,
            "_view_module": "@jupyter-widgets/controls",
            "_view_module_version": "1.5.0",
            "_view_name": "ProgressView",
            "bar_style": "",
            "description": "",
            "description_tooltip": null,
            "layout": "IPY_MODEL_1e5c3e414a5a4c4e8796d1a100750876",
            "max": 8580,
            "min": 0,
            "orientation": "horizontal",
            "style": "IPY_MODEL_e1c6c127bb0f413bb01284010243da89",
            "value": 8580
          }
        },
        "b0d03f3ce5fc4b16b71f4a26071d2845": {
          "model_module": "@jupyter-widgets/controls",
          "model_name": "HTMLModel",
          "model_module_version": "1.5.0",
          "state": {
            "_dom_classes": [],
            "_model_module": "@jupyter-widgets/controls",
            "_model_module_version": "1.5.0",
            "_model_name": "HTMLModel",
            "_view_count": null,
            "_view_module": "@jupyter-widgets/controls",
            "_view_module_version": "1.5.0",
            "_view_name": "HTMLView",
            "description": "",
            "description_tooltip": null,
            "layout": "IPY_MODEL_96f9fde6ad64482ea0cecae14b7ed7ea",
            "placeholder": "​",
            "style": "IPY_MODEL_88ea125a9542432a979b000c5a9e4246",
            "value": " 8108/8580 [00:11&lt;00:00, 643.41 examples/s]"
          }
        },
        "a4afa06e0fb04f7785de25e999c3cb99": {
          "model_module": "@jupyter-widgets/base",
          "model_name": "LayoutModel",
          "model_module_version": "1.2.0",
          "state": {
            "_model_module": "@jupyter-widgets/base",
            "_model_module_version": "1.2.0",
            "_model_name": "LayoutModel",
            "_view_count": null,
            "_view_module": "@jupyter-widgets/base",
            "_view_module_version": "1.2.0",
            "_view_name": "LayoutView",
            "align_content": null,
            "align_items": null,
            "align_self": null,
            "border": null,
            "bottom": null,
            "display": null,
            "flex": null,
            "flex_flow": null,
            "grid_area": null,
            "grid_auto_columns": null,
            "grid_auto_flow": null,
            "grid_auto_rows": null,
            "grid_column": null,
            "grid_gap": null,
            "grid_row": null,
            "grid_template_areas": null,
            "grid_template_columns": null,
            "grid_template_rows": null,
            "height": null,
            "justify_content": null,
            "justify_items": null,
            "left": null,
            "margin": null,
            "max_height": null,
            "max_width": null,
            "min_height": null,
            "min_width": null,
            "object_fit": null,
            "object_position": null,
            "order": null,
            "overflow": null,
            "overflow_x": null,
            "overflow_y": null,
            "padding": null,
            "right": null,
            "top": null,
            "visibility": "hidden",
            "width": null
          }
        },
        "ee484e03f88d4da18bf3f435dfcd2b98": {
          "model_module": "@jupyter-widgets/base",
          "model_name": "LayoutModel",
          "model_module_version": "1.2.0",
          "state": {
            "_model_module": "@jupyter-widgets/base",
            "_model_module_version": "1.2.0",
            "_model_name": "LayoutModel",
            "_view_count": null,
            "_view_module": "@jupyter-widgets/base",
            "_view_module_version": "1.2.0",
            "_view_name": "LayoutView",
            "align_content": null,
            "align_items": null,
            "align_self": null,
            "border": null,
            "bottom": null,
            "display": null,
            "flex": null,
            "flex_flow": null,
            "grid_area": null,
            "grid_auto_columns": null,
            "grid_auto_flow": null,
            "grid_auto_rows": null,
            "grid_column": null,
            "grid_gap": null,
            "grid_row": null,
            "grid_template_areas": null,
            "grid_template_columns": null,
            "grid_template_rows": null,
            "height": null,
            "justify_content": null,
            "justify_items": null,
            "left": null,
            "margin": null,
            "max_height": null,
            "max_width": null,
            "min_height": null,
            "min_width": null,
            "object_fit": null,
            "object_position": null,
            "order": null,
            "overflow": null,
            "overflow_x": null,
            "overflow_y": null,
            "padding": null,
            "right": null,
            "top": null,
            "visibility": null,
            "width": null
          }
        },
        "d73bf90334124d3398857652534346af": {
          "model_module": "@jupyter-widgets/controls",
          "model_name": "DescriptionStyleModel",
          "model_module_version": "1.5.0",
          "state": {
            "_model_module": "@jupyter-widgets/controls",
            "_model_module_version": "1.5.0",
            "_model_name": "DescriptionStyleModel",
            "_view_count": null,
            "_view_module": "@jupyter-widgets/base",
            "_view_module_version": "1.2.0",
            "_view_name": "StyleView",
            "description_width": ""
          }
        },
        "1e5c3e414a5a4c4e8796d1a100750876": {
          "model_module": "@jupyter-widgets/base",
          "model_name": "LayoutModel",
          "model_module_version": "1.2.0",
          "state": {
            "_model_module": "@jupyter-widgets/base",
            "_model_module_version": "1.2.0",
            "_model_name": "LayoutModel",
            "_view_count": null,
            "_view_module": "@jupyter-widgets/base",
            "_view_module_version": "1.2.0",
            "_view_name": "LayoutView",
            "align_content": null,
            "align_items": null,
            "align_self": null,
            "border": null,
            "bottom": null,
            "display": null,
            "flex": null,
            "flex_flow": null,
            "grid_area": null,
            "grid_auto_columns": null,
            "grid_auto_flow": null,
            "grid_auto_rows": null,
            "grid_column": null,
            "grid_gap": null,
            "grid_row": null,
            "grid_template_areas": null,
            "grid_template_columns": null,
            "grid_template_rows": null,
            "height": null,
            "justify_content": null,
            "justify_items": null,
            "left": null,
            "margin": null,
            "max_height": null,
            "max_width": null,
            "min_height": null,
            "min_width": null,
            "object_fit": null,
            "object_position": null,
            "order": null,
            "overflow": null,
            "overflow_x": null,
            "overflow_y": null,
            "padding": null,
            "right": null,
            "top": null,
            "visibility": null,
            "width": null
          }
        },
        "e1c6c127bb0f413bb01284010243da89": {
          "model_module": "@jupyter-widgets/controls",
          "model_name": "ProgressStyleModel",
          "model_module_version": "1.5.0",
          "state": {
            "_model_module": "@jupyter-widgets/controls",
            "_model_module_version": "1.5.0",
            "_model_name": "ProgressStyleModel",
            "_view_count": null,
            "_view_module": "@jupyter-widgets/base",
            "_view_module_version": "1.2.0",
            "_view_name": "StyleView",
            "bar_color": null,
            "description_width": ""
          }
        },
        "96f9fde6ad64482ea0cecae14b7ed7ea": {
          "model_module": "@jupyter-widgets/base",
          "model_name": "LayoutModel",
          "model_module_version": "1.2.0",
          "state": {
            "_model_module": "@jupyter-widgets/base",
            "_model_module_version": "1.2.0",
            "_model_name": "LayoutModel",
            "_view_count": null,
            "_view_module": "@jupyter-widgets/base",
            "_view_module_version": "1.2.0",
            "_view_name": "LayoutView",
            "align_content": null,
            "align_items": null,
            "align_self": null,
            "border": null,
            "bottom": null,
            "display": null,
            "flex": null,
            "flex_flow": null,
            "grid_area": null,
            "grid_auto_columns": null,
            "grid_auto_flow": null,
            "grid_auto_rows": null,
            "grid_column": null,
            "grid_gap": null,
            "grid_row": null,
            "grid_template_areas": null,
            "grid_template_columns": null,
            "grid_template_rows": null,
            "height": null,
            "justify_content": null,
            "justify_items": null,
            "left": null,
            "margin": null,
            "max_height": null,
            "max_width": null,
            "min_height": null,
            "min_width": null,
            "object_fit": null,
            "object_position": null,
            "order": null,
            "overflow": null,
            "overflow_x": null,
            "overflow_y": null,
            "padding": null,
            "right": null,
            "top": null,
            "visibility": null,
            "width": null
          }
        },
        "88ea125a9542432a979b000c5a9e4246": {
          "model_module": "@jupyter-widgets/controls",
          "model_name": "DescriptionStyleModel",
          "model_module_version": "1.5.0",
          "state": {
            "_model_module": "@jupyter-widgets/controls",
            "_model_module_version": "1.5.0",
            "_model_name": "DescriptionStyleModel",
            "_view_count": null,
            "_view_module": "@jupyter-widgets/base",
            "_view_module_version": "1.2.0",
            "_view_name": "StyleView",
            "description_width": ""
          }
        },
        "cf2e6dcbb87e4bc8b8e6584d45a56ecf": {
          "model_module": "@jupyter-widgets/controls",
          "model_name": "HBoxModel",
          "model_module_version": "1.5.0",
          "state": {
            "_dom_classes": [],
            "_model_module": "@jupyter-widgets/controls",
            "_model_module_version": "1.5.0",
            "_model_name": "HBoxModel",
            "_view_count": null,
            "_view_module": "@jupyter-widgets/controls",
            "_view_module_version": "1.5.0",
            "_view_name": "HBoxView",
            "box_style": "",
            "children": [
              "IPY_MODEL_30f05ea5f8fb4e55bf3ffdc2791f7bce",
              "IPY_MODEL_108864050094488b91a1602393bf1ac2",
              "IPY_MODEL_421e3430521d443dac7704ed4ce4ebfa"
            ],
            "layout": "IPY_MODEL_014b7bc8c64a4fa48d680d30100d5f6f"
          }
        },
        "30f05ea5f8fb4e55bf3ffdc2791f7bce": {
          "model_module": "@jupyter-widgets/controls",
          "model_name": "HTMLModel",
          "model_module_version": "1.5.0",
          "state": {
            "_dom_classes": [],
            "_model_module": "@jupyter-widgets/controls",
            "_model_module_version": "1.5.0",
            "_model_name": "HTMLModel",
            "_view_count": null,
            "_view_module": "@jupyter-widgets/controls",
            "_view_module_version": "1.5.0",
            "_view_name": "HTMLView",
            "description": "",
            "description_tooltip": null,
            "layout": "IPY_MODEL_9df43870cf6d4d0cb0194550cfbacca8",
            "placeholder": "​",
            "style": "IPY_MODEL_60d1cd4204d34685acc4efa4bca388f4",
            "value": "Shuffling /root/tensorflow_datasets/stanford_dogs/0.2.0.incompleteZB8XPI/stanford_dogs-test.tfrecord*...:  98%"
          }
        },
        "108864050094488b91a1602393bf1ac2": {
          "model_module": "@jupyter-widgets/controls",
          "model_name": "FloatProgressModel",
          "model_module_version": "1.5.0",
          "state": {
            "_dom_classes": [],
            "_model_module": "@jupyter-widgets/controls",
            "_model_module_version": "1.5.0",
            "_model_name": "FloatProgressModel",
            "_view_count": null,
            "_view_module": "@jupyter-widgets/controls",
            "_view_module_version": "1.5.0",
            "_view_name": "ProgressView",
            "bar_style": "",
            "description": "",
            "description_tooltip": null,
            "layout": "IPY_MODEL_58e99e967ccd47fc8612f02586faa726",
            "max": 8580,
            "min": 0,
            "orientation": "horizontal",
            "style": "IPY_MODEL_869c8d62963a4dcd9616968b64ca2a3c",
            "value": 8580
          }
        },
        "421e3430521d443dac7704ed4ce4ebfa": {
          "model_module": "@jupyter-widgets/controls",
          "model_name": "HTMLModel",
          "model_module_version": "1.5.0",
          "state": {
            "_dom_classes": [],
            "_model_module": "@jupyter-widgets/controls",
            "_model_module_version": "1.5.0",
            "_model_name": "HTMLModel",
            "_view_count": null,
            "_view_module": "@jupyter-widgets/controls",
            "_view_module_version": "1.5.0",
            "_view_name": "HTMLView",
            "description": "",
            "description_tooltip": null,
            "layout": "IPY_MODEL_a2d0f690739e4cf38f4e05d9431c03ff",
            "placeholder": "​",
            "style": "IPY_MODEL_b8d2a1cc92ee4a6ca3d22908596341b1",
            "value": " 8368/8580 [00:00&lt;00:00, 10818.33 examples/s]"
          }
        },
        "014b7bc8c64a4fa48d680d30100d5f6f": {
          "model_module": "@jupyter-widgets/base",
          "model_name": "LayoutModel",
          "model_module_version": "1.2.0",
          "state": {
            "_model_module": "@jupyter-widgets/base",
            "_model_module_version": "1.2.0",
            "_model_name": "LayoutModel",
            "_view_count": null,
            "_view_module": "@jupyter-widgets/base",
            "_view_module_version": "1.2.0",
            "_view_name": "LayoutView",
            "align_content": null,
            "align_items": null,
            "align_self": null,
            "border": null,
            "bottom": null,
            "display": null,
            "flex": null,
            "flex_flow": null,
            "grid_area": null,
            "grid_auto_columns": null,
            "grid_auto_flow": null,
            "grid_auto_rows": null,
            "grid_column": null,
            "grid_gap": null,
            "grid_row": null,
            "grid_template_areas": null,
            "grid_template_columns": null,
            "grid_template_rows": null,
            "height": null,
            "justify_content": null,
            "justify_items": null,
            "left": null,
            "margin": null,
            "max_height": null,
            "max_width": null,
            "min_height": null,
            "min_width": null,
            "object_fit": null,
            "object_position": null,
            "order": null,
            "overflow": null,
            "overflow_x": null,
            "overflow_y": null,
            "padding": null,
            "right": null,
            "top": null,
            "visibility": "hidden",
            "width": null
          }
        },
        "9df43870cf6d4d0cb0194550cfbacca8": {
          "model_module": "@jupyter-widgets/base",
          "model_name": "LayoutModel",
          "model_module_version": "1.2.0",
          "state": {
            "_model_module": "@jupyter-widgets/base",
            "_model_module_version": "1.2.0",
            "_model_name": "LayoutModel",
            "_view_count": null,
            "_view_module": "@jupyter-widgets/base",
            "_view_module_version": "1.2.0",
            "_view_name": "LayoutView",
            "align_content": null,
            "align_items": null,
            "align_self": null,
            "border": null,
            "bottom": null,
            "display": null,
            "flex": null,
            "flex_flow": null,
            "grid_area": null,
            "grid_auto_columns": null,
            "grid_auto_flow": null,
            "grid_auto_rows": null,
            "grid_column": null,
            "grid_gap": null,
            "grid_row": null,
            "grid_template_areas": null,
            "grid_template_columns": null,
            "grid_template_rows": null,
            "height": null,
            "justify_content": null,
            "justify_items": null,
            "left": null,
            "margin": null,
            "max_height": null,
            "max_width": null,
            "min_height": null,
            "min_width": null,
            "object_fit": null,
            "object_position": null,
            "order": null,
            "overflow": null,
            "overflow_x": null,
            "overflow_y": null,
            "padding": null,
            "right": null,
            "top": null,
            "visibility": null,
            "width": null
          }
        },
        "60d1cd4204d34685acc4efa4bca388f4": {
          "model_module": "@jupyter-widgets/controls",
          "model_name": "DescriptionStyleModel",
          "model_module_version": "1.5.0",
          "state": {
            "_model_module": "@jupyter-widgets/controls",
            "_model_module_version": "1.5.0",
            "_model_name": "DescriptionStyleModel",
            "_view_count": null,
            "_view_module": "@jupyter-widgets/base",
            "_view_module_version": "1.2.0",
            "_view_name": "StyleView",
            "description_width": ""
          }
        },
        "58e99e967ccd47fc8612f02586faa726": {
          "model_module": "@jupyter-widgets/base",
          "model_name": "LayoutModel",
          "model_module_version": "1.2.0",
          "state": {
            "_model_module": "@jupyter-widgets/base",
            "_model_module_version": "1.2.0",
            "_model_name": "LayoutModel",
            "_view_count": null,
            "_view_module": "@jupyter-widgets/base",
            "_view_module_version": "1.2.0",
            "_view_name": "LayoutView",
            "align_content": null,
            "align_items": null,
            "align_self": null,
            "border": null,
            "bottom": null,
            "display": null,
            "flex": null,
            "flex_flow": null,
            "grid_area": null,
            "grid_auto_columns": null,
            "grid_auto_flow": null,
            "grid_auto_rows": null,
            "grid_column": null,
            "grid_gap": null,
            "grid_row": null,
            "grid_template_areas": null,
            "grid_template_columns": null,
            "grid_template_rows": null,
            "height": null,
            "justify_content": null,
            "justify_items": null,
            "left": null,
            "margin": null,
            "max_height": null,
            "max_width": null,
            "min_height": null,
            "min_width": null,
            "object_fit": null,
            "object_position": null,
            "order": null,
            "overflow": null,
            "overflow_x": null,
            "overflow_y": null,
            "padding": null,
            "right": null,
            "top": null,
            "visibility": null,
            "width": null
          }
        },
        "869c8d62963a4dcd9616968b64ca2a3c": {
          "model_module": "@jupyter-widgets/controls",
          "model_name": "ProgressStyleModel",
          "model_module_version": "1.5.0",
          "state": {
            "_model_module": "@jupyter-widgets/controls",
            "_model_module_version": "1.5.0",
            "_model_name": "ProgressStyleModel",
            "_view_count": null,
            "_view_module": "@jupyter-widgets/base",
            "_view_module_version": "1.2.0",
            "_view_name": "StyleView",
            "bar_color": null,
            "description_width": ""
          }
        },
        "a2d0f690739e4cf38f4e05d9431c03ff": {
          "model_module": "@jupyter-widgets/base",
          "model_name": "LayoutModel",
          "model_module_version": "1.2.0",
          "state": {
            "_model_module": "@jupyter-widgets/base",
            "_model_module_version": "1.2.0",
            "_model_name": "LayoutModel",
            "_view_count": null,
            "_view_module": "@jupyter-widgets/base",
            "_view_module_version": "1.2.0",
            "_view_name": "LayoutView",
            "align_content": null,
            "align_items": null,
            "align_self": null,
            "border": null,
            "bottom": null,
            "display": null,
            "flex": null,
            "flex_flow": null,
            "grid_area": null,
            "grid_auto_columns": null,
            "grid_auto_flow": null,
            "grid_auto_rows": null,
            "grid_column": null,
            "grid_gap": null,
            "grid_row": null,
            "grid_template_areas": null,
            "grid_template_columns": null,
            "grid_template_rows": null,
            "height": null,
            "justify_content": null,
            "justify_items": null,
            "left": null,
            "margin": null,
            "max_height": null,
            "max_width": null,
            "min_height": null,
            "min_width": null,
            "object_fit": null,
            "object_position": null,
            "order": null,
            "overflow": null,
            "overflow_x": null,
            "overflow_y": null,
            "padding": null,
            "right": null,
            "top": null,
            "visibility": null,
            "width": null
          }
        },
        "b8d2a1cc92ee4a6ca3d22908596341b1": {
          "model_module": "@jupyter-widgets/controls",
          "model_name": "DescriptionStyleModel",
          "model_module_version": "1.5.0",
          "state": {
            "_model_module": "@jupyter-widgets/controls",
            "_model_module_version": "1.5.0",
            "_model_name": "DescriptionStyleModel",
            "_view_count": null,
            "_view_module": "@jupyter-widgets/base",
            "_view_module_version": "1.2.0",
            "_view_name": "StyleView",
            "description_width": ""
          }
        },
        "45b7ad6266ca4e8b9fe8225346e0acf0": {
          "model_module": "@jupyter-widgets/controls",
          "model_name": "VBoxModel",
          "model_module_version": "1.5.0",
          "state": {
            "_dom_classes": [],
            "_model_module": "@jupyter-widgets/controls",
            "_model_module_version": "1.5.0",
            "_model_name": "VBoxModel",
            "_view_count": null,
            "_view_module": "@jupyter-widgets/controls",
            "_view_module_version": "1.5.0",
            "_view_name": "VBoxView",
            "box_style": "",
            "children": [
              "IPY_MODEL_fd8aebdf61454674b0f6aa7f80e31c8a",
              "IPY_MODEL_f751f42be03a4e2fbafb8d1f45ffa113"
            ],
            "layout": "IPY_MODEL_97723d3520754070b13af305023750ba"
          }
        },
        "fd8aebdf61454674b0f6aa7f80e31c8a": {
          "model_module": "@jupyter-widgets/controls",
          "model_name": "LabelModel",
          "model_module_version": "1.5.0",
          "state": {
            "_dom_classes": [],
            "_model_module": "@jupyter-widgets/controls",
            "_model_module_version": "1.5.0",
            "_model_name": "LabelModel",
            "_view_count": null,
            "_view_module": "@jupyter-widgets/controls",
            "_view_module_version": "1.5.0",
            "_view_name": "LabelView",
            "description": "",
            "description_tooltip": null,
            "layout": "IPY_MODEL_523930f4161042fb949d240481e58292",
            "placeholder": "​",
            "style": "IPY_MODEL_1e3287a9040b4d9a9054a05d3d20bd99",
            "value": "Waiting for wandb.init()...\r"
          }
        },
        "f751f42be03a4e2fbafb8d1f45ffa113": {
          "model_module": "@jupyter-widgets/controls",
          "model_name": "FloatProgressModel",
          "model_module_version": "1.5.0",
          "state": {
            "_dom_classes": [],
            "_model_module": "@jupyter-widgets/controls",
            "_model_module_version": "1.5.0",
            "_model_name": "FloatProgressModel",
            "_view_count": null,
            "_view_module": "@jupyter-widgets/controls",
            "_view_module_version": "1.5.0",
            "_view_name": "ProgressView",
            "bar_style": "",
            "description": "",
            "description_tooltip": null,
            "layout": "IPY_MODEL_7e0029871d2d4ba4993452ec1081fa91",
            "max": 1,
            "min": 0,
            "orientation": "horizontal",
            "style": "IPY_MODEL_f2cc3fd78aef478aa4cc73b7f7be3a42",
            "value": 1
          }
        },
        "97723d3520754070b13af305023750ba": {
          "model_module": "@jupyter-widgets/base",
          "model_name": "LayoutModel",
          "model_module_version": "1.2.0",
          "state": {
            "_model_module": "@jupyter-widgets/base",
            "_model_module_version": "1.2.0",
            "_model_name": "LayoutModel",
            "_view_count": null,
            "_view_module": "@jupyter-widgets/base",
            "_view_module_version": "1.2.0",
            "_view_name": "LayoutView",
            "align_content": null,
            "align_items": null,
            "align_self": null,
            "border": null,
            "bottom": null,
            "display": null,
            "flex": null,
            "flex_flow": null,
            "grid_area": null,
            "grid_auto_columns": null,
            "grid_auto_flow": null,
            "grid_auto_rows": null,
            "grid_column": null,
            "grid_gap": null,
            "grid_row": null,
            "grid_template_areas": null,
            "grid_template_columns": null,
            "grid_template_rows": null,
            "height": null,
            "justify_content": null,
            "justify_items": null,
            "left": null,
            "margin": null,
            "max_height": null,
            "max_width": null,
            "min_height": null,
            "min_width": null,
            "object_fit": null,
            "object_position": null,
            "order": null,
            "overflow": null,
            "overflow_x": null,
            "overflow_y": null,
            "padding": null,
            "right": null,
            "top": null,
            "visibility": null,
            "width": null
          }
        },
        "523930f4161042fb949d240481e58292": {
          "model_module": "@jupyter-widgets/base",
          "model_name": "LayoutModel",
          "model_module_version": "1.2.0",
          "state": {
            "_model_module": "@jupyter-widgets/base",
            "_model_module_version": "1.2.0",
            "_model_name": "LayoutModel",
            "_view_count": null,
            "_view_module": "@jupyter-widgets/base",
            "_view_module_version": "1.2.0",
            "_view_name": "LayoutView",
            "align_content": null,
            "align_items": null,
            "align_self": null,
            "border": null,
            "bottom": null,
            "display": null,
            "flex": null,
            "flex_flow": null,
            "grid_area": null,
            "grid_auto_columns": null,
            "grid_auto_flow": null,
            "grid_auto_rows": null,
            "grid_column": null,
            "grid_gap": null,
            "grid_row": null,
            "grid_template_areas": null,
            "grid_template_columns": null,
            "grid_template_rows": null,
            "height": null,
            "justify_content": null,
            "justify_items": null,
            "left": null,
            "margin": null,
            "max_height": null,
            "max_width": null,
            "min_height": null,
            "min_width": null,
            "object_fit": null,
            "object_position": null,
            "order": null,
            "overflow": null,
            "overflow_x": null,
            "overflow_y": null,
            "padding": null,
            "right": null,
            "top": null,
            "visibility": null,
            "width": null
          }
        },
        "1e3287a9040b4d9a9054a05d3d20bd99": {
          "model_module": "@jupyter-widgets/controls",
          "model_name": "DescriptionStyleModel",
          "model_module_version": "1.5.0",
          "state": {
            "_model_module": "@jupyter-widgets/controls",
            "_model_module_version": "1.5.0",
            "_model_name": "DescriptionStyleModel",
            "_view_count": null,
            "_view_module": "@jupyter-widgets/base",
            "_view_module_version": "1.2.0",
            "_view_name": "StyleView",
            "description_width": ""
          }
        },
        "7e0029871d2d4ba4993452ec1081fa91": {
          "model_module": "@jupyter-widgets/base",
          "model_name": "LayoutModel",
          "model_module_version": "1.2.0",
          "state": {
            "_model_module": "@jupyter-widgets/base",
            "_model_module_version": "1.2.0",
            "_model_name": "LayoutModel",
            "_view_count": null,
            "_view_module": "@jupyter-widgets/base",
            "_view_module_version": "1.2.0",
            "_view_name": "LayoutView",
            "align_content": null,
            "align_items": null,
            "align_self": null,
            "border": null,
            "bottom": null,
            "display": null,
            "flex": null,
            "flex_flow": null,
            "grid_area": null,
            "grid_auto_columns": null,
            "grid_auto_flow": null,
            "grid_auto_rows": null,
            "grid_column": null,
            "grid_gap": null,
            "grid_row": null,
            "grid_template_areas": null,
            "grid_template_columns": null,
            "grid_template_rows": null,
            "height": null,
            "justify_content": null,
            "justify_items": null,
            "left": null,
            "margin": null,
            "max_height": null,
            "max_width": null,
            "min_height": null,
            "min_width": null,
            "object_fit": null,
            "object_position": null,
            "order": null,
            "overflow": null,
            "overflow_x": null,
            "overflow_y": null,
            "padding": null,
            "right": null,
            "top": null,
            "visibility": null,
            "width": null
          }
        },
        "f2cc3fd78aef478aa4cc73b7f7be3a42": {
          "model_module": "@jupyter-widgets/controls",
          "model_name": "ProgressStyleModel",
          "model_module_version": "1.5.0",
          "state": {
            "_model_module": "@jupyter-widgets/controls",
            "_model_module_version": "1.5.0",
            "_model_name": "ProgressStyleModel",
            "_view_count": null,
            "_view_module": "@jupyter-widgets/base",
            "_view_module_version": "1.2.0",
            "_view_name": "StyleView",
            "bar_color": null,
            "description_width": ""
          }
        },
        "05a6be731d9944d0bcb67c8606bd0a77": {
          "model_module": "@jupyter-widgets/controls",
          "model_name": "VBoxModel",
          "model_module_version": "1.5.0",
          "state": {
            "_dom_classes": [],
            "_model_module": "@jupyter-widgets/controls",
            "_model_module_version": "1.5.0",
            "_model_name": "VBoxModel",
            "_view_count": null,
            "_view_module": "@jupyter-widgets/controls",
            "_view_module_version": "1.5.0",
            "_view_name": "VBoxView",
            "box_style": "",
            "children": [
              "IPY_MODEL_1883d594ee97452c91f633d37f77334a",
              "IPY_MODEL_b5c3883dbfd047e3ae692974c2b2ac90"
            ],
            "layout": "IPY_MODEL_e3c13c9a394542d295888faae5f33e15"
          }
        },
        "1883d594ee97452c91f633d37f77334a": {
          "model_module": "@jupyter-widgets/controls",
          "model_name": "LabelModel",
          "model_module_version": "1.5.0",
          "state": {
            "_dom_classes": [],
            "_model_module": "@jupyter-widgets/controls",
            "_model_module_version": "1.5.0",
            "_model_name": "LabelModel",
            "_view_count": null,
            "_view_module": "@jupyter-widgets/controls",
            "_view_module_version": "1.5.0",
            "_view_name": "LabelView",
            "description": "",
            "description_tooltip": null,
            "layout": "IPY_MODEL_a66d6f25522b4a78bfaf45ec11b84ba7",
            "placeholder": "​",
            "style": "IPY_MODEL_a99daaace8844e62b4cea1b5b9a9ae39",
            "value": "1100.020 MB of 1221.657 MB uploaded (1.413 MB deduped)\r"
          }
        },
        "b5c3883dbfd047e3ae692974c2b2ac90": {
          "model_module": "@jupyter-widgets/controls",
          "model_name": "FloatProgressModel",
          "model_module_version": "1.5.0",
          "state": {
            "_dom_classes": [],
            "_model_module": "@jupyter-widgets/controls",
            "_model_module_version": "1.5.0",
            "_model_name": "FloatProgressModel",
            "_view_count": null,
            "_view_module": "@jupyter-widgets/controls",
            "_view_module_version": "1.5.0",
            "_view_name": "ProgressView",
            "bar_style": "",
            "description": "",
            "description_tooltip": null,
            "layout": "IPY_MODEL_ae2a869c9d214979ae394b7b6949bbac",
            "max": 1,
            "min": 0,
            "orientation": "horizontal",
            "style": "IPY_MODEL_02a1c25f86e448748f35fd44000033a7",
            "value": 0.9004333436371863
          }
        },
        "e3c13c9a394542d295888faae5f33e15": {
          "model_module": "@jupyter-widgets/base",
          "model_name": "LayoutModel",
          "model_module_version": "1.2.0",
          "state": {
            "_model_module": "@jupyter-widgets/base",
            "_model_module_version": "1.2.0",
            "_model_name": "LayoutModel",
            "_view_count": null,
            "_view_module": "@jupyter-widgets/base",
            "_view_module_version": "1.2.0",
            "_view_name": "LayoutView",
            "align_content": null,
            "align_items": null,
            "align_self": null,
            "border": null,
            "bottom": null,
            "display": null,
            "flex": null,
            "flex_flow": null,
            "grid_area": null,
            "grid_auto_columns": null,
            "grid_auto_flow": null,
            "grid_auto_rows": null,
            "grid_column": null,
            "grid_gap": null,
            "grid_row": null,
            "grid_template_areas": null,
            "grid_template_columns": null,
            "grid_template_rows": null,
            "height": null,
            "justify_content": null,
            "justify_items": null,
            "left": null,
            "margin": null,
            "max_height": null,
            "max_width": null,
            "min_height": null,
            "min_width": null,
            "object_fit": null,
            "object_position": null,
            "order": null,
            "overflow": null,
            "overflow_x": null,
            "overflow_y": null,
            "padding": null,
            "right": null,
            "top": null,
            "visibility": null,
            "width": null
          }
        },
        "a66d6f25522b4a78bfaf45ec11b84ba7": {
          "model_module": "@jupyter-widgets/base",
          "model_name": "LayoutModel",
          "model_module_version": "1.2.0",
          "state": {
            "_model_module": "@jupyter-widgets/base",
            "_model_module_version": "1.2.0",
            "_model_name": "LayoutModel",
            "_view_count": null,
            "_view_module": "@jupyter-widgets/base",
            "_view_module_version": "1.2.0",
            "_view_name": "LayoutView",
            "align_content": null,
            "align_items": null,
            "align_self": null,
            "border": null,
            "bottom": null,
            "display": null,
            "flex": null,
            "flex_flow": null,
            "grid_area": null,
            "grid_auto_columns": null,
            "grid_auto_flow": null,
            "grid_auto_rows": null,
            "grid_column": null,
            "grid_gap": null,
            "grid_row": null,
            "grid_template_areas": null,
            "grid_template_columns": null,
            "grid_template_rows": null,
            "height": null,
            "justify_content": null,
            "justify_items": null,
            "left": null,
            "margin": null,
            "max_height": null,
            "max_width": null,
            "min_height": null,
            "min_width": null,
            "object_fit": null,
            "object_position": null,
            "order": null,
            "overflow": null,
            "overflow_x": null,
            "overflow_y": null,
            "padding": null,
            "right": null,
            "top": null,
            "visibility": null,
            "width": null
          }
        },
        "a99daaace8844e62b4cea1b5b9a9ae39": {
          "model_module": "@jupyter-widgets/controls",
          "model_name": "DescriptionStyleModel",
          "model_module_version": "1.5.0",
          "state": {
            "_model_module": "@jupyter-widgets/controls",
            "_model_module_version": "1.5.0",
            "_model_name": "DescriptionStyleModel",
            "_view_count": null,
            "_view_module": "@jupyter-widgets/base",
            "_view_module_version": "1.2.0",
            "_view_name": "StyleView",
            "description_width": ""
          }
        },
        "ae2a869c9d214979ae394b7b6949bbac": {
          "model_module": "@jupyter-widgets/base",
          "model_name": "LayoutModel",
          "model_module_version": "1.2.0",
          "state": {
            "_model_module": "@jupyter-widgets/base",
            "_model_module_version": "1.2.0",
            "_model_name": "LayoutModel",
            "_view_count": null,
            "_view_module": "@jupyter-widgets/base",
            "_view_module_version": "1.2.0",
            "_view_name": "LayoutView",
            "align_content": null,
            "align_items": null,
            "align_self": null,
            "border": null,
            "bottom": null,
            "display": null,
            "flex": null,
            "flex_flow": null,
            "grid_area": null,
            "grid_auto_columns": null,
            "grid_auto_flow": null,
            "grid_auto_rows": null,
            "grid_column": null,
            "grid_gap": null,
            "grid_row": null,
            "grid_template_areas": null,
            "grid_template_columns": null,
            "grid_template_rows": null,
            "height": null,
            "justify_content": null,
            "justify_items": null,
            "left": null,
            "margin": null,
            "max_height": null,
            "max_width": null,
            "min_height": null,
            "min_width": null,
            "object_fit": null,
            "object_position": null,
            "order": null,
            "overflow": null,
            "overflow_x": null,
            "overflow_y": null,
            "padding": null,
            "right": null,
            "top": null,
            "visibility": null,
            "width": null
          }
        },
        "02a1c25f86e448748f35fd44000033a7": {
          "model_module": "@jupyter-widgets/controls",
          "model_name": "ProgressStyleModel",
          "model_module_version": "1.5.0",
          "state": {
            "_model_module": "@jupyter-widgets/controls",
            "_model_module_version": "1.5.0",
            "_model_name": "ProgressStyleModel",
            "_view_count": null,
            "_view_module": "@jupyter-widgets/base",
            "_view_module_version": "1.2.0",
            "_view_name": "StyleView",
            "bar_color": null,
            "description_width": ""
          }
        },
        "22a135e9abad495d9676751409cb84df": {
          "model_module": "@jupyter-widgets/controls",
          "model_name": "VBoxModel",
          "model_module_version": "1.5.0",
          "state": {
            "_dom_classes": [],
            "_model_module": "@jupyter-widgets/controls",
            "_model_module_version": "1.5.0",
            "_model_name": "VBoxModel",
            "_view_count": null,
            "_view_module": "@jupyter-widgets/controls",
            "_view_module_version": "1.5.0",
            "_view_name": "VBoxView",
            "box_style": "",
            "children": [
              "IPY_MODEL_3c85fbd544a349aab5ce08f643a91702",
              "IPY_MODEL_885ec6f49f064156ab84247bee958dc0"
            ],
            "layout": "IPY_MODEL_bb23021486774b84ab9a86fddcb78ce5"
          }
        },
        "3c85fbd544a349aab5ce08f643a91702": {
          "model_module": "@jupyter-widgets/controls",
          "model_name": "LabelModel",
          "model_module_version": "1.5.0",
          "state": {
            "_dom_classes": [],
            "_model_module": "@jupyter-widgets/controls",
            "_model_module_version": "1.5.0",
            "_model_name": "LabelModel",
            "_view_count": null,
            "_view_module": "@jupyter-widgets/controls",
            "_view_module_version": "1.5.0",
            "_view_name": "LabelView",
            "description": "",
            "description_tooltip": null,
            "layout": "IPY_MODEL_7f9d0c816aa54fd9b9def2e9eb0f98f3",
            "placeholder": "​",
            "style": "IPY_MODEL_652b78c461fb4c3393b60c86f597a603",
            "value": "266.453 MB of 285.694 MB uploaded (0.581 MB deduped)\r"
          }
        },
        "885ec6f49f064156ab84247bee958dc0": {
          "model_module": "@jupyter-widgets/controls",
          "model_name": "FloatProgressModel",
          "model_module_version": "1.5.0",
          "state": {
            "_dom_classes": [],
            "_model_module": "@jupyter-widgets/controls",
            "_model_module_version": "1.5.0",
            "_model_name": "FloatProgressModel",
            "_view_count": null,
            "_view_module": "@jupyter-widgets/controls",
            "_view_module_version": "1.5.0",
            "_view_name": "ProgressView",
            "bar_style": "",
            "description": "",
            "description_tooltip": null,
            "layout": "IPY_MODEL_e512b26cfe8943a4a43f1fc5b583e030",
            "max": 1,
            "min": 0,
            "orientation": "horizontal",
            "style": "IPY_MODEL_48be5d52491d42be821e7c433e45503d",
            "value": 0.9326528329190292
          }
        },
        "bb23021486774b84ab9a86fddcb78ce5": {
          "model_module": "@jupyter-widgets/base",
          "model_name": "LayoutModel",
          "model_module_version": "1.2.0",
          "state": {
            "_model_module": "@jupyter-widgets/base",
            "_model_module_version": "1.2.0",
            "_model_name": "LayoutModel",
            "_view_count": null,
            "_view_module": "@jupyter-widgets/base",
            "_view_module_version": "1.2.0",
            "_view_name": "LayoutView",
            "align_content": null,
            "align_items": null,
            "align_self": null,
            "border": null,
            "bottom": null,
            "display": null,
            "flex": null,
            "flex_flow": null,
            "grid_area": null,
            "grid_auto_columns": null,
            "grid_auto_flow": null,
            "grid_auto_rows": null,
            "grid_column": null,
            "grid_gap": null,
            "grid_row": null,
            "grid_template_areas": null,
            "grid_template_columns": null,
            "grid_template_rows": null,
            "height": null,
            "justify_content": null,
            "justify_items": null,
            "left": null,
            "margin": null,
            "max_height": null,
            "max_width": null,
            "min_height": null,
            "min_width": null,
            "object_fit": null,
            "object_position": null,
            "order": null,
            "overflow": null,
            "overflow_x": null,
            "overflow_y": null,
            "padding": null,
            "right": null,
            "top": null,
            "visibility": null,
            "width": null
          }
        },
        "7f9d0c816aa54fd9b9def2e9eb0f98f3": {
          "model_module": "@jupyter-widgets/base",
          "model_name": "LayoutModel",
          "model_module_version": "1.2.0",
          "state": {
            "_model_module": "@jupyter-widgets/base",
            "_model_module_version": "1.2.0",
            "_model_name": "LayoutModel",
            "_view_count": null,
            "_view_module": "@jupyter-widgets/base",
            "_view_module_version": "1.2.0",
            "_view_name": "LayoutView",
            "align_content": null,
            "align_items": null,
            "align_self": null,
            "border": null,
            "bottom": null,
            "display": null,
            "flex": null,
            "flex_flow": null,
            "grid_area": null,
            "grid_auto_columns": null,
            "grid_auto_flow": null,
            "grid_auto_rows": null,
            "grid_column": null,
            "grid_gap": null,
            "grid_row": null,
            "grid_template_areas": null,
            "grid_template_columns": null,
            "grid_template_rows": null,
            "height": null,
            "justify_content": null,
            "justify_items": null,
            "left": null,
            "margin": null,
            "max_height": null,
            "max_width": null,
            "min_height": null,
            "min_width": null,
            "object_fit": null,
            "object_position": null,
            "order": null,
            "overflow": null,
            "overflow_x": null,
            "overflow_y": null,
            "padding": null,
            "right": null,
            "top": null,
            "visibility": null,
            "width": null
          }
        },
        "652b78c461fb4c3393b60c86f597a603": {
          "model_module": "@jupyter-widgets/controls",
          "model_name": "DescriptionStyleModel",
          "model_module_version": "1.5.0",
          "state": {
            "_model_module": "@jupyter-widgets/controls",
            "_model_module_version": "1.5.0",
            "_model_name": "DescriptionStyleModel",
            "_view_count": null,
            "_view_module": "@jupyter-widgets/base",
            "_view_module_version": "1.2.0",
            "_view_name": "StyleView",
            "description_width": ""
          }
        },
        "e512b26cfe8943a4a43f1fc5b583e030": {
          "model_module": "@jupyter-widgets/base",
          "model_name": "LayoutModel",
          "model_module_version": "1.2.0",
          "state": {
            "_model_module": "@jupyter-widgets/base",
            "_model_module_version": "1.2.0",
            "_model_name": "LayoutModel",
            "_view_count": null,
            "_view_module": "@jupyter-widgets/base",
            "_view_module_version": "1.2.0",
            "_view_name": "LayoutView",
            "align_content": null,
            "align_items": null,
            "align_self": null,
            "border": null,
            "bottom": null,
            "display": null,
            "flex": null,
            "flex_flow": null,
            "grid_area": null,
            "grid_auto_columns": null,
            "grid_auto_flow": null,
            "grid_auto_rows": null,
            "grid_column": null,
            "grid_gap": null,
            "grid_row": null,
            "grid_template_areas": null,
            "grid_template_columns": null,
            "grid_template_rows": null,
            "height": null,
            "justify_content": null,
            "justify_items": null,
            "left": null,
            "margin": null,
            "max_height": null,
            "max_width": null,
            "min_height": null,
            "min_width": null,
            "object_fit": null,
            "object_position": null,
            "order": null,
            "overflow": null,
            "overflow_x": null,
            "overflow_y": null,
            "padding": null,
            "right": null,
            "top": null,
            "visibility": null,
            "width": null
          }
        },
        "48be5d52491d42be821e7c433e45503d": {
          "model_module": "@jupyter-widgets/controls",
          "model_name": "ProgressStyleModel",
          "model_module_version": "1.5.0",
          "state": {
            "_model_module": "@jupyter-widgets/controls",
            "_model_module_version": "1.5.0",
            "_model_name": "ProgressStyleModel",
            "_view_count": null,
            "_view_module": "@jupyter-widgets/base",
            "_view_module_version": "1.2.0",
            "_view_name": "StyleView",
            "bar_color": null,
            "description_width": ""
          }
        },
        "ba7ccbde135d4f419ccd648a7c198bbd": {
          "model_module": "@jupyter-widgets/controls",
          "model_name": "VBoxModel",
          "model_module_version": "1.5.0",
          "state": {
            "_dom_classes": [],
            "_model_module": "@jupyter-widgets/controls",
            "_model_module_version": "1.5.0",
            "_model_name": "VBoxModel",
            "_view_count": null,
            "_view_module": "@jupyter-widgets/controls",
            "_view_module_version": "1.5.0",
            "_view_name": "VBoxView",
            "box_style": "",
            "children": [
              "IPY_MODEL_70ca99add27641108ac1300c80a1be6e",
              "IPY_MODEL_3783766d07d24815898105878829e1c0"
            ],
            "layout": "IPY_MODEL_57373ff1763e471b9e1e90732dd598e4"
          }
        },
        "70ca99add27641108ac1300c80a1be6e": {
          "model_module": "@jupyter-widgets/controls",
          "model_name": "LabelModel",
          "model_module_version": "1.5.0",
          "state": {
            "_dom_classes": [],
            "_model_module": "@jupyter-widgets/controls",
            "_model_module_version": "1.5.0",
            "_model_name": "LabelModel",
            "_view_count": null,
            "_view_module": "@jupyter-widgets/controls",
            "_view_module_version": "1.5.0",
            "_view_name": "LabelView",
            "description": "",
            "description_tooltip": null,
            "layout": "IPY_MODEL_8a0c4f28ad0940e399ab3924a55e0722",
            "placeholder": "​",
            "style": "IPY_MODEL_b2abfb083dbb442c9b0c726df90faa5e",
            "value": "1001.084 MB of 1103.019 MB uploaded (1.159 MB deduped)\r"
          }
        },
        "3783766d07d24815898105878829e1c0": {
          "model_module": "@jupyter-widgets/controls",
          "model_name": "FloatProgressModel",
          "model_module_version": "1.5.0",
          "state": {
            "_dom_classes": [],
            "_model_module": "@jupyter-widgets/controls",
            "_model_module_version": "1.5.0",
            "_model_name": "FloatProgressModel",
            "_view_count": null,
            "_view_module": "@jupyter-widgets/controls",
            "_view_module_version": "1.5.0",
            "_view_name": "ProgressView",
            "bar_style": "",
            "description": "",
            "description_tooltip": null,
            "layout": "IPY_MODEL_5e8474a0bc424739b136a9fe28f29bcd",
            "max": 1,
            "min": 0,
            "orientation": "horizontal",
            "style": "IPY_MODEL_b21b249ff9754e208027bbaaedab99e4",
            "value": 0.9075857858737635
          }
        },
        "57373ff1763e471b9e1e90732dd598e4": {
          "model_module": "@jupyter-widgets/base",
          "model_name": "LayoutModel",
          "model_module_version": "1.2.0",
          "state": {
            "_model_module": "@jupyter-widgets/base",
            "_model_module_version": "1.2.0",
            "_model_name": "LayoutModel",
            "_view_count": null,
            "_view_module": "@jupyter-widgets/base",
            "_view_module_version": "1.2.0",
            "_view_name": "LayoutView",
            "align_content": null,
            "align_items": null,
            "align_self": null,
            "border": null,
            "bottom": null,
            "display": null,
            "flex": null,
            "flex_flow": null,
            "grid_area": null,
            "grid_auto_columns": null,
            "grid_auto_flow": null,
            "grid_auto_rows": null,
            "grid_column": null,
            "grid_gap": null,
            "grid_row": null,
            "grid_template_areas": null,
            "grid_template_columns": null,
            "grid_template_rows": null,
            "height": null,
            "justify_content": null,
            "justify_items": null,
            "left": null,
            "margin": null,
            "max_height": null,
            "max_width": null,
            "min_height": null,
            "min_width": null,
            "object_fit": null,
            "object_position": null,
            "order": null,
            "overflow": null,
            "overflow_x": null,
            "overflow_y": null,
            "padding": null,
            "right": null,
            "top": null,
            "visibility": null,
            "width": null
          }
        },
        "8a0c4f28ad0940e399ab3924a55e0722": {
          "model_module": "@jupyter-widgets/base",
          "model_name": "LayoutModel",
          "model_module_version": "1.2.0",
          "state": {
            "_model_module": "@jupyter-widgets/base",
            "_model_module_version": "1.2.0",
            "_model_name": "LayoutModel",
            "_view_count": null,
            "_view_module": "@jupyter-widgets/base",
            "_view_module_version": "1.2.0",
            "_view_name": "LayoutView",
            "align_content": null,
            "align_items": null,
            "align_self": null,
            "border": null,
            "bottom": null,
            "display": null,
            "flex": null,
            "flex_flow": null,
            "grid_area": null,
            "grid_auto_columns": null,
            "grid_auto_flow": null,
            "grid_auto_rows": null,
            "grid_column": null,
            "grid_gap": null,
            "grid_row": null,
            "grid_template_areas": null,
            "grid_template_columns": null,
            "grid_template_rows": null,
            "height": null,
            "justify_content": null,
            "justify_items": null,
            "left": null,
            "margin": null,
            "max_height": null,
            "max_width": null,
            "min_height": null,
            "min_width": null,
            "object_fit": null,
            "object_position": null,
            "order": null,
            "overflow": null,
            "overflow_x": null,
            "overflow_y": null,
            "padding": null,
            "right": null,
            "top": null,
            "visibility": null,
            "width": null
          }
        },
        "b2abfb083dbb442c9b0c726df90faa5e": {
          "model_module": "@jupyter-widgets/controls",
          "model_name": "DescriptionStyleModel",
          "model_module_version": "1.5.0",
          "state": {
            "_model_module": "@jupyter-widgets/controls",
            "_model_module_version": "1.5.0",
            "_model_name": "DescriptionStyleModel",
            "_view_count": null,
            "_view_module": "@jupyter-widgets/base",
            "_view_module_version": "1.2.0",
            "_view_name": "StyleView",
            "description_width": ""
          }
        },
        "5e8474a0bc424739b136a9fe28f29bcd": {
          "model_module": "@jupyter-widgets/base",
          "model_name": "LayoutModel",
          "model_module_version": "1.2.0",
          "state": {
            "_model_module": "@jupyter-widgets/base",
            "_model_module_version": "1.2.0",
            "_model_name": "LayoutModel",
            "_view_count": null,
            "_view_module": "@jupyter-widgets/base",
            "_view_module_version": "1.2.0",
            "_view_name": "LayoutView",
            "align_content": null,
            "align_items": null,
            "align_self": null,
            "border": null,
            "bottom": null,
            "display": null,
            "flex": null,
            "flex_flow": null,
            "grid_area": null,
            "grid_auto_columns": null,
            "grid_auto_flow": null,
            "grid_auto_rows": null,
            "grid_column": null,
            "grid_gap": null,
            "grid_row": null,
            "grid_template_areas": null,
            "grid_template_columns": null,
            "grid_template_rows": null,
            "height": null,
            "justify_content": null,
            "justify_items": null,
            "left": null,
            "margin": null,
            "max_height": null,
            "max_width": null,
            "min_height": null,
            "min_width": null,
            "object_fit": null,
            "object_position": null,
            "order": null,
            "overflow": null,
            "overflow_x": null,
            "overflow_y": null,
            "padding": null,
            "right": null,
            "top": null,
            "visibility": null,
            "width": null
          }
        },
        "b21b249ff9754e208027bbaaedab99e4": {
          "model_module": "@jupyter-widgets/controls",
          "model_name": "ProgressStyleModel",
          "model_module_version": "1.5.0",
          "state": {
            "_model_module": "@jupyter-widgets/controls",
            "_model_module_version": "1.5.0",
            "_model_name": "ProgressStyleModel",
            "_view_count": null,
            "_view_module": "@jupyter-widgets/base",
            "_view_module_version": "1.2.0",
            "_view_name": "StyleView",
            "bar_color": null,
            "description_width": ""
          }
        }
      }
    }
  },
  "nbformat": 4,
  "nbformat_minor": 0
}